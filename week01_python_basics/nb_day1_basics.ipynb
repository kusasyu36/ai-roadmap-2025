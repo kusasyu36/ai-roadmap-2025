{
  "nbformat": 4,
  "nbformat_minor": 0,
  "metadata": {
    "colab": {
      "provenance": [],
      "authorship_tag": "ABX9TyPUWOIWTzIHRFqm0Rqr4B74",
      "include_colab_link": true
    },
    "kernelspec": {
      "name": "python3",
      "display_name": "Python 3"
    },
    "language_info": {
      "name": "python"
    }
  },
  "cells": [
    {
      "cell_type": "markdown",
      "metadata": {
        "id": "view-in-github",
        "colab_type": "text"
      },
      "source": [
        "<a href=\"https://colab.research.google.com/github/kusasyu36/ai-roadmap-2025/blob/main/week01_python_basics/nb_day1_basics.ipynb\" target=\"_parent\"><img src=\"https://colab.research.google.com/assets/colab-badge.svg\" alt=\"Open In Colab\"/></a>"
      ]
    },
    {
      "cell_type": "code",
      "execution_count": null,
      "metadata": {
        "id": "UUYSVg7H0Dve"
      },
      "outputs": [],
      "source": []
    },
    {
      "cell_type": "markdown",
      "source": [
        "# Week1 Day1 学習ログ\n",
        "- 日付: 2025-10-27\n",
        "- 目標: ColabとGitHubの接続 / Python基礎の最初の練習（数値演算・関数）\n",
        "- 開始:\n",
        "- 終了:\n",
        "- 今日やったこと:\n",
        "  - [ ] golden_ratio() の実装と検証\n",
        "  - [ ] bmi() の実装と検証\n",
        "- 明日のTODO:\n",
        "  - [ ] 1-2（変数と関数）本編を進める"
      ],
      "metadata": {
        "id": "J0zGBx4r0J7H"
      }
    },
    {
      "cell_type": "code",
      "source": [
        "# ウォームアップ：黄金比とBMI\n",
        "import math\n",
        "\n",
        "def golden_ratio():\n",
        "    \"\"\"黄金比 φ = (√5 + 1) / 2 を返す\"\"\"\n",
        "    return (math.sqrt(5) + 1) / 2\n",
        "\n",
        "def bmi(height_cm: float, weight_kg: float) -> float:\n",
        "    \"\"\"身長[cm], 体重[kg] から BMI を返す\"\"\"\n",
        "    h = height_cm / 100\n",
        "    return weight_kg / (h * h)\n",
        "\n",
        "# 検証セル（assert で自己テスト）\n",
        "assert abs(golden_ratio() - 1.618) < 1e-3\n",
        "assert 18 < bmi(170, 55) < 20\n",
        "\n",
        "print(\"OK: golden_ratio, bmi の基本テストに合格\")"
      ],
      "metadata": {
        "colab": {
          "base_uri": "https://localhost:8080/"
        },
        "id": "77ZNQngE0OhB",
        "outputId": "9ff3ec58-13a3-4f72-a981-3310f2e0bf13"
      },
      "execution_count": 1,
      "outputs": [
        {
          "output_type": "stream",
          "name": "stdout",
          "text": [
            "OK: golden_ratio, bmi の基本テストに合格\n"
          ]
        }
      ]
    },
    {
      "cell_type": "code",
      "source": [
        "# 小課題：平均・中央値・最頻値（最小限版）\n",
        "def mean_(xs):\n",
        "    return sum(xs) / len(xs)\n",
        "\n",
        "def median_(xs):\n",
        "    s = sorted(xs)\n",
        "    n = len(s)\n",
        "    m = n // 2\n",
        "    if n % 2 == 1:\n",
        "        return s[m]\n",
        "    else:\n",
        "        return (s[m-1] + s[m]) / 2\n",
        "\n",
        "def mode_(xs):\n",
        "    from collections import Counter\n",
        "    c = Counter(xs).most_common()\n",
        "    # 同率1位が複数あり得るが、ここでは1つ返す実装にする\n",
        "    return c[0][0]\n",
        "\n",
        "# 検証\n",
        "data = [1, 2, 2, 3, 4]\n",
        "assert mean_(data) == 12/5\n",
        "assert median_(data) == 2\n",
        "assert mode_(data) == 2\n",
        "\n",
        "print(\"OK: mean_/median_/mode_ の基本テストに合格\")"
      ],
      "metadata": {
        "colab": {
          "base_uri": "https://localhost:8080/"
        },
        "id": "m8rXmSYl0VCQ",
        "outputId": "e8dc4b2f-52f7-456c-e611-ffcfca6412df"
      },
      "execution_count": 2,
      "outputs": [
        {
          "output_type": "stream",
          "name": "stdout",
          "text": [
            "OK: mean_/median_/mode_ の基本テストに合格\n"
          ]
        }
      ]
    },
    {
      "cell_type": "code",
      "source": [],
      "metadata": {
        "id": "aluMJpoX0Y7h"
      },
      "execution_count": null,
      "outputs": []
    }
  ]
}