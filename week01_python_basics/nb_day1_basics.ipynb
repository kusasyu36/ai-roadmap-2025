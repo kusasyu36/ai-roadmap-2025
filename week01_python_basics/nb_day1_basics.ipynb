{
  "nbformat": 4,
  "nbformat_minor": 0,
  "metadata": {
    "colab": {
      "provenance": [],
      "authorship_tag": "ABX9TyPmDgxQDlAGZDsVwe4Wa2Vn",
      "include_colab_link": true
    },
    "kernelspec": {
      "name": "python3",
      "display_name": "Python 3"
    },
    "language_info": {
      "name": "python"
    }
  },
  "cells": [
    {
      "cell_type": "markdown",
      "metadata": {
        "id": "view-in-github",
        "colab_type": "text"
      },
      "source": [
        "<a href=\"https://colab.research.google.com/github/kusasyu36/ai-roadmap-2025/blob/main/week01_python_basics/nb_day1_basics.ipynb\" target=\"_parent\"><img src=\"https://colab.research.google.com/assets/colab-badge.svg\" alt=\"Open In Colab\"/></a>"
      ]
    },
    {
      "cell_type": "code",
      "execution_count": null,
      "metadata": {
        "id": "UUYSVg7H0Dve"
      },
      "outputs": [],
      "source": []
    },
    {
      "cell_type": "markdown",
      "source": [
        "# Week1 Day1 学習ログ\n",
        "- 日付: 2025-10-27\n",
        "- 目標: ColabとGitHubの接続 / Python基礎の最初の練習（数値演算・関数）\n",
        "- 開始:\n",
        "- 終了:\n",
        "- 今日やったこと:\n",
        "  - [ ] golden_ratio() の実装と検証\n",
        "  - [ ] bmi() の実装と検証\n",
        "- 明日のTODO:\n",
        "  - [ ] 1-2（変数と関数）本編を進める"
      ],
      "metadata": {
        "id": "J0zGBx4r0J7H"
      }
    },
    {
      "cell_type": "code",
      "source": [
        "import math\n",
        "(math.sqrt(5) + 1) / 2"
      ],
      "metadata": {
        "colab": {
          "base_uri": "https://localhost:8080/"
        },
        "id": "tMMhf1g8gZZj",
        "outputId": "3f980b2c-9f14-4a80-f93c-3cf354bfbb99"
      },
      "execution_count": 1,
      "outputs": [
        {
          "output_type": "execute_result",
          "data": {
            "text/plain": [
              "1.618033988749895"
            ]
          },
          "metadata": {},
          "execution_count": 1
        }
      ]
    },
    {
      "cell_type": "markdown",
      "source": [
        "練習 ft_to_cm\n",
        "f フィート i インチをセンチメートルに変換する関数 ft_to_cm(f,i) を定義してください。 ただし、1 フィート = 12 インチ = 30.48 cm としてよい。"
      ],
      "metadata": {
        "id": "bBa-2hpKhh8Q"
      }
    },
    {
      "cell_type": "code",
      "source": [
        "def ft_to_cm(f, i):\n",
        "  return (f + i/12) * 30.48\n"
      ],
      "metadata": {
        "id": "g_SWhfkuhi1D"
      },
      "execution_count": 2,
      "outputs": []
    },
    {
      "cell_type": "code",
      "source": [
        "assert round(ft_to_cm(5, 2) - 157.48, 6) == 0\n",
        "assert round(ft_to_cm(6, 5) - 195.58, 6) == 0"
      ],
      "metadata": {
        "id": "2MTn8dH2h9B4"
      },
      "execution_count": 3,
      "outputs": []
    },
    {
      "cell_type": "markdown",
      "source": [
        "練習 quadratic\n",
        "二次関数\n",
        " の値を求める quadratic(a,b,c,x) を定義してください。"
      ],
      "metadata": {
        "id": "N4qW-wPAiEYK"
      }
    },
    {
      "cell_type": "code",
      "source": [
        "def quadratic(a,b,c,x):\n",
        "  return a*x**2 + b*x + c"
      ],
      "metadata": {
        "id": "jNJttspCiLE1"
      },
      "execution_count": 7,
      "outputs": []
    },
    {
      "cell_type": "code",
      "source": [
        "assert quadratic(1, 2, 1, 3) == 16\n",
        "assert quadratic(1, -5, -2, 7) == 12"
      ],
      "metadata": {
        "id": "GLIzHXhJiKqP"
      },
      "execution_count": 8,
      "outputs": []
    },
    {
      "cell_type": "code",
      "source": [
        "def heron(a,b,c):\n",
        "    s = 0.5*(a+b+c)\n",
        "    print('The value of s is', s)\n",
        "    print(math.sqrt(s * (s-a) * (s-b) * (s-c)))"
      ],
      "metadata": {
        "id": "5R3StIFviDs9"
      },
      "execution_count": 9,
      "outputs": []
    },
    {
      "cell_type": "code",
      "source": [
        "heron(1,1,1)"
      ],
      "metadata": {
        "colab": {
          "base_uri": "https://localhost:8080/"
        },
        "id": "FlTP9Al2jGu2",
        "outputId": "69332280-7fcb-4a0e-f20e-83e015c31f88"
      },
      "execution_count": 11,
      "outputs": [
        {
          "output_type": "stream",
          "name": "stdout",
          "text": [
            "The value of s is 1.5\n",
            "0.4330127018922193\n"
          ]
        }
      ]
    },
    {
      "cell_type": "code",
      "source": [
        "heron(1,1,1) * 2"
      ],
      "metadata": {
        "colab": {
          "base_uri": "https://localhost:8080/",
          "height": 184
        },
        "id": "RHgzmkf9jdYT",
        "outputId": "67cf0879-731e-41b1-8bfe-17188b71ac9c"
      },
      "execution_count": 12,
      "outputs": [
        {
          "output_type": "stream",
          "name": "stdout",
          "text": [
            "The value of s is 1.5\n",
            "0.4330127018922193\n"
          ]
        },
        {
          "output_type": "error",
          "ename": "TypeError",
          "evalue": "unsupported operand type(s) for *: 'NoneType' and 'int'",
          "traceback": [
            "\u001b[0;31m---------------------------------------------------------------------------\u001b[0m",
            "\u001b[0;31mTypeError\u001b[0m                                 Traceback (most recent call last)",
            "\u001b[0;32m/tmp/ipython-input-3814109593.py\u001b[0m in \u001b[0;36m<cell line: 0>\u001b[0;34m()\u001b[0m\n\u001b[0;32m----> 1\u001b[0;31m \u001b[0mheron\u001b[0m\u001b[0;34m(\u001b[0m\u001b[0;36m1\u001b[0m\u001b[0;34m,\u001b[0m\u001b[0;36m1\u001b[0m\u001b[0;34m,\u001b[0m\u001b[0;36m1\u001b[0m\u001b[0;34m)\u001b[0m \u001b[0;34m*\u001b[0m \u001b[0;36m2\u001b[0m\u001b[0;34m\u001b[0m\u001b[0;34m\u001b[0m\u001b[0m\n\u001b[0m",
            "\u001b[0;31mTypeError\u001b[0m: unsupported operand type(s) for *: 'NoneType' and 'int'"
          ]
        }
      ]
    },
    {
      "cell_type": "markdown",
      "source": [
        "練習 qe_disc qe_solution1 qe_solution1\n",
        "二次方程式\n",
        " に関して以下のような関数を定義してください。\n",
        "\n",
        "判別式\n",
        " を求める qe_disc(a,b,c)\n",
        "\n",
        "解のうち、大きくない方を求める qe_solution1(a,b,c)\n",
        "\n",
        "解のうち、小さくない方を求める qe_solution2(a,b,c)\n",
        "\n",
        "ただし、qe_solution1 と qe_solution2 は qe_disc を使って定義してください。 二次方程式が実数解を持つと仮定してよいです。"
      ],
      "metadata": {
        "id": "rNDpMmxRjm0P"
      }
    },
    {
      "cell_type": "code",
      "source": [
        "import math\n",
        "\n",
        "def qe_disc(a, b, c):\n",
        "  return b**2 - 4*a*c\n",
        "\n",
        "def qe_solution2(a, b, c):\n",
        "  return ( -b + math.sqrt(qe_disc(a, b, c))) / (2*a)\n",
        "\n",
        "def qe_solution1(a, b, c):\n",
        "  return ( -b - math.sqrt(qe_disc(a, b, c))) / (2*a)"
      ],
      "metadata": {
        "id": "zogQ0IXAjnnP"
      },
      "execution_count": 39,
      "outputs": []
    },
    {
      "cell_type": "code",
      "source": [],
      "metadata": {
        "id": "ncmQMzACjnj4"
      },
      "execution_count": 39,
      "outputs": []
    },
    {
      "cell_type": "code",
      "source": [
        "round(qe_solution1(1, -5, 6) - 2, 6)"
      ],
      "metadata": {
        "colab": {
          "base_uri": "https://localhost:8080/"
        },
        "id": "xTgknQJkkc-Z",
        "outputId": "659e2d2e-02b3-4532-fa69-245425df636f"
      },
      "execution_count": 40,
      "outputs": [
        {
          "output_type": "execute_result",
          "data": {
            "text/plain": [
              "0.0"
            ]
          },
          "metadata": {},
          "execution_count": 40
        }
      ]
    },
    {
      "cell_type": "code",
      "source": [
        "assert round(qe_solution1(1, -2, 1) - 1, 6) == 0\n",
        "assert round(qe_solution2(1, -2, 1) - 1, 6) == 0\n",
        "assert round(qe_solution1(1, -5, 6) - 2, 6) == 0\n",
        "assert round(qe_solution2(1, -5, 6) - 3, 6) == 0"
      ],
      "metadata": {
        "id": "m8QfS3YkkNTf"
      },
      "execution_count": 41,
      "outputs": []
    },
    {
      "cell_type": "code",
      "source": [],
      "metadata": {
        "id": "Ckbr_BcgkNP2"
      },
      "execution_count": null,
      "outputs": []
    },
    {
      "cell_type": "code",
      "source": [],
      "metadata": {
        "id": "osPIcavWkNMM"
      },
      "execution_count": null,
      "outputs": []
    },
    {
      "cell_type": "code",
      "source": [],
      "metadata": {
        "id": "krzCm5W1kNJa"
      },
      "execution_count": null,
      "outputs": []
    },
    {
      "cell_type": "code",
      "source": [
        "# ウォームアップ：黄金比とBMI\n",
        "import math\n",
        "\n",
        "def golden_ratio():\n",
        "    \"\"\"黄金比 φ = (√5 + 1) / 2 を返す\"\"\"\n",
        "    return (math.sqrt(5) + 1) / 2\n",
        "\n",
        "def bmi(height_cm: float, weight_kg: float) -> float:\n",
        "    \"\"\"身長[cm], 体重[kg] から BMI を返す\"\"\"\n",
        "    h = height_cm / 100\n",
        "    return weight_kg / (h * h)\n",
        "\n",
        "# 検証セル（assert で自己テスト）\n",
        "assert abs(golden_ratio() - 1.618) < 1e-3\n",
        "assert 18 < bmi(170, 55) < 20\n",
        "\n",
        "print(\"OK: golden_ratio, bmi の基本テストに合格\")"
      ],
      "metadata": {
        "colab": {
          "base_uri": "https://localhost:8080/"
        },
        "id": "77ZNQngE0OhB",
        "outputId": "96b5d946-43d4-447f-a578-f48fb7231dc8"
      },
      "execution_count": 42,
      "outputs": [
        {
          "output_type": "stream",
          "name": "stdout",
          "text": [
            "OK: golden_ratio, bmi の基本テストに合格\n"
          ]
        }
      ]
    },
    {
      "cell_type": "code",
      "source": [
        "# 小課題：平均・中央値・最頻値（最小限版）\n",
        "def mean_(xs):\n",
        "    return sum(xs) / len(xs)\n",
        "\n",
        "def median_(xs):\n",
        "    s = sorted(xs)\n",
        "    n = len(s)\n",
        "    m = n // 2\n",
        "    if n % 2 == 1:\n",
        "        return s[m]\n",
        "    else:\n",
        "        return (s[m-1] + s[m]) / 2\n",
        "\n",
        "def mode_(xs):\n",
        "    from collections import Counter\n",
        "    c = Counter(xs).most_common()\n",
        "    # 同率1位が複数あり得るが、ここでは1つ返す実装にする\n",
        "    return c[0][0]\n",
        "\n",
        "# 検証\n",
        "data = [1, 2, 2, 3, 4]\n",
        "assert mean_(data) == 12/5\n",
        "assert median_(data) == 2\n",
        "assert mode_(data) == 2\n",
        "\n",
        "print(\"OK: mean_/median_/mode_ の基本テストに合格\")"
      ],
      "metadata": {
        "colab": {
          "base_uri": "https://localhost:8080/"
        },
        "id": "m8rXmSYl0VCQ",
        "outputId": "62fa8cff-d743-4cfb-f449-d18efd0a7ca2"
      },
      "execution_count": 43,
      "outputs": [
        {
          "output_type": "stream",
          "name": "stdout",
          "text": [
            "OK: mean_/median_/mode_ の基本テストに合格\n"
          ]
        }
      ]
    },
    {
      "cell_type": "code",
      "source": [],
      "metadata": {
        "id": "aluMJpoX0Y7h"
      },
      "execution_count": null,
      "outputs": []
    }
  ]
}