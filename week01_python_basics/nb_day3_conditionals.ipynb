{
  "nbformat": 4,
  "nbformat_minor": 0,
  "metadata": {
    "colab": {
      "provenance": [],
      "authorship_tag": "ABX9TyN14xO+tPl/Os2GO6UqGere",
      "include_colab_link": true
    },
    "kernelspec": {
      "name": "python3",
      "display_name": "Python 3"
    },
    "language_info": {
      "name": "python"
    }
  },
  "cells": [
    {
      "cell_type": "markdown",
      "metadata": {
        "id": "view-in-github",
        "colab_type": "text"
      },
      "source": [
        "<a href=\"https://colab.research.google.com/github/kusasyu36/ai-roadmap-2025/blob/main/week01_python_basics/nb_day3_conditionals.ipynb\" target=\"_parent\"><img src=\"https://colab.research.google.com/assets/colab-badge.svg\" alt=\"Open In Colab\"/></a>"
      ]
    },
    {
      "cell_type": "markdown",
      "source": [
        "if文による条件分岐\n",
        "制御構造については第2回と第3回で本格的に扱いますが、 ここでは if による条件分岐（if文）の基本的な形だけ紹介します。"
      ],
      "metadata": {
        "id": "R5gzWFHQxKxR"
      }
    },
    {
      "cell_type": "code",
      "source": [
        "def bmax(a,b):\n",
        "  if a > b:\n",
        "    return a\n",
        "  else:\n",
        "    return b"
      ],
      "metadata": {
        "id": "9nDgcKZrxpUm"
      },
      "execution_count": 1,
      "outputs": []
    },
    {
      "cell_type": "code",
      "source": [
        "bmax(3,10)"
      ],
      "metadata": {
        "colab": {
          "base_uri": "https://localhost:8080/"
        },
        "id": "DI7FUMzQx032",
        "outputId": "8e19aaf1-234d-497e-e875-0924188fb080"
      },
      "execution_count": 3,
      "outputs": [
        {
          "output_type": "execute_result",
          "data": {
            "text/plain": [
              "3"
            ]
          },
          "metadata": {},
          "execution_count": 3
        }
      ]
    },
    {
      "cell_type": "code",
      "source": [
        "def bmax(a,b):\n",
        "  if a > b:\n",
        "    return a\n",
        "  return b"
      ],
      "metadata": {
        "id": "RHkTO1T6x2XZ"
      },
      "execution_count": 4,
      "outputs": []
    },
    {
      "cell_type": "code",
      "source": [
        "bmax(3,10)"
      ],
      "metadata": {
        "colab": {
          "base_uri": "https://localhost:8080/"
        },
        "id": "YUjX2LRAx-hl",
        "outputId": "258d3f62-5af2-4099-ce76-7bbcaf4af478"
      },
      "execution_count": 5,
      "outputs": [
        {
          "output_type": "execute_result",
          "data": {
            "text/plain": [
              "10"
            ]
          },
          "metadata": {},
          "execution_count": 5
        }
      ]
    },
    {
      "cell_type": "markdown",
      "source": [
        "特に等しいかどうかの比較には == という演算子が使われることに注意してください。 = は代入の演算子です。"
      ],
      "metadata": {
        "id": "qRpFuFP7yO4G"
      }
    },
    {
      "cell_type": "code",
      "source": [
        "# i >= 0 and j > 0   # i は 0 以上で、かつ、j は 0 より大きい\n",
        "# i < 0 or j > 0     # i は 0 より小さいか、または、j は 0 より大きい\n",
        "2>=0 or 3<0"
      ],
      "metadata": {
        "colab": {
          "base_uri": "https://localhost:8080/"
        },
        "id": "PiyTSq_VyD8E",
        "outputId": "99a3cd4d-6ae6-442c-ad47-92635d8d795a"
      },
      "execution_count": 10,
      "outputs": [
        {
          "output_type": "execute_result",
          "data": {
            "text/plain": [
              "True"
            ]
          },
          "metadata": {},
          "execution_count": 10
        }
      ]
    },
    {
      "cell_type": "code",
      "source": [
        "# i == 1 or i == 2 or i == 3\n",
        "3 == 3 or 3==1"
      ],
      "metadata": {
        "colab": {
          "base_uri": "https://localhost:8080/"
        },
        "id": "fsCB3snnyD5N",
        "outputId": "5bbc1fb3-6732-4af7-e1db-d729493759eb"
      },
      "execution_count": 13,
      "outputs": [
        {
          "output_type": "execute_result",
          "data": {
            "text/plain": [
              "True"
            ]
          },
          "metadata": {},
          "execution_count": 13
        }
      ]
    },
    {
      "cell_type": "code",
      "source": [
        "# 1 < 2 < 3\n",
        "1 > 2 < 3"
      ],
      "metadata": {
        "colab": {
          "base_uri": "https://localhost:8080/"
        },
        "id": "6i6DX7mAyD2F",
        "outputId": "d24d4512-b56a-4b77-e75e-3a1e1aff53fd"
      },
      "execution_count": 16,
      "outputs": [
        {
          "output_type": "execute_result",
          "data": {
            "text/plain": [
              "False"
            ]
          },
          "metadata": {},
          "execution_count": 16
        }
      ]
    },
    {
      "cell_type": "code",
      "source": [
        "3 >= 2 < 5"
      ],
      "metadata": {
        "colab": {
          "base_uri": "https://localhost:8080/"
        },
        "id": "YhbpFE1HyDzh",
        "outputId": "569ccf47-a07c-4012-df02-68bf330fa49d"
      },
      "execution_count": 15,
      "outputs": [
        {
          "output_type": "execute_result",
          "data": {
            "text/plain": [
              "True"
            ]
          },
          "metadata": {},
          "execution_count": 15
        }
      ]
    },
    {
      "cell_type": "markdown",
      "source": [
        "練習 absolute\n",
        "\n",
        "数値 x の絶対値を求める関数 absolute(x) を定義してください。 Pythonには abs という絶対値を求める組み込み関数が用意されていますが、それを使わずに定義してください。\n",
        "\n"
      ],
      "metadata": {
        "id": "jaa5EXgly4Dx"
      }
    },
    {
      "cell_type": "code",
      "source": [
        "def absolute(x):\n",
        "  if x >= 0:\n",
        "    return x\n",
        "  else:\n",
        "    return -x"
      ],
      "metadata": {
        "id": "VP7t3eOXyxNQ"
      },
      "execution_count": 17,
      "outputs": []
    },
    {
      "cell_type": "code",
      "source": [
        "assert absolute(-3) == 3"
      ],
      "metadata": {
        "id": "QLP-d7t90_KC"
      },
      "execution_count": 20,
      "outputs": []
    },
    {
      "cell_type": "code",
      "source": [
        "assert absolute(5) == 5\n",
        "assert absolute(-5) == 5\n",
        "assert absolute(0) == 0"
      ],
      "metadata": {
        "id": "wLlR-Z371DAU"
      },
      "execution_count": 21,
      "outputs": []
    },
    {
      "cell_type": "markdown",
      "source": [
        "練習 sign\n",
        "\n",
        "x が正ならば 1、負ならば -1、ゼロならば 0 を返す関数 sign(x) を定義してください。\n",
        "\n"
      ],
      "metadata": {
        "id": "0UCBnv1N1PCA"
      }
    },
    {
      "cell_type": "code",
      "source": [
        "def sign(x):\n",
        "  if x > 0:\n",
        "    return 1\n",
        "  elif x < 0:\n",
        "    return -1\n",
        "  else:\n",
        "    return 0"
      ],
      "metadata": {
        "id": "m-Tdr-_01IhP"
      },
      "execution_count": 23,
      "outputs": []
    },
    {
      "cell_type": "code",
      "source": [
        "assert sign(5) == 1\n",
        "assert sign(-5) == -1\n",
        "assert sign(0) == 0"
      ],
      "metadata": {
        "id": "p6OIEyuw1d40"
      },
      "execution_count": 24,
      "outputs": []
    },
    {
      "cell_type": "markdown",
      "source": [
        "真理値を返す関数\n",
        "\n",
        "ここで、真理値を返す関数について説明します。\n",
        "\n",
        "Pythonが扱うデータには様々な種類があります。 数については既に見て来ました。\n",
        "\n",
        "真理値とは、 True または False のどちらかの値のことです。 これらは変数ではなく、組み込み定数であることに注意してください。\n",
        "\n",
        "True は、正しいこと（真）を表します。\n",
        "\n",
        "False は、間違ったこと（偽）を表します。\n",
        "\n",
        "実は、if の後の条件の式は、True か False を値として持ちます。"
      ],
      "metadata": {
        "id": "bxxAy1-J15FI"
      }
    },
    {
      "cell_type": "code",
      "source": [
        "def is_even(x):\n",
        "  return x%2 == 0"
      ],
      "metadata": {
        "id": "pfFV49_Y1v_4"
      },
      "execution_count": 25,
      "outputs": []
    },
    {
      "cell_type": "code",
      "source": [
        "is_even(11)"
      ],
      "metadata": {
        "colab": {
          "base_uri": "https://localhost:8080/"
        },
        "id": "5m329eD_1w_7",
        "outputId": "88de03ac-fa40-421a-e1c2-fb6de9dfb99e"
      },
      "execution_count": 27,
      "outputs": [
        {
          "output_type": "execute_result",
          "data": {
            "text/plain": [
              "False"
            ]
          },
          "metadata": {},
          "execution_count": 27
        }
      ]
    },
    {
      "cell_type": "code",
      "source": [
        "def is_odd(x):\n",
        "  if is_even(x):\n",
        "    return False\n",
        "  else:\n",
        "    return True\n"
      ],
      "metadata": {
        "id": "so0Hb3NI2Wl6"
      },
      "execution_count": 30,
      "outputs": []
    },
    {
      "cell_type": "code",
      "source": [
        "is_odd(111111001)"
      ],
      "metadata": {
        "colab": {
          "base_uri": "https://localhost:8080/"
        },
        "id": "D-WGYCMT2iQl",
        "outputId": "b6436000-b785-40bb-ee59-c798b12158c3"
      },
      "execution_count": 31,
      "outputs": [
        {
          "output_type": "execute_result",
          "data": {
            "text/plain": [
              "True"
            ]
          },
          "metadata": {},
          "execution_count": 31
        }
      ]
    },
    {
      "cell_type": "markdown",
      "source": [
        "オブジェクト\n",
        "\n",
        "Pythonにおける値（式の評価結果）は全てオブジェクトと総称されます。 変数の値もオブジェクトです。\n",
        "\n",
        "したがって、数や真理値もオブジェクトです。 今後、文字列やリストなど、様々な種類のデータが登場しますが、 それらは全てオブジェクトです。\n",
        "\n",
        "今後、オブジェクトという用語がところどころで出て来ますが、 オブジェクトとデータは同義と思って差し支えありません。 正確には、式の評価結果や変数の値となるデータがオブジェクトです。\n",
        "\n"
      ],
      "metadata": {
        "id": "AwdSw7Zv28Ll"
      }
    },
    {
      "cell_type": "markdown",
      "source": [
        "None という値は、特段の値が何もない、 ということを表すために使われることがあります。\n",
        "\n",
        "条件としては、None は偽と同様に扱われます。\n",
        "\n"
      ],
      "metadata": {
        "id": "BXTLCMve3G_n"
      }
    },
    {
      "cell_type": "code",
      "source": [
        "if None:\n",
        "    print('OK')\n",
        "else:\n",
        "    print('NG')"
      ],
      "metadata": {
        "colab": {
          "base_uri": "https://localhost:8080/"
        },
        "id": "3PaNmDtB2-xA",
        "outputId": "92d6eaa2-e63a-44cb-9b6d-897e2990d8a1"
      },
      "execution_count": 32,
      "outputs": [
        {
          "output_type": "stream",
          "name": "stdout",
          "text": [
            "NG\n"
          ]
        }
      ]
    },
    {
      "cell_type": "markdown",
      "source": [
        "▲条件として使われる他の値\n",
        "\n",
        "True と False の他に、他の種類のデータも、条件としても用いることができます。\n",
        "\n",
        "たとえば:\n",
        "\n",
        "数のうち、0 や 0.0 は偽、その他は真とみなされます。\n",
        "\n",
        "文字列では、空文字列 '' のみ偽、その他は真とみなされます。（文字列については2-1を参照。）\n",
        "\n",
        "組み込み定数 None は偽とみなされます。（None については上記参照。）"
      ],
      "metadata": {
        "id": "spn4n3Uj3Rr-"
      }
    },
    {
      "cell_type": "code",
      "source": [
        "if 0:\n",
        "    print('OK')\n",
        "else:\n",
        "    print('NG')"
      ],
      "metadata": {
        "colab": {
          "base_uri": "https://localhost:8080/"
        },
        "id": "A8PI_jVV2-tp",
        "outputId": "94e8a5e5-2ade-4a10-a50b-96f02fa7ce35"
      },
      "execution_count": 33,
      "outputs": [
        {
          "output_type": "stream",
          "name": "stdout",
          "text": [
            "NG\n"
          ]
        }
      ]
    },
    {
      "cell_type": "code",
      "source": [
        "if -1.1:\n",
        "    print('OK')\n",
        "else:\n",
        "    print('NG')"
      ],
      "metadata": {
        "colab": {
          "base_uri": "https://localhost:8080/"
        },
        "id": "NKd88hh71w5_",
        "outputId": "4853ca2d-1f9d-47e4-8eda-c3e916260e4b"
      },
      "execution_count": 34,
      "outputs": [
        {
          "output_type": "stream",
          "name": "stdout",
          "text": [
            "OK\n"
          ]
        }
      ]
    },
    {
      "cell_type": "markdown",
      "source": [
        "▲再帰\n",
        "\n",
        "一般に、定義しようとするもの自身を定義の中で参照することを、 再帰と言います。 再帰による定義を再帰的定義と言います。\n",
        "\n",
        "たとえば、数列の漸化式は再帰的定義と考えられます。 実際に、n 番目のフィボナッチ数を fib(n) とおくと、 fib(n) は次のような漸化式を満たします。"
      ],
      "metadata": {
        "id": "EdLGKRwW3bB6"
      }
    },
    {
      "cell_type": "code",
      "source": [
        "def fib(n):\n",
        "    if n < 2:\n",
        "        return n\n",
        "    else:\n",
        "        return fib(n-1) + fib(n-2)"
      ],
      "metadata": {
        "id": "6QhNtSn03aFJ"
      },
      "execution_count": 35,
      "outputs": []
    },
    {
      "cell_type": "markdown",
      "source": [
        "Day1/Day2で作った bmi(h_cm, w_kg) を使い、**BMIの区分（日本の一般的基準）**を返す関数を作る。\n",
        "\n",
        "※厚労省／日本肥満学会の分類に合わせておけばOK（任意指定でよい想定）"
      ],
      "metadata": {
        "id": "bdp3IPk95PkQ"
      }
    },
    {
      "cell_type": "code",
      "source": [
        "def bmi(h_cm, w_kg):\n",
        "  return w_kg / (h_cm/100)**2"
      ],
      "metadata": {
        "id": "2zkUl1DG3kiY"
      },
      "execution_count": 37,
      "outputs": []
    },
    {
      "cell_type": "code",
      "source": [
        "bmi(160, 60)"
      ],
      "metadata": {
        "colab": {
          "base_uri": "https://localhost:8080/"
        },
        "id": "3JASBaMn5jBu",
        "outputId": "4d62ba2a-f39a-402a-fe54-11b1fe3496a2"
      },
      "execution_count": 38,
      "outputs": [
        {
          "output_type": "execute_result",
          "data": {
            "text/plain": [
              "23.437499999999996"
            ]
          },
          "metadata": {},
          "execution_count": 38
        }
      ]
    },
    {
      "cell_type": "code",
      "source": [
        "def bmi_class(h_cm, w_kg):\n",
        "  if bmi(h_cm, w_kg) < 18.5:\n",
        "    return \"低体重（痩せ）\"\n",
        "  elif 18.5 <= bmi(h_cm, w_kg) <25:\n",
        "    return \"普通体重\"\n",
        "  elif 25 <= bmi(h_cm, w_kg) <30:\n",
        "    return \"肥満（1度）\"\n",
        "  elif 30 <= bmi(h_cm, w_kg) <35:\n",
        "    return \"肥満（2度）\"\n",
        "  return \"肥満（3度）\""
      ],
      "metadata": {
        "id": "hSj2U5DQ5vAE"
      },
      "execution_count": 44,
      "outputs": []
    },
    {
      "cell_type": "code",
      "source": [
        "bmi_class(160, 80)"
      ],
      "metadata": {
        "colab": {
          "base_uri": "https://localhost:8080/",
          "height": 35
        },
        "id": "vC4e-Rgq6EE_",
        "outputId": "61784a53-d746-47d6-aba9-05c414e48f6d"
      },
      "execution_count": 45,
      "outputs": [
        {
          "output_type": "execute_result",
          "data": {
            "text/plain": [
              "'肥満（2度）'"
            ],
            "application/vnd.google.colaboratory.intrinsic+json": {
              "type": "string"
            }
          },
          "metadata": {},
          "execution_count": 45
        }
      ]
    },
    {
      "cell_type": "code",
      "source": [
        "assert bmi_class(170, 55) ==\"普通体重\""
      ],
      "metadata": {
        "id": "KoI_HfET6Gwx"
      },
      "execution_count": 46,
      "outputs": []
    },
    {
      "cell_type": "code",
      "source": [
        "def bmi(height_cm: float, weight_kg: float) -> float:\n",
        "    \"\"\"身長[cm], 体重[kg] -> BMI\"\"\"\n",
        "    h = height_cm / 100.0\n",
        "    return weight_kg / (h * h)\n",
        "\n",
        "def bmi_class(height_cm: float, weight_kg: float) -> str:\n",
        "    \"\"\"\n",
        "    日本の一般的BMI区分に基づくカテゴリ文字列を返す。\n",
        "    - <18.5: 低体重（痩せ）\n",
        "    - 18.5–<25: 普通体重\n",
        "    - 25–<30: 肥満（1度）\n",
        "    - 30–<35: 肥満（2度）\n",
        "    - 35–<40: 肥満（3度）\n",
        "    - >=40: 肥満（4度）\n",
        "    \"\"\"\n",
        "    v = bmi(height_cm, weight_kg)\n",
        "    if v < 18.5:\n",
        "        return \"低体重（痩せ）\"\n",
        "    elif v < 25:\n",
        "        return \"普通体重\"\n",
        "    elif v < 30:\n",
        "        return \"肥満（1度）\"\n",
        "    elif v < 35:\n",
        "        return \"肥満（2度）\"\n",
        "    elif v < 40:\n",
        "        return \"肥満（3度）\"\n",
        "    else:\n",
        "        return \"肥満（4度）\"\n",
        "\n",
        "# 境界テスト（代表値）\n",
        "def _nearly(x, y, eps=1e-6): return abs(x - y) < eps\n",
        "\n",
        "# 例: 170cm / 55kg → BMI≈19.03 → 普通体重\n",
        "assert _nearly(bmi(170, 55), 19.03, 1e-2)\n",
        "assert bmi_class(170, 55) == \"普通体重\"\n",
        "\n",
        "# 例: 165cm / 49.9kg → BMI≈18.33 → 低体重\n",
        "assert bmi_class(165, 49.9) == \"低体重（痩せ）\"\n",
        "\n",
        "# 例: 170cm / 72kg → BMI≈24.91 → 普通体重（25未満）\n",
        "assert bmi_class(170, 72) == \"普通体重\"\n",
        "\n",
        "# 例: 170cm / 80kg → BMI≈27.68 → 肥満1度\n",
        "assert bmi_class(170, 80) == \"肥満（1度）\"\n",
        "\n",
        "# 例: 170cm / 100kg → BMI≈34.60 → 肥満2度\n",
        "assert bmi_class(170, 100) == \"肥満（2度）\"\n",
        "\n",
        "print(\"OK: bmi_class の基本テスト合格\")"
      ],
      "metadata": {
        "colab": {
          "base_uri": "https://localhost:8080/"
        },
        "id": "4wtfFUyj64XX",
        "outputId": "a45cdffb-3ff7-4440-f9e2-b8509672618c"
      },
      "execution_count": 47,
      "outputs": [
        {
          "output_type": "stream",
          "name": "stdout",
          "text": [
            "OK: bmi_class の基本テスト合格\n"
          ]
        }
      ]
    },
    {
      "cell_type": "markdown",
      "source": [
        "print と return\n",
        "\n",
        "関数が値を返すことを期待されている場合は、必ず return を使ってください。\n",
        "\n",
        "関数内で値を印字しても、関数の返値として利用することはできません。\n",
        "\n",
        "たとえば heron を以下のように定義すると、heron(1,1,1) * 2 のような計算ができなくなります。"
      ],
      "metadata": {
        "id": "lj72Cd2o7OwO"
      }
    },
    {
      "cell_type": "code",
      "source": [],
      "metadata": {
        "id": "aAYmYbCA68SW"
      },
      "execution_count": null,
      "outputs": []
    }
  ]
}