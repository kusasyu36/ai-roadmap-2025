{
  "nbformat": 4,
  "nbformat_minor": 0,
  "metadata": {
    "colab": {
      "provenance": [],
      "authorship_tag": "ABX9TyO1ETTnZ8mgTaWlRZ2RKc0C",
      "include_colab_link": true
    },
    "kernelspec": {
      "name": "python3",
      "display_name": "Python 3"
    },
    "language_info": {
      "name": "python"
    }
  },
  "cells": [
    {
      "cell_type": "markdown",
      "metadata": {
        "id": "view-in-github",
        "colab_type": "text"
      },
      "source": [
        "<a href=\"https://colab.research.google.com/github/kusasyu36/ai-roadmap-2025/blob/main/week01_python_basics/nb_day4_debugging.ipynb\" target=\"_parent\"><img src=\"https://colab.research.google.com/assets/colab-badge.svg\" alt=\"Open In Colab\"/></a>"
      ]
    },
    {
      "cell_type": "markdown",
      "source": [
        "仕様・テスト・デバッグ\n",
        "\n",
        "プログラムを書くときに、実現しようとしている事柄を仕様と呼びます。\n",
        "\n",
        "対象のプログラムが仕様に適合しているかを、実際にプログラムを動作させて検査することを、テストと呼びます。 テストの際に、テスト対象に与える入出力ペアのことを、テストケースと呼びます。\n",
        "\n",
        "書いたプログラムが仕様に適合しているかは、一般に自明ではありません。 テストによって、仕様に反したプログラムの振舞いが、しばしば浮き彫りになります。 仕様に反したプログラムの振舞いの原因を、バグと呼び、それを取り除くことをデバッグと呼びます。\n",
        "\n",
        "プログラミングでは、典型的には\n",
        "\n",
        "仕様を分析する\n",
        "\n",
        "プログラムを書く\n",
        "\n",
        "テストする\n",
        "\n",
        "デバッグする\n",
        "\n",
        "という4つの行いを、必要に応じて繰り返すことになります。\n",
        "\n",
        "assert文\n",
        "\n",
        "テストとデバッグに有用なのが、assert文です。 これは、assert の次に書かれた条件式が真であるべきだと仕様を宣言する文です。 偽であった場合は、AssertionError が発生してプログラムがそこで停止します。\n",
        "\n",
        "与えられた引数を二乗する関数 square を用いた具体例を示します。"
      ],
      "metadata": {
        "id": "L3dVYTX17_CT"
      }
    },
    {
      "cell_type": "code",
      "execution_count": 3,
      "metadata": {
        "id": "rc3iLLtw7wrV"
      },
      "outputs": [],
      "source": [
        "def square(x):\n",
        "  return x*x\n",
        "x=-2\n",
        "assert square(x) >= 0"
      ]
    },
    {
      "cell_type": "code",
      "source": [],
      "metadata": {
        "id": "uir96MgsKQvB"
      },
      "execution_count": null,
      "outputs": []
    },
    {
      "cell_type": "markdown",
      "source": [
        "このassert文では、仕様として条件式 square(x) >= 0 を宣言しています。 square 関数が「二乗する」という仕様に沿っているなら、その条件式は真であるべきです。 そして、実際 square はその仕様に適合しているので、ここではassert文が実行されても何も起きません。\n",
        "\n",
        "しかし、square にバグがあった場合は、話が変わります。"
      ],
      "metadata": {
        "id": "msVfLnY3Kde0"
      }
    },
    {
      "cell_type": "markdown",
      "source": [
        "テストケースは、テスト対象が満たすべき仕様という側面があるので、assert文はテストにも用いられます。\n",
        "\n"
      ],
      "metadata": {
        "id": "Rf0QZHy0KlIX"
      }
    },
    {
      "cell_type": "code",
      "source": [
        "def square(x):\n",
        "    return x*x\n",
        "\n",
        "assert square(2) == 4\n",
        "assert square(-2) == 4\n",
        "assert square(0) == 0"
      ],
      "metadata": {
        "id": "IcrU23NOKd1f"
      },
      "execution_count": 4,
      "outputs": []
    },
    {
      "cell_type": "markdown",
      "source": [
        "上の例では、squareに対する3つのテストケースについて、assert文でテストしています。テストケースが満たされた（つまりassert文で停止しなかった）からと言って、テスト対象の square が正しいとは言えませんが、仕様への適合度が高いことから、尤もらしいとは言えます。"
      ],
      "metadata": {
        "id": "0avevvROKtI7"
      }
    },
    {
      "cell_type": "markdown",
      "source": [
        "####エラーの分類\n",
        "\n",
        "不正なプログラムからは、様々なエラーが生じます。\n",
        "\n",
        "エラーには大きく分けて、**構文エラー・実行時エラー・論理エラー**の3つがあります。 以下では、それぞれの意味と、典型例を示します。\n",
        "\n",
        "**構文エラー**\n",
        "\n",
        "構文エラー（syntax error）とは、プログラムコードが、Pythonの構文に違反しているときに生じるエラーです。\n",
        "\n",
        "Pythonにおける構文エラーの典型例として、\n",
        "\n",
        "クォートや括弧の閉じ忘れ\n",
        "\n",
        "コロンのつけ忘れ\n",
        "\n",
        "インデントの崩れ\n",
        "\n",
        "全角スペースの利用\n",
        "\n",
        "== の代わりに = を使う\n",
        "\n",
        "変数の代わりに文字列を使う（Cf. 2-1 文字列）\n",
        "\n",
        "などが挙げられます。\n",
        "\n"
      ],
      "metadata": {
        "id": "CclnlwsgK0Vj"
      }
    },
    {
      "cell_type": "code",
      "source": [
        "print('This is the error) # クォートの閉じ忘れ\n"
      ],
      "metadata": {
        "colab": {
          "base_uri": "https://localhost:8080/",
          "height": 110
        },
        "id": "Qi-YhMKbKgBB",
        "outputId": "dcc0d2c1-a130-4665-be37-1ce1c98ad3c7"
      },
      "execution_count": 5,
      "outputs": [
        {
          "output_type": "error",
          "ename": "SyntaxError",
          "evalue": "unterminated string literal (detected at line 1) (ipython-input-756123208.py, line 1)",
          "traceback": [
            "\u001b[0;36m  File \u001b[0;32m\"/tmp/ipython-input-756123208.py\"\u001b[0;36m, line \u001b[0;32m1\u001b[0m\n\u001b[0;31m    print('This is the error) # クォートの閉じ忘れ\u001b[0m\n\u001b[0m          ^\u001b[0m\n\u001b[0;31mSyntaxError\u001b[0m\u001b[0;31m:\u001b[0m unterminated string literal (detected at line 1)\n"
          ]
        }
      ]
    },
    {
      "cell_type": "code",
      "source": [
        "def f()  # コロンの付け忘れ\n",
        "   return 1"
      ],
      "metadata": {
        "colab": {
          "base_uri": "https://localhost:8080/",
          "height": 110
        },
        "id": "lSxtT9N6Kf95",
        "outputId": "0ae0a6bc-0f2c-4bde-e3fa-95c62cea1fed"
      },
      "execution_count": 6,
      "outputs": [
        {
          "output_type": "error",
          "ename": "SyntaxError",
          "evalue": "expected ':' (ipython-input-592770939.py, line 1)",
          "traceback": [
            "\u001b[0;36m  File \u001b[0;32m\"/tmp/ipython-input-592770939.py\"\u001b[0;36m, line \u001b[0;32m1\u001b[0m\n\u001b[0;31m    def f()  # コロンの付け忘れ\u001b[0m\n\u001b[0m             ^\u001b[0m\n\u001b[0;31mSyntaxError\u001b[0m\u001b[0;31m:\u001b[0m expected ':'\n"
          ]
        }
      ]
    },
    {
      "cell_type": "code",
      "source": [
        "def f():\n",
        "return 1 # インデントの崩れ"
      ],
      "metadata": {
        "colab": {
          "base_uri": "https://localhost:8080/",
          "height": 110
        },
        "id": "-R2IA9UbKf4r",
        "outputId": "e2b32ff1-1d12-4f6e-8e2d-541a9d81b2fd"
      },
      "execution_count": 7,
      "outputs": [
        {
          "output_type": "error",
          "ename": "IndentationError",
          "evalue": "expected an indented block after function definition on line 1 (ipython-input-56312742.py, line 2)",
          "traceback": [
            "\u001b[0;36m  File \u001b[0;32m\"/tmp/ipython-input-56312742.py\"\u001b[0;36m, line \u001b[0;32m2\u001b[0m\n\u001b[0;31m    return 1 # インデントの崩れ\u001b[0m\n\u001b[0m    ^\u001b[0m\n\u001b[0;31mIndentationError\u001b[0m\u001b[0;31m:\u001b[0m expected an indented block after function definition on line 1\n"
          ]
        }
      ]
    },
    {
      "cell_type": "code",
      "source": [
        "1 +　1 # 全角スペースの利用\n"
      ],
      "metadata": {
        "colab": {
          "base_uri": "https://localhost:8080/",
          "height": 110
        },
        "id": "AYo4REpoKf2F",
        "outputId": "19750404-6ea4-45b2-8505-e535151fe5d7"
      },
      "execution_count": 8,
      "outputs": [
        {
          "output_type": "error",
          "ename": "SyntaxError",
          "evalue": "invalid non-printable character U+3000 (ipython-input-3474007293.py, line 1)",
          "traceback": [
            "\u001b[0;36m  File \u001b[0;32m\"/tmp/ipython-input-3474007293.py\"\u001b[0;36m, line \u001b[0;32m1\u001b[0m\n\u001b[0;31m    1 +　1 # 全角スペースの利用\u001b[0m\n\u001b[0m       ^\u001b[0m\n\u001b[0;31mSyntaxError\u001b[0m\u001b[0;31m:\u001b[0m invalid non-printable character U+3000\n"
          ]
        }
      ]
    },
    {
      "cell_type": "markdown",
      "source": [
        "構文エラーに直面した際は、エラーメッセージをよく読んで、原因を推察しましょう。 上の例が示すように、エラーメッセージの説明は、必ずしも分かり易くないですが、原因の位置を絞りこむには有用です。\n",
        "\n",
        "Pythonでは、構文エラーが実行時に発生しているように見えますが、実際には、実行しようとするプログラムコードの解釈に失敗することでエラーが生じています。 つまり、構文エラーは、プログラムの実行によって生じるエラーではなく、実行できなかったことで生じるエラーです。"
      ],
      "metadata": {
        "id": "2XSOna1aLgHs"
      }
    },
    {
      "cell_type": "markdown",
      "source": [
        "#####実行時エラー\n",
        "\n",
        "実行時エラー（runtime error）とは、プログラムを実行した際に生じるエラー全般を指します。 簡単に言えば、プログラムを異常停止させるエラーです。\n",
        "\n",
        "実行時エラーが生じる典型的な状況として、\n",
        "\n",
        "存在しない名前の利用（変数名・関数名・メソッド名の誤植）\n",
        "\n",
        "グローバル変数のつもりでローカル変数を参照（Cf. 3-3 関数）\n",
        "\n",
        "ゼロによる除算\n",
        "\n",
        "辞書に登録されていないキーに対する値を取得（Cf. 3-1 辞書）\n",
        "\n",
        "存在しないファイルの読み込み（Cf. 4-1 ファイル入出力）\n",
        "\n",
        "assert文における条件の不成立\n",
        "\n",
        "などが挙げられます。"
      ],
      "metadata": {
        "id": "dO4Sf0__LoNI"
      }
    },
    {
      "cell_type": "code",
      "source": [
        "undefined_variable # 未定義の変数の参照\n"
      ],
      "metadata": {
        "colab": {
          "base_uri": "https://localhost:8080/",
          "height": 147
        },
        "id": "6NtCPNB2Kfyt",
        "outputId": "4780d324-628a-4e3b-fc97-26f9341d6cdc"
      },
      "execution_count": 9,
      "outputs": [
        {
          "output_type": "error",
          "ename": "NameError",
          "evalue": "name 'undefined_variable' is not defined",
          "traceback": [
            "\u001b[0;31m---------------------------------------------------------------------------\u001b[0m",
            "\u001b[0;31mNameError\u001b[0m                                 Traceback (most recent call last)",
            "\u001b[0;32m/tmp/ipython-input-926048755.py\u001b[0m in \u001b[0;36m<cell line: 0>\u001b[0;34m()\u001b[0m\n\u001b[0;32m----> 1\u001b[0;31m \u001b[0mundefined_variable\u001b[0m \u001b[0;31m# 未定義の変数の参照\u001b[0m\u001b[0;34m\u001b[0m\u001b[0;34m\u001b[0m\u001b[0m\n\u001b[0m",
            "\u001b[0;31mNameError\u001b[0m: name 'undefined_variable' is not defined"
          ]
        }
      ]
    },
    {
      "cell_type": "code",
      "source": [
        "x = 1\n",
        "def f():\n",
        "    x = x # グローバル変数のつもりでローカル変数を参照\n",
        "f()"
      ],
      "metadata": {
        "colab": {
          "base_uri": "https://localhost:8080/",
          "height": 294
        },
        "id": "CAY4Mn3XLY2k",
        "outputId": "40d925b6-f0b8-4429-afdc-2bc7c1aa5235"
      },
      "execution_count": 10,
      "outputs": [
        {
          "output_type": "error",
          "ename": "UnboundLocalError",
          "evalue": "cannot access local variable 'x' where it is not associated with a value",
          "traceback": [
            "\u001b[0;31m---------------------------------------------------------------------------\u001b[0m",
            "\u001b[0;31mUnboundLocalError\u001b[0m                         Traceback (most recent call last)",
            "\u001b[0;32m/tmp/ipython-input-2530582621.py\u001b[0m in \u001b[0;36m<cell line: 0>\u001b[0;34m()\u001b[0m\n\u001b[1;32m      2\u001b[0m \u001b[0;32mdef\u001b[0m \u001b[0mf\u001b[0m\u001b[0;34m(\u001b[0m\u001b[0;34m)\u001b[0m\u001b[0;34m:\u001b[0m\u001b[0;34m\u001b[0m\u001b[0;34m\u001b[0m\u001b[0m\n\u001b[1;32m      3\u001b[0m     \u001b[0mx\u001b[0m \u001b[0;34m=\u001b[0m \u001b[0mx\u001b[0m \u001b[0;31m# グローバル変数のつもりでローカル変数を参照\u001b[0m\u001b[0;34m\u001b[0m\u001b[0;34m\u001b[0m\u001b[0m\n\u001b[0;32m----> 4\u001b[0;31m \u001b[0mf\u001b[0m\u001b[0;34m(\u001b[0m\u001b[0;34m)\u001b[0m\u001b[0;34m\u001b[0m\u001b[0;34m\u001b[0m\u001b[0m\n\u001b[0m",
            "\u001b[0;32m/tmp/ipython-input-2530582621.py\u001b[0m in \u001b[0;36mf\u001b[0;34m()\u001b[0m\n\u001b[1;32m      1\u001b[0m \u001b[0mx\u001b[0m \u001b[0;34m=\u001b[0m \u001b[0;36m1\u001b[0m\u001b[0;34m\u001b[0m\u001b[0;34m\u001b[0m\u001b[0m\n\u001b[1;32m      2\u001b[0m \u001b[0;32mdef\u001b[0m \u001b[0mf\u001b[0m\u001b[0;34m(\u001b[0m\u001b[0;34m)\u001b[0m\u001b[0;34m:\u001b[0m\u001b[0;34m\u001b[0m\u001b[0;34m\u001b[0m\u001b[0m\n\u001b[0;32m----> 3\u001b[0;31m     \u001b[0mx\u001b[0m \u001b[0;34m=\u001b[0m \u001b[0mx\u001b[0m \u001b[0;31m# グローバル変数のつもりでローカル変数を参照\u001b[0m\u001b[0;34m\u001b[0m\u001b[0;34m\u001b[0m\u001b[0m\n\u001b[0m\u001b[1;32m      4\u001b[0m \u001b[0mf\u001b[0m\u001b[0;34m(\u001b[0m\u001b[0;34m)\u001b[0m\u001b[0;34m\u001b[0m\u001b[0;34m\u001b[0m\u001b[0m\n",
            "\u001b[0;31mUnboundLocalError\u001b[0m: cannot access local variable 'x' where it is not associated with a value"
          ]
        }
      ]
    },
    {
      "cell_type": "code",
      "source": [
        "1/0 # ゼロによる除算"
      ],
      "metadata": {
        "colab": {
          "base_uri": "https://localhost:8080/",
          "height": 147
        },
        "id": "WPgTAtZ6LYy6",
        "outputId": "5fa2410b-d4ac-46fe-eada-7b36a5f65d2b"
      },
      "execution_count": 11,
      "outputs": [
        {
          "output_type": "error",
          "ename": "ZeroDivisionError",
          "evalue": "division by zero",
          "traceback": [
            "\u001b[0;31m---------------------------------------------------------------------------\u001b[0m",
            "\u001b[0;31mZeroDivisionError\u001b[0m                         Traceback (most recent call last)",
            "\u001b[0;32m/tmp/ipython-input-2808883117.py\u001b[0m in \u001b[0;36m<cell line: 0>\u001b[0;34m()\u001b[0m\n\u001b[0;32m----> 1\u001b[0;31m \u001b[0;36m1\u001b[0m\u001b[0;34m/\u001b[0m\u001b[0;36m0\u001b[0m \u001b[0;31m# ゼロによる除算\u001b[0m\u001b[0;34m\u001b[0m\u001b[0;34m\u001b[0m\u001b[0m\n\u001b[0m",
            "\u001b[0;31mZeroDivisionError\u001b[0m: division by zero"
          ]
        }
      ]
    },
    {
      "cell_type": "code",
      "source": [
        "{'a': 1}['b'] # 登録されていないキーに対する値を参照\n"
      ],
      "metadata": {
        "colab": {
          "base_uri": "https://localhost:8080/",
          "height": 147
        },
        "id": "APKv9FrnLYwT",
        "outputId": "ef23eb04-ed8d-403d-c552-46690263c40b"
      },
      "execution_count": 12,
      "outputs": [
        {
          "output_type": "error",
          "ename": "KeyError",
          "evalue": "'b'",
          "traceback": [
            "\u001b[0;31m---------------------------------------------------------------------------\u001b[0m",
            "\u001b[0;31mKeyError\u001b[0m                                  Traceback (most recent call last)",
            "\u001b[0;32m/tmp/ipython-input-1481710513.py\u001b[0m in \u001b[0;36m<cell line: 0>\u001b[0;34m()\u001b[0m\n\u001b[0;32m----> 1\u001b[0;31m \u001b[0;34m{\u001b[0m\u001b[0;34m'a'\u001b[0m\u001b[0;34m:\u001b[0m \u001b[0;36m1\u001b[0m\u001b[0;34m}\u001b[0m\u001b[0;34m[\u001b[0m\u001b[0;34m'b'\u001b[0m\u001b[0;34m]\u001b[0m \u001b[0;31m# 登録されていないキーに対する値を参照\u001b[0m\u001b[0;34m\u001b[0m\u001b[0;34m\u001b[0m\u001b[0m\n\u001b[0m",
            "\u001b[0;31mKeyError\u001b[0m: 'b'"
          ]
        }
      ]
    },
    {
      "cell_type": "code",
      "source": [
        "open('non-existent.txt', 'r') # 存在しないファイルの読み込み\n"
      ],
      "metadata": {
        "colab": {
          "base_uri": "https://localhost:8080/",
          "height": 147
        },
        "id": "6XT74pxTLYtN",
        "outputId": "c2eba502-2cc1-4b3e-8e2e-04acb1372e34"
      },
      "execution_count": 13,
      "outputs": [
        {
          "output_type": "error",
          "ename": "FileNotFoundError",
          "evalue": "[Errno 2] No such file or directory: 'non-existent.txt'",
          "traceback": [
            "\u001b[0;31m---------------------------------------------------------------------------\u001b[0m",
            "\u001b[0;31mFileNotFoundError\u001b[0m                         Traceback (most recent call last)",
            "\u001b[0;32m/tmp/ipython-input-3070142246.py\u001b[0m in \u001b[0;36m<cell line: 0>\u001b[0;34m()\u001b[0m\n\u001b[0;32m----> 1\u001b[0;31m \u001b[0mopen\u001b[0m\u001b[0;34m(\u001b[0m\u001b[0;34m'non-existent.txt'\u001b[0m\u001b[0;34m,\u001b[0m \u001b[0;34m'r'\u001b[0m\u001b[0;34m)\u001b[0m \u001b[0;31m# 存在しないファイルの読み込み\u001b[0m\u001b[0;34m\u001b[0m\u001b[0;34m\u001b[0m\u001b[0m\n\u001b[0m",
            "\u001b[0;31mFileNotFoundError\u001b[0m: [Errno 2] No such file or directory: 'non-existent.txt'"
          ]
        }
      ]
    },
    {
      "cell_type": "markdown",
      "source": [
        "実行時エラーについては、送出される例外名（上の例では NameError・UnboundLocalError・ZeroDivisionError・KeyError・FileNotFoundError）が自己説明的であり、それに付随するエラーメッセージも、大抵原因を分かり易く説明してくれます。\n",
        "\n",
        "実行時エラーに直面した際は、発生した例外名とエラーメッセージをよく読んで、エラーに関連する言語機能（たとえば辞書やファイル）の仕組みを改めて確認しましょう。"
      ],
      "metadata": {
        "id": "9Q8E3fHUMTkb"
      }
    },
    {
      "cell_type": "markdown",
      "source": [
        "####論理エラー\n",
        "\n",
        "論理エラー（logic error）とは、プログラムを実行できるが、意図したように動作しないことを意味します。 これは、プログラムから発生するエラーではなく、プログラムを書いた人のエラーです。\n",
        "\n",
        "バグと呼ばれるものの多くは、論理エラーです。 したがって、デバッグでは、プログラムを書いた人の意図と、プログラムの振舞いを比較検証することになります。\n",
        "\n",
        "assert文は、仕様違反という論理エラーを、 AssertionError という実行時エラーに変換していると見做すことができます。\n",
        "\n"
      ],
      "metadata": {
        "id": "74_PEO1pMift"
      }
    },
    {
      "cell_type": "markdown",
      "source": [
        "#####デバッグの具体例¶\n",
        "\n",
        "デバッグの具体的なシナリオを説明します。 次の関数 median(x, y, z) は、x と y と z の中央値（真ん中の値）を求めようとするものです。 ただし、 x と y と z は相異なる数であると仮定します。\n",
        "\n"
      ],
      "metadata": {
        "id": "5IKAldUfMy1w"
      }
    },
    {
      "cell_type": "code",
      "source": [
        "def median(x, y, z):\n",
        "  if x > y:\n",
        "    x = y\n",
        "    y = x\n",
        "  if z < x:\n",
        "    return x\n",
        "  if z < y:\n",
        "    return z\n",
        "  return y\n",
        "\n",
        "assert median(3,1,2) == 2"
      ],
      "metadata": {
        "colab": {
          "base_uri": "https://localhost:8080/",
          "height": 184
        },
        "id": "2M9kzqnAMMa3",
        "outputId": "ca0c1a29-ce39-4cca-914e-2a3d49e51190"
      },
      "execution_count": 15,
      "outputs": [
        {
          "output_type": "error",
          "ename": "AssertionError",
          "evalue": "",
          "traceback": [
            "\u001b[0;31m---------------------------------------------------------------------------\u001b[0m",
            "\u001b[0;31mAssertionError\u001b[0m                            Traceback (most recent call last)",
            "\u001b[0;32m/tmp/ipython-input-1553744817.py\u001b[0m in \u001b[0;36m<cell line: 0>\u001b[0;34m()\u001b[0m\n\u001b[1;32m      9\u001b[0m   \u001b[0;32mreturn\u001b[0m \u001b[0my\u001b[0m\u001b[0;34m\u001b[0m\u001b[0;34m\u001b[0m\u001b[0m\n\u001b[1;32m     10\u001b[0m \u001b[0;34m\u001b[0m\u001b[0m\n\u001b[0;32m---> 11\u001b[0;31m \u001b[0;32massert\u001b[0m \u001b[0mmedian\u001b[0m\u001b[0;34m(\u001b[0m\u001b[0;36m3\u001b[0m\u001b[0;34m,\u001b[0m\u001b[0;36m1\u001b[0m\u001b[0;34m,\u001b[0m\u001b[0;36m2\u001b[0m\u001b[0;34m)\u001b[0m \u001b[0;34m==\u001b[0m \u001b[0;36m2\u001b[0m\u001b[0;34m\u001b[0m\u001b[0;34m\u001b[0m\u001b[0m\n\u001b[0m",
            "\u001b[0;31mAssertionError\u001b[0m: "
          ]
        }
      ]
    },
    {
      "cell_type": "code",
      "source": [
        "def median(x, y, z):\n",
        "    print(x, y, z)\n",
        "    if x > y:\n",
        "        x = y\n",
        "        y = x\n",
        "    print(x, y, z)\n",
        "    if z < x:\n",
        "        return x\n",
        "    if z < y:\n",
        "        return z\n",
        "    return y\n",
        "\n",
        "assert median(3, 1, 2) == 2"
      ],
      "metadata": {
        "colab": {
          "base_uri": "https://localhost:8080/",
          "height": 221
        },
        "id": "HFF0F0VfNvsV",
        "outputId": "7fc11450-dae8-4496-d3ea-e9c492b1396f"
      },
      "execution_count": 18,
      "outputs": [
        {
          "output_type": "stream",
          "name": "stdout",
          "text": [
            "3 1 2\n",
            "1 1 2\n"
          ]
        },
        {
          "output_type": "error",
          "ename": "AssertionError",
          "evalue": "",
          "traceback": [
            "\u001b[0;31m---------------------------------------------------------------------------\u001b[0m",
            "\u001b[0;31mAssertionError\u001b[0m                            Traceback (most recent call last)",
            "\u001b[0;32m/tmp/ipython-input-655774478.py\u001b[0m in \u001b[0;36m<cell line: 0>\u001b[0;34m()\u001b[0m\n\u001b[1;32m     11\u001b[0m     \u001b[0;32mreturn\u001b[0m \u001b[0my\u001b[0m\u001b[0;34m\u001b[0m\u001b[0;34m\u001b[0m\u001b[0m\n\u001b[1;32m     12\u001b[0m \u001b[0;34m\u001b[0m\u001b[0m\n\u001b[0;32m---> 13\u001b[0;31m \u001b[0;32massert\u001b[0m \u001b[0mmedian\u001b[0m\u001b[0;34m(\u001b[0m\u001b[0;36m3\u001b[0m\u001b[0;34m,\u001b[0m \u001b[0;36m1\u001b[0m\u001b[0;34m,\u001b[0m \u001b[0;36m2\u001b[0m\u001b[0;34m)\u001b[0m \u001b[0;34m==\u001b[0m \u001b[0;36m2\u001b[0m\u001b[0;34m\u001b[0m\u001b[0;34m\u001b[0m\u001b[0m\n\u001b[0m",
            "\u001b[0;31mAssertionError\u001b[0m: "
          ]
        }
      ]
    },
    {
      "cell_type": "markdown",
      "source": [
        "関数の入口にある最初の print では、期待通りに実引数となる 3・1・2 が、x・y・z に代入されています。 しかし、2番目の print では、 3 が消えて 1 が複製されています。 このことから、この2つの print の間にあるif文が疑わしいことが分かります。\n",
        "\n",
        "問題のif文は、x と y の値を入れ替える意図があるものでした。 その意図を正しく反映すると、次のようになります。"
      ],
      "metadata": {
        "id": "KlSFSnqOOuas"
      }
    },
    {
      "cell_type": "code",
      "source": [
        "def median(x, y, z):\n",
        "    print(x, y, z)\n",
        "    if x > y:\n",
        "        w = x\n",
        "        x = y\n",
        "        y = w\n",
        "    print(x, y, z)\n",
        "    if z < x:\n",
        "        return x\n",
        "    if z < y:\n",
        "        return z\n",
        "    return y\n",
        "\n",
        "assert median(3, 1, 2) == 2"
      ],
      "metadata": {
        "colab": {
          "base_uri": "https://localhost:8080/"
        },
        "id": "qEqRVmDpNvpu",
        "outputId": "ba2205a1-eeef-4140-b135-47c04bf4a97d"
      },
      "execution_count": 20,
      "outputs": [
        {
          "output_type": "stream",
          "name": "stdout",
          "text": [
            "3 1 2\n",
            "1 3 2\n"
          ]
        }
      ]
    },
    {
      "cell_type": "markdown",
      "source": [
        "######コーディングスタイル\n",
        "\n",
        "実は、生じたバグを取る対処法よりも、そもそもバグが生じにくくする予防法の方が大切です。 Pythonにおいて特に重要視されているのが、コーディングスタイル、つまりコードの書き方です。 読みにくい（可読性の低い）コードだと、些細なミスが生じやすく、また見つけにくいからです。\n",
        "\n",
        "PythonではPEP8（非公式日本語訳）と呼ばれる公式のスタイルガイドがあります。 PEP8には様々な側面でスタイルに関する規則があり、コードの可読性を高めることが強く推奨されています。 ここまでに扱った言語の要素について、たとえば、\n",
        "\n",
        "インデントは半角スペースを4つで1レベル\n",
        "\n",
        "= += == などの演算子の前後に半角スペースを1つ入れる\n",
        "\n",
        "* と + の複合式では + の前後に半角スペースを1つ入れる（例：2*x + y）\n",
        "\n",
        "関数の開き括弧の前にスペースを入れない\n",
        "\n",
        "l I O を変数名として使わない\n",
        "\n",
        "真理値の比較に == や is を使わない\n",
        "\n",
        "などが代表的です。\n",
        "\n",
        "PEP8に基づいたコーディングスタイルの自動検査器もあります（参照：pycodestyle）。 オンラインサービスもいくつか利用できるので（例：PEP8 online）、適宜活用してみましょう。\n",
        "\n",
        "PEP8には陽に言及されていないものの、プログラミング一般に重要なこともあります。 たとえば、\n",
        "\n",
        "自己説明的でない“マジックナンバー”ではなく記号的に意味がわかる変数を使う\n",
        "\n",
        "不要なコードは削除する\n",
        "\n",
        "1つの関数では1つのタスクだけを処理する\n",
        "\n",
        "などは、可読性を上げる代表的なポイントです。\n",
        "\n",
        "勘違いはバグを引き起こします。自らが勘違いしないコードを書くことが肝要です。"
      ],
      "metadata": {
        "id": "_NXxUCIAPZBh"
      }
    },
    {
      "cell_type": "code",
      "source": [],
      "metadata": {
        "id": "EioeiZW3Nvmn"
      },
      "execution_count": null,
      "outputs": []
    },
    {
      "cell_type": "markdown",
      "source": [
        "if の強化練習\n",
        "\n",
        "① 段階料金その1：送料を決める関数（15分）\n",
        "\n",
        "仕様（練習用）\n",
        "\n",
        "\t•\t引数：total（購入額, int/float）, is_member=False（会員なら送料無料）\n",
        "\t•\t返り値：送料（int）\n",
        "\t•\tルール：\n",
        "\t•\t会員（is_member=True）なら常に 0 円\n",
        "\t•\t非会員なら\n",
        "\t•\t0 <= total < 5,000 → 1,000 円\n",
        "\t•\t5,000 <= total < 10,000 → 500 円\n",
        "\t•\ttotal >= 10,000 → 0 円\n",
        "\t•\tポイント：連鎖比較（5000 <= total < 10000）と or/and/not を必ず1回使う"
      ],
      "metadata": {
        "id": "w8G_6TAQROkO"
      }
    },
    {
      "cell_type": "code",
      "source": [
        "def souryo(total, is_member):\n",
        "  if is_member==True:\n",
        "    return 0\n",
        "  elif is_member==False and 0 <= total <5000:\n",
        "    return 1000\n",
        "  elif is_member==False and 5000 <= total <10000:\n",
        "    return 500\n",
        "  elif is_member==False and 10000 <= total:\n",
        "    return 0\n",
        "\n",
        "assert souryo(1100, False) == 1000\n",
        "\n",
        ""
      ],
      "metadata": {
        "id": "5TJHzvuoNvkA"
      },
      "execution_count": 23,
      "outputs": []
    },
    {
      "cell_type": "code",
      "source": [
        "def shipping_fee(total: float, is_member: bool = False) -> int:\n",
        "    \"\"\"練習用の段階送料計算\"\"\"\n",
        "    # ガード：負の金額は受け付けない\n",
        "    assert total >= 0, \"total は 0 以上\"\n",
        "\n",
        "    if is_member:\n",
        "        return 0\n",
        "\n",
        "    if total < 5000:\n",
        "        return 1000\n",
        "    elif 5000 <= total < 10000:   # ← 連鎖比較\n",
        "        return 500\n",
        "    else:  # total >= 10000\n",
        "        return 0\n",
        "\n",
        "# and/or/not を最低1回使う例（読書用割引クーポンのときは非会員でも無料）\n",
        "def shipping_fee_with_coupon(total: float, is_member: bool = False, has_coupon: bool = False) -> int:\n",
        "    if is_member or has_coupon:     # ← or を使用\n",
        "        return 0\n",
        "    return shipping_fee(total, False)\n",
        "\n",
        "# 最低限の自己テスト\n",
        "assert shipping_fee(0) == 1000\n",
        "assert shipping_fee(4999.99) == 1000\n",
        "assert shipping_fee(5000) == 500\n",
        "assert shipping_fee(9999.99) == 500\n",
        "assert shipping_fee(10000) == 0\n",
        "assert shipping_fee(100, is_member=True) == 0\n",
        "assert shipping_fee_with_coupon(100, has_coupon=True) == 0\n",
        "print(\"OK: shipping_fee 系テスト通過\")"
      ],
      "metadata": {
        "colab": {
          "base_uri": "https://localhost:8080/"
        },
        "id": "miGNo_k-NvhJ",
        "outputId": "26840f98-4b49-47be-8ea1-bd5975f54ca9"
      },
      "execution_count": 24,
      "outputs": [
        {
          "output_type": "stream",
          "name": "stdout",
          "text": [
            "OK: shipping_fee 系テスト通過\n"
          ]
        }
      ]
    },
    {
      "cell_type": "code",
      "source": [
        "def tax_rate(income: int) -> int:\n",
        "    \"\"\"練習用の段階税率（％）。本物ではありません。\"\"\"\n",
        "    # データバリデーション例（not の使用）\n",
        "    if not isinstance(income, (int,)) or income < 0:\n",
        "        raise ValueError(\"income は 0 以上の整数で指定してください\")\n",
        "\n",
        "    if income < 1_000_000:\n",
        "        return 5\n",
        "    elif 1_000_000 <= income < 3_000_000:   # ← 連鎖比較\n",
        "        return 10\n",
        "    elif 3_000_000 <= income < 10_000_000:\n",
        "        return 20\n",
        "    else:\n",
        "        return 30\n",
        "\n",
        "# 境界の自己テスト\n",
        "assert tax_rate(0) == 5\n",
        "assert tax_rate(999_999) == 5\n",
        "assert tax_rate(1_000_000) == 10\n",
        "assert tax_rate(2_999_999) == 10\n",
        "assert tax_rate(3_000_000) == 20\n",
        "assert tax_rate(9_999_999) == 20\n",
        "assert tax_rate(10_000_000) == 30\n",
        "print(\"OK: tax_rate テスト通過\")"
      ],
      "metadata": {
        "colab": {
          "base_uri": "https://localhost:8080/"
        },
        "id": "sgYOINTcNvdz",
        "outputId": "877b1d1a-618b-4f18-b158-7f0890181eec"
      },
      "execution_count": 25,
      "outputs": [
        {
          "output_type": "stream",
          "name": "stdout",
          "text": [
            "OK: tax_rate テスト通過\n"
          ]
        }
      ]
    },
    {
      "cell_type": "code",
      "source": [],
      "metadata": {
        "id": "YJlvkJCGMMXf"
      },
      "execution_count": null,
      "outputs": []
    },
    {
      "cell_type": "code",
      "source": [],
      "metadata": {
        "id": "5GKUOf0JMMUG"
      },
      "execution_count": null,
      "outputs": []
    },
    {
      "cell_type": "code",
      "source": [],
      "metadata": {
        "id": "KzcpgJ9pMMRD"
      },
      "execution_count": null,
      "outputs": []
    }
  ]
}