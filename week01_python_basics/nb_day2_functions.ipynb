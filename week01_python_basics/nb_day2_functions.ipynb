{
  "nbformat": 4,
  "nbformat_minor": 0,
  "metadata": {
    "colab": {
      "provenance": [],
      "authorship_tag": "ABX9TyO1av+KtkNU+d/OcEWudsaO",
      "include_colab_link": true
    },
    "kernelspec": {
      "name": "python3",
      "display_name": "Python 3"
    },
    "language_info": {
      "name": "python"
    }
  },
  "cells": [
    {
      "cell_type": "markdown",
      "metadata": {
        "id": "view-in-github",
        "colab_type": "text"
      },
      "source": [
        "<a href=\"https://colab.research.google.com/github/kusasyu36/ai-roadmap-2025/blob/main/week01_python_basics/nb_day2_functions.ipynb\" target=\"_parent\"><img src=\"https://colab.research.google.com/assets/colab-badge.svg\" alt=\"Open In Colab\"/></a>"
      ]
    },
    {
      "cell_type": "markdown",
      "source": [
        "\n",
        "-[]変数の再代入と評価順序（w = w - 10 と w -= 10 の違いなし）を確認。\n",
        "\n",
        "関数定義、引数、return が値を返し print は返さないを、1-2の例（bmi, felt_air_temperature など）をコピペせず手打ち。 ￼\n",
        "\n",
        "予約語（def, return 等）に触れ、名前付けの注意をメモ。\n",
        "\n",
        "二次方程式の判別式と解：qe_disc(a,b,c), qe_solution1/2(a,b,c) を作成し、assertでテスト。 ￼\n",
        "\n",
        "docstring（関数の使い方）を各関数へ必ず付ける。\n",
        "\n",
        "mport math の基本と math.sqrt, math.pi, math.sin を1回ずつ使う。 ￼\n",
        "\n",
        "b_day2_functions.ipynb として保存→GitHubへ。\n",
        "\n",
        "week01/README に「理解できた/怪しい」を列挙。"
      ],
      "metadata": {
        "id": "rz-dm4pLp60Y"
      }
    },
    {
      "cell_type": "code",
      "execution_count": 1,
      "metadata": {
        "id": "J-cPxj8DpnSV"
      },
      "outputs": [],
      "source": [
        "def bmi(height, weight):\n",
        "    return weight / (height/100.0) ** 2"
      ]
    },
    {
      "cell_type": "code",
      "source": [
        "1.1*bmi(174.0, 119.0 * 0.454)\n"
      ],
      "metadata": {
        "colab": {
          "base_uri": "https://localhost:8080/"
        },
        "id": "CEzaTdiVqNgJ",
        "outputId": "7a63657f-72fa-4b27-9dd8-d824bda27cee"
      },
      "execution_count": 2,
      "outputs": [
        {
          "output_type": "execute_result",
          "data": {
            "text/plain": [
              "19.628947020742505"
            ]
          },
          "metadata": {},
          "execution_count": 2
        }
      ]
    },
    {
      "cell_type": "code",
      "source": [
        "def felt_air_temperature(temperature, humidity):\n",
        "    return temperature - 1 / 2.3 * (temperature - 10) * (0.8 - humidity / 100)"
      ],
      "metadata": {
        "id": "Bwb4k-y6qSG8"
      },
      "execution_count": 3,
      "outputs": []
    },
    {
      "cell_type": "code",
      "source": [
        "felt_air_temperature(28, 50)\n"
      ],
      "metadata": {
        "colab": {
          "base_uri": "https://localhost:8080/"
        },
        "id": "My2YSVSXqW0f",
        "outputId": "1aa86fcb-346b-45c5-9a83-c62b3f940f33"
      },
      "execution_count": 4,
      "outputs": [
        {
          "output_type": "execute_result",
          "data": {
            "text/plain": [
              "25.652173913043477"
            ]
          },
          "metadata": {},
          "execution_count": 4
        }
      ]
    },
    {
      "cell_type": "code",
      "source": [
        "import math\n",
        "\n",
        "def qe_disc(a, b, c):\n",
        "    return b*b - 4*a*c\n",
        "\n",
        "def qe_solution1(a, b, c):\n",
        "    return (-b - math.sqrt(qe_disc(a, b, c))) / (2*a)\n",
        "\n",
        "def qe_solution2(a, b, c):\n",
        "    return (-b + math.sqrt(qe_disc(a, b, c))) / (2*a)"
      ],
      "metadata": {
        "id": "xiYcGrN2qcyx"
      },
      "execution_count": 5,
      "outputs": []
    }
  ]
}