{
  "nbformat": 4,
  "nbformat_minor": 0,
  "metadata": {
    "colab": {
      "provenance": [],
      "authorship_tag": "ABX9TyPuDQc8W+5tMAKgXdkYMj8J",
      "include_colab_link": true
    },
    "kernelspec": {
      "name": "python3",
      "display_name": "Python 3"
    },
    "language_info": {
      "name": "python"
    }
  },
  "cells": [
    {
      "cell_type": "markdown",
      "metadata": {
        "id": "view-in-github",
        "colab_type": "text"
      },
      "source": [
        "<a href=\"https://colab.research.google.com/github/kusasyu36/ai-roadmap-2025/blob/main/week01_python_basics/nb_day5_2_modules_ipynb_%E3%81%AE%E3%82%B3%E3%83%94%E3%83%BC.ipynb\" target=\"_parent\"><img src=\"https://colab.research.google.com/assets/colab-badge.svg\" alt=\"Open In Colab\"/></a>"
      ]
    },
    {
      "cell_type": "markdown",
      "source": [
        "#文字列の比較演算\n",
        "\n",
        "比較演算子、==, <, > などを用いて、2つの文字列を比較することもできます。\n",
        "\n"
      ],
      "metadata": {
        "id": "zWbtaXuiiISV"
      }
    },
    {
      "cell_type": "code",
      "execution_count": 1,
      "metadata": {
        "colab": {
          "base_uri": "https://localhost:8080/"
        },
        "id": "CPyXz3lAiDpU",
        "outputId": "a6906d38-6408-40f9-8ebb-1e0c5bc6a387"
      },
      "outputs": [
        {
          "output_type": "stream",
          "name": "stdout",
          "text": [
            "True\n",
            "False\n"
          ]
        }
      ],
      "source": [
        "print('abc' == 'abc')\n",
        "print('ab' == 'abc')"
      ]
    },
    {
      "cell_type": "code",
      "source": [
        "print('abc' != 'abc')\n",
        "print('ab' != 'abc')"
      ],
      "metadata": {
        "colab": {
          "base_uri": "https://localhost:8080/"
        },
        "id": "Z6cLX_GsiH-g",
        "outputId": "59884115-c154-49de-82a9-ed5580f93f1c"
      },
      "execution_count": 2,
      "outputs": [
        {
          "output_type": "stream",
          "name": "stdout",
          "text": [
            "False\n",
            "True\n"
          ]
        }
      ]
    },
    {
      "cell_type": "markdown",
      "source": [
        "文字列の大小の比較は、いわゆる辞書式による比較で、文字列の最初の文字から順に比較して大小を決めます。 片方がもう片方を拡張したものであれば、拡張した方を大きいとします。"
      ],
      "metadata": {
        "id": "ZVIHXjX9id8j"
      }
    },
    {
      "cell_type": "code",
      "source": [
        "print('abc' <= 'abc')\n",
        "print('abc' < 'abc')\n",
        "print('abc' < 'abd')\n",
        "print('ab' < 'abc')"
      ],
      "metadata": {
        "colab": {
          "base_uri": "https://localhost:8080/"
        },
        "id": "dBOXgOyviH6m",
        "outputId": "0c92f92c-02bf-477f-808e-23aa2983f480"
      },
      "execution_count": 3,
      "outputs": [
        {
          "output_type": "stream",
          "name": "stdout",
          "text": [
            "True\n",
            "False\n",
            "True\n",
            "True\n"
          ]
        }
      ]
    },
    {
      "cell_type": "markdown",
      "source": [
        "#練習\n",
        "\n",
        "英語の文字列 str_engsentences が引数として与えられたとき、それが全て小文字である場合、True を返し、そうでない場合、 False を返す関数 check_lower を作成してください。\n",
        "\n",
        "次のセルの ... のところを書き換えて check_lower(str_engsentences) を作成してください。\n",
        "\n"
      ],
      "metadata": {
        "id": "aEh5zfGNiuU8"
      }
    },
    {
      "cell_type": "code",
      "source": [
        "def check_lower(str_engsentences):\n",
        "  if str_engsentences == str_engsentences.lower():\n",
        "    return True\n",
        "  return False\n"
      ],
      "metadata": {
        "id": "VLxEsOMFiH28"
      },
      "execution_count": 5,
      "outputs": []
    },
    {
      "cell_type": "code",
      "source": [
        "print(check_lower('down down down') == True)\n",
        "print(check_lower('There were doors all round the hall, but they were all locked') == False)"
      ],
      "metadata": {
        "colab": {
          "base_uri": "https://localhost:8080/"
        },
        "id": "MHl6lq3-iHz0",
        "outputId": "b427a5b1-391f-4465-edb0-f8aa02fccb6a"
      },
      "execution_count": 6,
      "outputs": [
        {
          "output_type": "stream",
          "name": "stdout",
          "text": [
            "True\n",
            "True\n"
          ]
        }
      ]
    },
    {
      "cell_type": "markdown",
      "source": [
        "#初心者によくある誤解 — 変数と文字列の混乱\n",
        "\n",
        "初心者によくある誤解として、変数と文字列を混乱する例が見られます。たとえば、文字列を引数に取る次のような関数 func を考えます（ func は引数として与えられた文字列を大文字にして返す関数です）。"
      ],
      "metadata": {
        "id": "gnzyWG7FjvPJ"
      }
    },
    {
      "cell_type": "code",
      "source": [
        "def func(str1):\n",
        "    return str1.upper()"
      ],
      "metadata": {
        "id": "5MwqTA5miHw8"
      },
      "execution_count": 7,
      "outputs": []
    },
    {
      "cell_type": "markdown",
      "source": [
        "ここで変数 str2 を引数として func を呼ぶと、str2 に格納されている文字列が大文字になって返ってきます。\n"
      ],
      "metadata": {
        "id": "LCzk49orkEZk"
      }
    },
    {
      "cell_type": "code",
      "source": [
        "str2 = 'abc'\n",
        "func(str2)\n"
      ],
      "metadata": {
        "colab": {
          "base_uri": "https://localhost:8080/",
          "height": 35
        },
        "id": "38fjeq0-iHuW",
        "outputId": "01fd4a7c-1ac6-4126-a9fc-fcfcf3573c49"
      },
      "execution_count": 8,
      "outputs": [
        {
          "output_type": "execute_result",
          "data": {
            "text/plain": [
              "'ABC'"
            ],
            "application/vnd.google.colaboratory.intrinsic+json": {
              "type": "string"
            }
          },
          "metadata": {},
          "execution_count": 8
        }
      ]
    },
    {
      "cell_type": "markdown",
      "source": [
        "次のように func を呼ぶと上とは結果が異なります。次の例では変数 str2 （に格納されている文字列 abc）ではなく、文字列 'str2' を引数として func を呼び出しています。\n"
      ],
      "metadata": {
        "id": "aAAwQts6kHQp"
      }
    },
    {
      "cell_type": "code",
      "source": [
        "\n",
        "str2 = 'abc'\n",
        "func('str2')"
      ],
      "metadata": {
        "colab": {
          "base_uri": "https://localhost:8080/",
          "height": 35
        },
        "id": "0vWWy8FaiHrP",
        "outputId": "d18b962e-4b18-43dd-be4e-5f53b0db08ba"
      },
      "execution_count": 9,
      "outputs": [
        {
          "output_type": "execute_result",
          "data": {
            "text/plain": [
              "'STR2'"
            ],
            "application/vnd.google.colaboratory.intrinsic+json": {
              "type": "string"
            }
          },
          "metadata": {},
          "execution_count": 9
        }
      ]
    },
    {
      "cell_type": "markdown",
      "source": [
        "#練習\n",
        "\n",
        "コンマ (,) を含む英語の文章からなる文字列 str_engsentences が引数として与えられたとき、str_engsentences 中の一番最初のコンマより後の文章のみかならなる文字列 str_res を返す関数 remove_clause を作成してください。ただし、 str_res の先頭は大文字のアルファベットとしてください。\n",
        "\n",
        "次のセルの ... のところを書き換えて remove_clause(str_engsentences) を作成してください。"
      ],
      "metadata": {
        "id": "ksw5rPOZkKwX"
      }
    },
    {
      "cell_type": "code",
      "source": [
        "def remove_clause(str_engsentences):\n",
        "  ind_num = str_engsentences.index(',')\n",
        "  return str_engsentences[ind_num + 1 :].lstrip().capitalize()"
      ],
      "metadata": {
        "id": "LZAtmIkdkJAc"
      },
      "execution_count": 16,
      "outputs": []
    },
    {
      "cell_type": "code",
      "source": [
        "remove_clause(\"It's being seen, but you aren't observing.\")"
      ],
      "metadata": {
        "colab": {
          "base_uri": "https://localhost:8080/",
          "height": 35
        },
        "id": "MHu1ft4ElA46",
        "outputId": "baf7883f-5e74-4363-bc44-580d54979678"
      },
      "execution_count": 17,
      "outputs": [
        {
          "output_type": "execute_result",
          "data": {
            "text/plain": [
              "\"But you aren't observing.\""
            ],
            "application/vnd.google.colaboratory.intrinsic+json": {
              "type": "string"
            }
          },
          "metadata": {},
          "execution_count": 17
        }
      ]
    },
    {
      "cell_type": "code",
      "source": [
        "print(remove_clause(\"It's being seen, but you aren't observing.\") == \"But you aren't observing.\")\n"
      ],
      "metadata": {
        "colab": {
          "base_uri": "https://localhost:8080/"
        },
        "id": "eUWvz9_9kvoj",
        "outputId": "e81fe5ea-e84d-4692-fc27-13de995e1854"
      },
      "execution_count": 18,
      "outputs": [
        {
          "output_type": "stream",
          "name": "stdout",
          "text": [
            "True\n"
          ]
        }
      ]
    },
    {
      "cell_type": "code",
      "source": [
        "def remove_clause(str_engsentences):\n",
        "    int_index = str_engsentences.find(',')\n",
        "    str1 = str_engsentences[int_index+2:]\n",
        "    return str1.capitalize()\n",
        "#remove_clause(\"It's being seen, but you aren't observing.\")"
      ],
      "metadata": {
        "id": "T-BDZpkllfz7"
      },
      "execution_count": 19,
      "outputs": []
    },
    {
      "cell_type": "code",
      "source": [],
      "metadata": {
        "id": "7MQZhaIik997"
      },
      "execution_count": null,
      "outputs": []
    },
    {
      "cell_type": "markdown",
      "source": [
        "#2-2. リスト (list)\n",
        "\n",
        "複数のデータを要素としてまとめて取り扱うデータとして、リストとタプルについて説明します。\n",
        "\n",
        "参考\n",
        "\n",
        "https://docs.python.org/ja/3/tutorial/introduction.html#lists\n",
        "\n",
        "https://docs.python.org/ja/3/tutorial/datastructures.html#tuples-and-sequences\n",
        "\n",
        "文字列を構成する要素は文字のみでしたが、リストでは構成する要素としてあらゆる型のデータを指定できます。 他のプログラミング言語では、リストに相当するものとして配列（もしくはアレイ）やベクターなどがあります。\n",
        "\n",
        "リストを作成するには、リストを構成する要素をコンマで区切り全体をかぎ括弧 [...] で囲みます。\n",
        "\n",
        "以下のセルでは数値を要素とするリストを作成して、変数に代入しています。 さらに、文字列と同様に組み込み関数 type を用いて、変数の値がリストであることを確認しています。"
      ],
      "metadata": {
        "id": "I6pFAwbmlh2H"
      }
    },
    {
      "cell_type": "code",
      "source": [
        "numbers = [0, 10, 20, 30, 40, 50]\n",
        "numbers"
      ],
      "metadata": {
        "colab": {
          "base_uri": "https://localhost:8080/"
        },
        "id": "kFZ1SSeolhkp",
        "outputId": "ffab0b79-2e0a-49f4-bac4-2838ddc321d1"
      },
      "execution_count": 20,
      "outputs": [
        {
          "output_type": "execute_result",
          "data": {
            "text/plain": [
              "[0, 10, 20, 30, 40, 50]"
            ]
          },
          "metadata": {},
          "execution_count": 20
        }
      ]
    },
    {
      "cell_type": "code",
      "source": [
        "fruits = ['apple', 'banana', 'chelly']\n",
        "fruits"
      ],
      "metadata": {
        "colab": {
          "base_uri": "https://localhost:8080/"
        },
        "id": "xnhNVoPSlhgv",
        "outputId": "f1e25bd4-1ac1-40ff-82a4-25d9e2acdb8f"
      },
      "execution_count": 21,
      "outputs": [
        {
          "output_type": "execute_result",
          "data": {
            "text/plain": [
              "['apple', 'banana', 'chelly']"
            ]
          },
          "metadata": {},
          "execution_count": 21
        }
      ]
    },
    {
      "cell_type": "markdown",
      "source": [
        "リストの要素としてあらゆる型のデータを指定でき、それらは混在してもかまいません。 以下のセルでは、数値と文字列が混在しています。"
      ],
      "metadata": {
        "id": "sM58ZSIkphg1"
      }
    },
    {
      "cell_type": "code",
      "source": [
        "numbers_fruits = [10, 'apple', 20, 'banana', 30]\n",
        "numbers_fruits"
      ],
      "metadata": {
        "colab": {
          "base_uri": "https://localhost:8080/"
        },
        "id": "nw2n-FMelhck",
        "outputId": "bb3e6cf4-81ab-4d25-c7e7-ae296b071525"
      },
      "execution_count": 22,
      "outputs": [
        {
          "output_type": "execute_result",
          "data": {
            "text/plain": [
              "[10, 'apple', 20, 'banana', 30]"
            ]
          },
          "metadata": {},
          "execution_count": 22
        }
      ]
    },
    {
      "cell_type": "markdown",
      "source": [
        "#リストとインデックス\n",
        "\n",
        "文字列の場合と同様に、インデックスを指定してリストの要素を取り出せます。 リストの x 番目の要素を取得するには次のような記法を用います。 インデックスは 0 から始まることに注意してください。"
      ],
      "metadata": {
        "id": "oTiBa04qpqi_"
      }
    },
    {
      "cell_type": "code",
      "source": [
        "abcd = ['a', 'b', 'c', 'd']\n",
        "abcd[2]"
      ],
      "metadata": {
        "colab": {
          "base_uri": "https://localhost:8080/",
          "height": 35
        },
        "id": "SpsLOMYFlhZ9",
        "outputId": "34027993-427d-4155-b0a9-b880f29d82a7"
      },
      "execution_count": 23,
      "outputs": [
        {
          "output_type": "execute_result",
          "data": {
            "text/plain": [
              "'c'"
            ],
            "application/vnd.google.colaboratory.intrinsic+json": {
              "type": "string"
            }
          },
          "metadata": {},
          "execution_count": 23
        }
      ]
    },
    {
      "cell_type": "code",
      "source": [
        "abcd = ['a', 'b', 'c', 'd']\n",
        "abcd[2] = 'hello'\n",
        "abcd"
      ],
      "metadata": {
        "colab": {
          "base_uri": "https://localhost:8080/"
        },
        "id": "0FU4pW5IlhVy",
        "outputId": "93ce430a-d69f-42a6-82dd-6fca5a8e6ad6"
      },
      "execution_count": 24,
      "outputs": [
        {
          "output_type": "execute_result",
          "data": {
            "text/plain": [
              "['a', 'b', 'hello', 'd']"
            ]
          },
          "metadata": {},
          "execution_count": 24
        }
      ]
    },
    {
      "cell_type": "code",
      "source": [
        "abcd = ['a', 'b', 'c', 'd']\n",
        "abcd[1:3]"
      ],
      "metadata": {
        "colab": {
          "base_uri": "https://localhost:8080/"
        },
        "id": "U-zt96idlhSs",
        "outputId": "56521d65-0d93-4252-b752-391dba339e1f"
      },
      "execution_count": 25,
      "outputs": [
        {
          "output_type": "execute_result",
          "data": {
            "text/plain": [
              "['b', 'c']"
            ]
          },
          "metadata": {},
          "execution_count": 25
        }
      ]
    },
    {
      "cell_type": "code",
      "source": [
        "abcd = ['a', 'b', 'c', 'd']\n",
        "abcd[0:4:2]"
      ],
      "metadata": {
        "colab": {
          "base_uri": "https://localhost:8080/"
        },
        "id": "Tj86YnkTlhMs",
        "outputId": "feb60e72-24b7-47a4-fac5-b73449362b34"
      },
      "execution_count": 26,
      "outputs": [
        {
          "output_type": "execute_result",
          "data": {
            "text/plain": [
              "['a', 'c']"
            ]
          },
          "metadata": {},
          "execution_count": 26
        }
      ]
    },
    {
      "cell_type": "markdown",
      "source": [
        "リストのスライスに対しては、代入も可能です。\n",
        "\n"
      ],
      "metadata": {
        "id": "5z_xPB2iqHkx"
      }
    },
    {
      "cell_type": "code",
      "source": [
        "abcd = ['a', 'b', 'c', 'd']\n",
        "abcd[1:1] = ['x', 'y', 'z']\n",
        "abcd"
      ],
      "metadata": {
        "colab": {
          "base_uri": "https://localhost:8080/"
        },
        "id": "OQCJgvERlhJk",
        "outputId": "3c25d017-93e2-484e-874e-efba547ec898"
      },
      "execution_count": 28,
      "outputs": [
        {
          "output_type": "execute_result",
          "data": {
            "text/plain": [
              "['a', 'x', 'y', 'z', 'b', 'c', 'd']"
            ]
          },
          "metadata": {},
          "execution_count": 28
        }
      ]
    },
    {
      "cell_type": "markdown",
      "source": [
        "#練習\n",
        "\n",
        "リスト ln を引数として取り、ln の偶数番目のインデックスの値を削除したリストを返す関数 remove_evenindex を作成してください（ただし、0 は偶数として扱うものとします）。\n",
        "\n",
        "ヒント：スライスを使います。\n",
        "\n",
        "以下のセルの ... のところを書き換えて remove_evenindex(ln) を作成してください。\n",
        "\n",
        "def"
      ],
      "metadata": {
        "id": "7iylu3lBqUOa"
      }
    },
    {
      "cell_type": "code",
      "source": [
        "def remove_evenindex(ln):\n",
        "  return ln[1:-1:2]\n",
        "remove_evenindex(['a', 'b', 'c', 'd', 'e', 'f', 'g'])"
      ],
      "metadata": {
        "colab": {
          "base_uri": "https://localhost:8080/"
        },
        "id": "aJLPyHKvp-Mg",
        "outputId": "499b7dfb-9dc0-45eb-e853-a603c86650f2"
      },
      "execution_count": 33,
      "outputs": [
        {
          "output_type": "execute_result",
          "data": {
            "text/plain": [
              "['b', 'd', 'f']"
            ]
          },
          "metadata": {},
          "execution_count": 33
        }
      ]
    },
    {
      "cell_type": "code",
      "source": [
        "\n",
        "print(remove_evenindex(['a', 'b', 'c', 'd', 'e', 'f', 'g']) == ['b', 'd', 'f'] )\n",
        "print(remove_evenindex([1, 2, 3, 4, 5]) == [2, 4])"
      ],
      "metadata": {
        "colab": {
          "base_uri": "https://localhost:8080/"
        },
        "id": "8QdZmYmDp-JY",
        "outputId": "e546e634-5fb9-4ede-9116-067ecbc91ac6"
      },
      "execution_count": 34,
      "outputs": [
        {
          "output_type": "stream",
          "name": "stdout",
          "text": [
            "True\n",
            "True\n"
          ]
        }
      ]
    },
    {
      "cell_type": "code",
      "source": [
        "def remove_evenindex(ln):\n",
        "    ln2 = ln[1::2]\n",
        "    return ln2\n",
        "#remove_evenindex(['a', 'b', 'c', 'd', 'e', 'f', 'g'])"
      ],
      "metadata": {
        "id": "mhrfH6bqp-GQ"
      },
      "execution_count": 35,
      "outputs": []
    },
    {
      "cell_type": "markdown",
      "source": [
        "#多重リスト\n",
        "\n",
        "リストの要素としてリストを指定することもできます。 リストを要素とするリストは多重リストと呼ばれます。 次は二重リストの例です。"
      ],
      "metadata": {
        "id": "Wp7CES6ZrQtx"
      }
    },
    {
      "cell_type": "code",
      "source": [
        "lns = [[1, 2, 3], [10, 20, 30], ['a', 'b', 'c']]\n"
      ],
      "metadata": {
        "id": "GJWEdSvSrSw_"
      },
      "execution_count": 36,
      "outputs": []
    },
    {
      "cell_type": "code",
      "source": [
        "lns[1][0]"
      ],
      "metadata": {
        "colab": {
          "base_uri": "https://localhost:8080/"
        },
        "id": "e1vSwVxjrSuI",
        "outputId": "3ca8d9f2-973e-4d5b-ed05-43722fdaa663"
      },
      "execution_count": 37,
      "outputs": [
        {
          "output_type": "execute_result",
          "data": {
            "text/plain": [
              "10"
            ]
          },
          "metadata": {},
          "execution_count": 37
        }
      ]
    },
    {
      "cell_type": "code",
      "source": [
        "lns2 = [lns, ['x', 1, [11, 12, 13]], ['y', [100, 120, 140]] ]\n",
        "lns2"
      ],
      "metadata": {
        "colab": {
          "base_uri": "https://localhost:8080/"
        },
        "id": "h3dNkeEvrSry",
        "outputId": "75679a49-04ef-4d3a-a10e-09024050ac59"
      },
      "execution_count": 38,
      "outputs": [
        {
          "output_type": "execute_result",
          "data": {
            "text/plain": [
              "[[[1, 2, 3], [10, 20, 30], ['a', 'b', 'c']],\n",
              " ['x', 1, [11, 12, 13]],\n",
              " ['y', [100, 120, 140]]]"
            ]
          },
          "metadata": {},
          "execution_count": 38
        }
      ]
    },
    {
      "cell_type": "code",
      "source": [
        "lns2[1][2][2]"
      ],
      "metadata": {
        "colab": {
          "base_uri": "https://localhost:8080/"
        },
        "id": "te9eVA_OrSo7",
        "outputId": "4429fc49-d0fe-4962-a54a-2dfe4f4f517a"
      },
      "execution_count": 42,
      "outputs": [
        {
          "output_type": "execute_result",
          "data": {
            "text/plain": [
              "13"
            ]
          },
          "metadata": {},
          "execution_count": 42
        }
      ]
    },
    {
      "cell_type": "markdown",
      "source": [
        "#リストに対する関数・演算子・メソッド\n",
        "\n",
        "リストの要素数\n",
        "組み込み関数 len はリストの長さ、すなわち要素数、を返します。"
      ],
      "metadata": {
        "id": "IStV-gkgrvLP"
      }
    },
    {
      "cell_type": "code",
      "source": [
        "numbers = [0, 10, 20, 30, 40, 50]\n",
        "len(numbers)"
      ],
      "metadata": {
        "colab": {
          "base_uri": "https://localhost:8080/"
        },
        "id": "XF50HdWprSlz",
        "outputId": "12a57688-c80c-4fd7-b059-51e0bad4e9f7"
      },
      "execution_count": 43,
      "outputs": [
        {
          "output_type": "execute_result",
          "data": {
            "text/plain": [
              "6"
            ]
          },
          "metadata": {},
          "execution_count": 43
        }
      ]
    },
    {
      "cell_type": "code",
      "source": [
        "max(numbers)"
      ],
      "metadata": {
        "colab": {
          "base_uri": "https://localhost:8080/"
        },
        "id": "IFgLwqv2rSi8",
        "outputId": "80050304-4de0-4dc5-96f8-d59b4a009a3a"
      },
      "execution_count": 44,
      "outputs": [
        {
          "output_type": "execute_result",
          "data": {
            "text/plain": [
              "50"
            ]
          },
          "metadata": {},
          "execution_count": 44
        }
      ]
    },
    {
      "cell_type": "code",
      "source": [
        "sum(numbers)"
      ],
      "metadata": {
        "colab": {
          "base_uri": "https://localhost:8080/"
        },
        "id": "ChUmr05lr6zB",
        "outputId": "e007374d-2e98-480e-f022-2a4b0228c695"
      },
      "execution_count": 45,
      "outputs": [
        {
          "output_type": "execute_result",
          "data": {
            "text/plain": [
              "150"
            ]
          },
          "metadata": {},
          "execution_count": 45
        }
      ]
    },
    {
      "cell_type": "markdown",
      "source": [
        "#リストと演算子\n",
        "\n",
        "演算子 + によってリストの連結、* によって連結における繰り返し回数を指定することができます。"
      ],
      "metadata": {
        "id": "rGyFO3C4sAa6"
      }
    },
    {
      "cell_type": "code",
      "source": [
        "numbers = [0, 10, 20, 30, 40, 50]\n",
        "numbers + ['a', 'b', 'c']"
      ],
      "metadata": {
        "colab": {
          "base_uri": "https://localhost:8080/"
        },
        "id": "lNZjaq9Kr6sf",
        "outputId": "7805a52a-fa34-4696-9e4f-bb56fd0572d9"
      },
      "execution_count": 46,
      "outputs": [
        {
          "output_type": "execute_result",
          "data": {
            "text/plain": [
              "[0, 10, 20, 30, 40, 50, 'a', 'b', 'c']"
            ]
          },
          "metadata": {},
          "execution_count": 46
        }
      ]
    },
    {
      "cell_type": "code",
      "source": [
        "numbers*3"
      ],
      "metadata": {
        "colab": {
          "base_uri": "https://localhost:8080/"
        },
        "id": "4MaXEvnip-C3",
        "outputId": "cc3d76b7-fc85-4405-a344-8d62163ff4e6"
      },
      "execution_count": 47,
      "outputs": [
        {
          "output_type": "execute_result",
          "data": {
            "text/plain": [
              "[0, 10, 20, 30, 40, 50, 0, 10, 20, 30, 40, 50, 0, 10, 20, 30, 40, 50]"
            ]
          },
          "metadata": {},
          "execution_count": 47
        }
      ]
    },
    {
      "cell_type": "code",
      "source": [
        "zero10 = [0] * 10\n",
        "zero10"
      ],
      "metadata": {
        "colab": {
          "base_uri": "https://localhost:8080/"
        },
        "id": "vrQE4g_gp9_z",
        "outputId": "97930017-25d5-460d-d2c1-18a01d14bfb7"
      },
      "execution_count": 48,
      "outputs": [
        {
          "output_type": "execute_result",
          "data": {
            "text/plain": [
              "[0, 0, 0, 0, 0, 0, 0, 0, 0, 0]"
            ]
          },
          "metadata": {},
          "execution_count": 48
        }
      ]
    },
    {
      "cell_type": "code",
      "source": [
        "x = [[0, 1], [2, 3]]\n",
        "y = x*3\n",
        "y"
      ],
      "metadata": {
        "colab": {
          "base_uri": "https://localhost:8080/"
        },
        "id": "z-4-dbqasLZN",
        "outputId": "029b1a35-68c0-4f13-a046-1b54ec316461"
      },
      "execution_count": 49,
      "outputs": [
        {
          "output_type": "execute_result",
          "data": {
            "text/plain": [
              "[[0, 1], [2, 3], [0, 1], [2, 3], [0, 1], [2, 3]]"
            ]
          },
          "metadata": {},
          "execution_count": 49
        }
      ]
    },
    {
      "cell_type": "markdown",
      "source": [
        "このとき、x の要素が変更されると、y の中では複数箇所に変化が起こるので、注意してください。\n",
        "\n",
        "x[0][0] = 99\n",
        "y\n",
        "[[99, 1], [2, 3], [99, 1], [2, 3], [99, 1], [2, 3]]\n",
        "これは、y の中の複数個所にあるオブジェクトが同一だからです。 詳しくは、以下の「▲オブジェクトの等価性と同一性」を参照してください。"
      ],
      "metadata": {
        "id": "KrT6LDAfseiS"
      }
    },
    {
      "cell_type": "code",
      "source": [
        "x[0][0] = 99\n",
        "y"
      ],
      "metadata": {
        "colab": {
          "base_uri": "https://localhost:8080/"
        },
        "id": "Mc7hnvzssLV1",
        "outputId": "37f06dab-7c08-4901-a913-fd227b976150"
      },
      "execution_count": 50,
      "outputs": [
        {
          "output_type": "execute_result",
          "data": {
            "text/plain": [
              "[[99, 1], [2, 3], [99, 1], [2, 3], [99, 1], [2, 3]]"
            ]
          },
          "metadata": {},
          "execution_count": 50
        }
      ]
    },
    {
      "cell_type": "code",
      "source": [
        "10 in numbers\n"
      ],
      "metadata": {
        "colab": {
          "base_uri": "https://localhost:8080/"
        },
        "id": "MrHlc-ZBsLSc",
        "outputId": "f138ca33-8bb8-425e-cab5-005fa62ade0d"
      },
      "execution_count": 51,
      "outputs": [
        {
          "output_type": "execute_result",
          "data": {
            "text/plain": [
              "True"
            ]
          },
          "metadata": {},
          "execution_count": 51
        }
      ]
    },
    {
      "cell_type": "markdown",
      "source": [
        "リストに対する in 演算子は、論理演算 or を簡潔に記述するのに用いることもできます。 たとえば、\n",
        "\n",
        "a1 == 1 or a1 == 3 or a1 == 7:\n",
        "\n",
        "は\n",
        "\n",
        "a1 in [1, 3, 7]:\n",
        "\n",
        "と同じ結果を得られます。 or の数が多くなる場合は、in を用いた方がより読みやすいプログラムを書くことができます。"
      ],
      "metadata": {
        "id": "fl7NN8YdsoE7"
      }
    },
    {
      "cell_type": "code",
      "source": [
        "a1 = 1\n",
        "print(a1 == 1 or a1 == 3 or a1 == 7, a1 in [1, 3, 7])\n",
        "a1 = 3\n",
        "print(a1 == 1 or a1 == 3 or a1 == 7, a1 in [1, 3, 7])\n",
        "a1 = 5\n",
        "print(a1 == 1 or a1 == 3 or a1 == 7, a1 in [1, 3, 7])"
      ],
      "metadata": {
        "colab": {
          "base_uri": "https://localhost:8080/"
        },
        "id": "uLDFDJFNsLPU",
        "outputId": "b22b0c3d-b298-4668-8404-0a21c597ed33"
      },
      "execution_count": 52,
      "outputs": [
        {
          "output_type": "stream",
          "name": "stdout",
          "text": [
            "True True\n",
            "True True\n",
            "False False\n"
          ]
        }
      ]
    },
    {
      "cell_type": "markdown",
      "source": [
        "in 演算子は、左辺の要素がリストに含まれるかどうかを、 リストの要素を最初から順に調べることで判定しています。 したがって、リストの長さに比例した時間がかかります。 つまり、リストの長さが大きければ、それなりの時間がかかることに注意してください。\n",
        "\n",
        "not in 演算子は、in 演算子の逆を意味します。"
      ],
      "metadata": {
        "id": "rQOr0NA4s2Ak"
      }
    },
    {
      "cell_type": "code",
      "source": [
        "11 not in numbers\n"
      ],
      "metadata": {
        "colab": {
          "base_uri": "https://localhost:8080/"
        },
        "id": "Ugow3fINsLMM",
        "outputId": "b097677f-9f76-4f99-9c89-06823665670f"
      },
      "execution_count": 53,
      "outputs": [
        {
          "output_type": "execute_result",
          "data": {
            "text/plain": [
              "True"
            ]
          },
          "metadata": {},
          "execution_count": 53
        }
      ]
    },
    {
      "cell_type": "code",
      "source": [
        "numbers = [0, 10, 20, 30, 40, 50]\n",
        "numbers.index(20)"
      ],
      "metadata": {
        "colab": {
          "base_uri": "https://localhost:8080/"
        },
        "id": "gphu2Lr7sLJE",
        "outputId": "16494c5f-bf65-4963-8934-1df42323d260"
      },
      "execution_count": 54,
      "outputs": [
        {
          "output_type": "execute_result",
          "data": {
            "text/plain": [
              "2"
            ]
          },
          "metadata": {},
          "execution_count": 54
        }
      ]
    },
    {
      "cell_type": "code",
      "source": [
        "all20 = [20]*3\n",
        "all20.count(20) # 指定した要素のリスト内の数"
      ],
      "metadata": {
        "colab": {
          "base_uri": "https://localhost:8080/"
        },
        "id": "g5ZU82vzsLGe",
        "outputId": "974449cd-6d6a-43a3-e209-5a139d39c07e"
      },
      "execution_count": 55,
      "outputs": [
        {
          "output_type": "execute_result",
          "data": {
            "text/plain": [
              "3"
            ]
          },
          "metadata": {},
          "execution_count": 55
        }
      ]
    },
    {
      "cell_type": "markdown",
      "source": [
        "#並べ替え（sort メソッド）\n",
        "\n",
        "sort メソッドはリスト内の要素を並べ替えます。 引数に何も指定しなければ昇順でとなります。"
      ],
      "metadata": {
        "id": "7cntMJ9gvNSv"
      }
    },
    {
      "cell_type": "code",
      "source": [
        "numbers = [30, 50, 10, 20, 40, 60]\n",
        "numbers.sort()"
      ],
      "metadata": {
        "id": "8Swlt2_ssLC1"
      },
      "execution_count": 56,
      "outputs": []
    },
    {
      "cell_type": "code",
      "source": [
        "characters = ['e', 'd', 'a', 'c', 'f', 'b']\n",
        "characters.sort()\n",
        "characters"
      ],
      "metadata": {
        "colab": {
          "base_uri": "https://localhost:8080/"
        },
        "id": "SqwhGXS_vG0J",
        "outputId": "598b7925-f043-457c-aec0-527d51bcc492"
      },
      "execution_count": 57,
      "outputs": [
        {
          "output_type": "execute_result",
          "data": {
            "text/plain": [
              "['a', 'b', 'c', 'd', 'e', 'f']"
            ]
          },
          "metadata": {},
          "execution_count": 57
        }
      ]
    },
    {
      "cell_type": "markdown",
      "source": [
        "#並べ替え（sorted 組み込み関数）\n",
        "\n",
        "関数 sorted ではリストを引数に取って、そのリスト内の要素を昇順に並べ替えた結果をリストとして返します。"
      ],
      "metadata": {
        "id": "8F-q9YaLvY9-"
      }
    },
    {
      "cell_type": "code",
      "source": [
        "numbers = [30, 50, 10, 20, 40, 60]\n",
        "sorted(numbers)"
      ],
      "metadata": {
        "colab": {
          "base_uri": "https://localhost:8080/"
        },
        "id": "6gHwiMoUvYxX",
        "outputId": "10a61af9-ac42-4357-ebe5-456318f9dcb1"
      },
      "execution_count": 58,
      "outputs": [
        {
          "output_type": "execute_result",
          "data": {
            "text/plain": [
              "[10, 20, 30, 40, 50, 60]"
            ]
          },
          "metadata": {},
          "execution_count": 58
        }
      ]
    },
    {
      "cell_type": "code",
      "source": [
        "characters = ['e', 'd', 'a', 'c', 'f', 'b']\n",
        "sorted(characters)"
      ],
      "metadata": {
        "colab": {
          "base_uri": "https://localhost:8080/"
        },
        "id": "55Ul8zuKvYtd",
        "outputId": "593f9f8f-56b3-4dc3-de66-05361d5a486d"
      },
      "execution_count": 59,
      "outputs": [
        {
          "output_type": "execute_result",
          "data": {
            "text/plain": [
              "['a', 'b', 'c', 'd', 'e', 'f']"
            ]
          },
          "metadata": {},
          "execution_count": 59
        }
      ]
    },
    {
      "cell_type": "markdown",
      "source": [
        "sorted においても、 reverse = True と記述することで要素を降順に並べ替えることができます。\n",
        "\n"
      ],
      "metadata": {
        "id": "879_3wGAvkH8"
      }
    },
    {
      "cell_type": "code",
      "source": [
        "numbers = [30, 50, 10, 20, 40, 60]\n",
        "sorted(numbers, reverse=True)"
      ],
      "metadata": {
        "colab": {
          "base_uri": "https://localhost:8080/"
        },
        "id": "brEo_B7ivYqE",
        "outputId": "e069e9c8-3d00-44da-93c2-3520c0860921"
      },
      "execution_count": 60,
      "outputs": [
        {
          "output_type": "execute_result",
          "data": {
            "text/plain": [
              "[60, 50, 40, 30, 20, 10]"
            ]
          },
          "metadata": {},
          "execution_count": 60
        }
      ]
    },
    {
      "cell_type": "code",
      "source": [
        "lns = [[20, 5], [10, 30], [40, 20], [30, 10]]\n",
        "lns.sort()\n",
        "lns"
      ],
      "metadata": {
        "colab": {
          "base_uri": "https://localhost:8080/"
        },
        "id": "FcFPFFrTvYmr",
        "outputId": "d8a35ba4-60bb-436e-98bb-e33a0a82c5a0"
      },
      "execution_count": 61,
      "outputs": [
        {
          "output_type": "execute_result",
          "data": {
            "text/plain": [
              "[[10, 30], [20, 5], [30, 10], [40, 20]]"
            ]
          },
          "metadata": {},
          "execution_count": 61
        }
      ]
    },
    {
      "cell_type": "markdown",
      "source": [
        "#破壊的（インプレース）な操作と非破壊的な生成\n",
        "\n",
        "上記では、sort メソッドと sorted 関数を紹介しましたが、両者の使い方が異なることに気が付きましたか？\n",
        "\n",
        "具体的には、sort メソッドでは元のリストが変更されています。 一方、sorted 関数では元のリストはそのままになっています。もう一度確認してみましょう。\n",
        "\n"
      ],
      "metadata": {
        "id": "9fpGP27Nv07d"
      }
    },
    {
      "cell_type": "code",
      "source": [
        "numbers = [30, 50, 10, 20, 40, 60]\n",
        "numbers.sort()\n",
        "print('sortメソッドの実行後の元のリスト:', numbers)\n",
        "numbers = [30, 50, 10, 20, 40, 60]\n",
        "sorted(numbers)\n",
        "print('sorted関数の実行後の元のリスト:', numbers)"
      ],
      "metadata": {
        "colab": {
          "base_uri": "https://localhost:8080/"
        },
        "id": "w5HiLJDFvYkF",
        "outputId": "6b33d3c4-fec7-43b1-d977-c6c79619970c"
      },
      "execution_count": 62,
      "outputs": [
        {
          "output_type": "stream",
          "name": "stdout",
          "text": [
            "sortメソッドの実行後の元のリスト: [10, 20, 30, 40, 50, 60]\n",
            "sorted関数の実行後の元のリスト: [30, 50, 10, 20, 40, 60]\n"
          ]
        }
      ]
    },
    {
      "cell_type": "markdown",
      "source": [
        "このように、sort メソッドは元のリストを変更してしまいます。 このような操作を**破壊的あるいはインプレース (in-place) **であるといいます。\n",
        "\n",
        "一方、sorted 関数は新しいリストを生成し元のリストを破壊しません、このような操作は**非破壊的**であるといいます。\n",
        "\n",
        "sorted 関数を用いた場合、その返値（並べ替えの結果）は新しい変数に代入して使うことができます。\n",
        "\n",
        "一方、sort メソッドはリストを返さないためそのような使い方はできません。\n",
        "\n"
      ],
      "metadata": {
        "id": "ni9PUrumwWHr"
      }
    },
    {
      "cell_type": "code",
      "source": [
        "numbers = [30, 50, 10, 20, 40, 60]\n",
        "numbers1 = sorted(numbers)\n",
        "print('sorted関数の返値:', numbers1)\n",
        "\n",
        "numbers = [30, 50, 10, 20, 40, 60]\n",
        "numbers2 = numbers.sort()\n",
        "print('sortメソッドの返値:', numbers2)"
      ],
      "metadata": {
        "colab": {
          "base_uri": "https://localhost:8080/"
        },
        "id": "vYUWwJDNvYg_",
        "outputId": "5318cca4-5be2-4d10-ef88-1cef51f484b3"
      },
      "execution_count": 63,
      "outputs": [
        {
          "output_type": "stream",
          "name": "stdout",
          "text": [
            "sorted関数の返値: [10, 20, 30, 40, 50, 60]\n",
            "sortメソッドの返値: None\n"
          ]
        }
      ]
    },
    {
      "cell_type": "markdown",
      "source": [
        "#リストを操作するメソッドなど\n",
        "\n",
        "ここからはリストを操作するためのメソッドなどを紹介していきます。\n",
        "\n",
        "メソッドや組み込み関数が破壊的であるかどうかは、一般にその名称などからは判断できません。 それぞれ破壊的かどうか理解してから利用しなければなりません。\n",
        "\n",
        "なお、次の append メソッド以外は、必要に応じて参照すればよく、 それ以降タプルの項まで飛ばして構いません。\n",
        "\n",
        "#リストに要素を追加する\n",
        "append メソッドはリストの最後尾に指定した要素を付け加えます。"
      ],
      "metadata": {
        "id": "hGV2vPqdxBdh"
      }
    },
    {
      "cell_type": "code",
      "source": [
        "numbers = [10, 20, 30, 40, 50]\n",
        "numbers.append(100)\n",
        "numbers"
      ],
      "metadata": {
        "colab": {
          "base_uri": "https://localhost:8080/"
        },
        "id": "qPCO_ib-vGww",
        "outputId": "11a74097-b571-4529-f630-518bf22f1751"
      },
      "execution_count": 64,
      "outputs": [
        {
          "output_type": "execute_result",
          "data": {
            "text/plain": [
              "[10, 20, 30, 40, 50, 100]"
            ]
          },
          "metadata": {},
          "execution_count": 64
        }
      ]
    },
    {
      "cell_type": "code",
      "source": [
        "numbers1 = [10, -10, 20, 30, -20, 40, -30]\n",
        "positives = [] # 空のリストを作成する\n",
        "positives.append(numbers1[0])\n",
        "positives.append(numbers1[2])\n",
        "positives.append(numbers1[3])\n",
        "positives.append(numbers1[5])\n",
        "positives"
      ],
      "metadata": {
        "colab": {
          "base_uri": "https://localhost:8080/"
        },
        "id": "8QMO7XB0vGs4",
        "outputId": "d4ee0b49-ed29-4475-a8bb-11b010caf74b"
      },
      "execution_count": 65,
      "outputs": [
        {
          "output_type": "execute_result",
          "data": {
            "text/plain": [
              "[10, 20, 30, 40]"
            ]
          },
          "metadata": {},
          "execution_count": 65
        }
      ]
    },
    {
      "cell_type": "markdown",
      "source": [
        "#▲リストにリストの要素を追加する\n",
        "\n",
        "extend メソッドはリストの最後尾に指定したリストの要素を付け加えます。"
      ],
      "metadata": {
        "id": "rBz3fe8ExYNZ"
      }
    },
    {
      "cell_type": "code",
      "source": [
        "numbers = [10, 20, 30, 40, 50]\n",
        "numbers.extend([200, 300, 400, 200]) # numbers += [200, 300, 400, 200] と同じ\n",
        "numbers"
      ],
      "metadata": {
        "colab": {
          "base_uri": "https://localhost:8080/"
        },
        "id": "otoO-1sPvGna",
        "outputId": "58b3ffff-168e-47b4-fee8-1ff6912331e5"
      },
      "execution_count": 66,
      "outputs": [
        {
          "output_type": "execute_result",
          "data": {
            "text/plain": [
              "[10, 20, 30, 40, 50, 200, 300, 400, 200]"
            ]
          },
          "metadata": {},
          "execution_count": 66
        }
      ]
    },
    {
      "cell_type": "markdown",
      "source": [
        "▲リストに要素を挿入する\n",
        "\n",
        "insert メソッドはリストのインデックスを指定した位置に新しい要素を挿入します。\n",
        "\n"
      ],
      "metadata": {
        "id": "9aNyvqjSxqFo"
      }
    },
    {
      "cell_type": "code",
      "source": [
        "numbers = [10, 20, 30, 40, 50]\n",
        "numbers.insert(1, 1000)\n",
        "numbers"
      ],
      "metadata": {
        "colab": {
          "base_uri": "https://localhost:8080/"
        },
        "id": "HQieTao3w7Sk",
        "outputId": "07bc8825-8d39-4ae2-cb1b-b444450cb357"
      },
      "execution_count": 67,
      "outputs": [
        {
          "output_type": "execute_result",
          "data": {
            "text/plain": [
              "[10, 1000, 20, 30, 40, 50]"
            ]
          },
          "metadata": {},
          "execution_count": 67
        }
      ]
    },
    {
      "cell_type": "markdown",
      "source": [
        "▲リストから要素を削除する\n",
        "\n",
        "remove メソッドは指定した要素をリストから削除します。\n",
        "\n"
      ],
      "metadata": {
        "id": "nOGh4xomxx-X"
      }
    },
    {
      "cell_type": "code",
      "source": [
        "numbers.remove(20) # 指定した要素が複数個リストに含まれる場合、一番最初の要素を削除\n",
        "numbers"
      ],
      "metadata": {
        "colab": {
          "base_uri": "https://localhost:8080/"
        },
        "id": "dzqvIJWGxzIR",
        "outputId": "01bdd6ed-e6b6-4440-f525-5a8d05de5b17"
      },
      "execution_count": 68,
      "outputs": [
        {
          "output_type": "execute_result",
          "data": {
            "text/plain": [
              "[10, 1000, 30, 40, 50]"
            ]
          },
          "metadata": {},
          "execution_count": 68
        }
      ]
    },
    {
      "cell_type": "markdown",
      "source": [
        "▲リストからインデックスで指定した要素を削除する\n",
        "\n",
        "pop メソッドはリストから指定したインデックスを削除し、その要素を返します。\n",
        "\n"
      ],
      "metadata": {
        "id": "2gKMV61ZyAE7"
      }
    },
    {
      "cell_type": "code",
      "source": [
        "numbers = [10, 20, 20, 30, 20, 40]\n",
        "print(numbers.pop(3))\n",
        "print(numbers)"
      ],
      "metadata": {
        "colab": {
          "base_uri": "https://localhost:8080/"
        },
        "id": "HEMBCpE6xzFq",
        "outputId": "800231bd-f76f-40ee-b307-cd6fbc5eca78"
      },
      "execution_count": 69,
      "outputs": [
        {
          "output_type": "stream",
          "name": "stdout",
          "text": [
            "30\n",
            "[10, 20, 20, 20, 40]\n"
          ]
        }
      ]
    },
    {
      "cell_type": "code",
      "source": [
        "ln = [10, 20, 30, 20, 40]\n",
        "print(ln.pop())\n",
        "print(ln)"
      ],
      "metadata": {
        "colab": {
          "base_uri": "https://localhost:8080/"
        },
        "id": "cjzkrn2ExzCR",
        "outputId": "d834e258-d4bc-4700-82e6-897f391538e2"
      },
      "execution_count": 70,
      "outputs": [
        {
          "output_type": "stream",
          "name": "stdout",
          "text": [
            "40\n",
            "[10, 20, 30, 20]\n"
          ]
        }
      ]
    },
    {
      "cell_type": "markdown",
      "source": [
        "#▲リスト要素を削除する¶\n",
        "\n",
        "del 文は指定するリストの要素を削除します。具体的には以下のように削除したい要素をインデックスで指定します。\n",
        "del も**破壊的**であることに注意してください。\n"
      ],
      "metadata": {
        "id": "aVMU4zv2yQgx"
      }
    },
    {
      "cell_type": "code",
      "source": [
        "numbers = [10, 20, 30, 40, 50]\n",
        "del numbers[2]\n",
        "numbers"
      ],
      "metadata": {
        "colab": {
          "base_uri": "https://localhost:8080/"
        },
        "id": "6YWmm5szxy_g",
        "outputId": "16e598cb-dd6d-49ca-af53-a8ab932a3e2c"
      },
      "execution_count": 71,
      "outputs": [
        {
          "output_type": "execute_result",
          "data": {
            "text/plain": [
              "[10, 20, 40, 50]"
            ]
          },
          "metadata": {},
          "execution_count": 71
        }
      ]
    },
    {
      "cell_type": "code",
      "source": [
        "numbers = [10, 20, 30, 40, 50]\n",
        "del numbers[2:4]\n",
        "numbers"
      ],
      "metadata": {
        "colab": {
          "base_uri": "https://localhost:8080/"
        },
        "id": "1HbbniwTw7PL",
        "outputId": "143988ff-c66d-4a11-db95-317a32abc077"
      },
      "execution_count": 72,
      "outputs": [
        {
          "output_type": "execute_result",
          "data": {
            "text/plain": [
              "[10, 20, 50]"
            ]
          },
          "metadata": {},
          "execution_count": 72
        }
      ]
    },
    {
      "cell_type": "markdown",
      "source": [
        "#▲リストの要素を逆順にする\n",
        "\n",
        "reverse メソッドはリスト内の要素の順序を逆順にします。"
      ],
      "metadata": {
        "id": "mgslAwDHyiDa"
      }
    },
    {
      "cell_type": "code",
      "source": [
        "characters = ['e', 'd', 'a', 'c', 'f', 'b']\n",
        "characters.reverse()\n",
        "characters"
      ],
      "metadata": {
        "colab": {
          "base_uri": "https://localhost:8080/"
        },
        "id": "IwQcKFlow7MV",
        "outputId": "6525c875-faf8-42e4-8afd-7e9dfe9db682"
      },
      "execution_count": 73,
      "outputs": [
        {
          "output_type": "execute_result",
          "data": {
            "text/plain": [
              "['b', 'f', 'c', 'a', 'd', 'e']"
            ]
          },
          "metadata": {},
          "execution_count": 73
        }
      ]
    },
    {
      "cell_type": "markdown",
      "source": [
        "#▲ copy\n",
        "\n",
        "リストを複製します。 すなわち、ln の値がリストであるとき、ln.copy() は ln と同じ長さのリストを新たに作って、 ln の要素を新しいリストに同じ順番で格納して、その新しいリストを返します。\n",
        "\n",
        "複製されたリストに変更を加えたとしても、もとのリストは影響を受けません。\n",
        "\n"
      ],
      "metadata": {
        "id": "q3X6FCaNyoE0"
      }
    },
    {
      "cell_type": "code",
      "source": [
        "numbers = [10, 20, 30, 40, 50]\n",
        "numbers2 = numbers.copy()\n",
        "del numbers[1:3]\n",
        "numbers.reverse()\n",
        "print(numbers)\n",
        "print(numbers2)"
      ],
      "metadata": {
        "colab": {
          "base_uri": "https://localhost:8080/"
        },
        "id": "UQP9EVwvyZ1m",
        "outputId": "3d75b303-d5ed-41c3-c2b0-6a497e0cf495"
      },
      "execution_count": 74,
      "outputs": [
        {
          "output_type": "stream",
          "name": "stdout",
          "text": [
            "[50, 40, 10]\n",
            "[10, 20, 30, 40, 50]\n"
          ]
        }
      ]
    },
    {
      "cell_type": "code",
      "source": [
        "numbers = [10, 20, 30, 40, 50]\n",
        "numbers2 = numbers\n",
        "del numbers[1:3]\n",
        "numbers.reverse()\n",
        "print(numbers)\n",
        "print(numbers2)"
      ],
      "metadata": {
        "colab": {
          "base_uri": "https://localhost:8080/"
        },
        "id": "-5DzGBVLyZyv",
        "outputId": "b7a7d7f1-817d-47d3-99ae-f876d83675d0"
      },
      "execution_count": 75,
      "outputs": [
        {
          "output_type": "stream",
          "name": "stdout",
          "text": [
            "[50, 40, 10]\n",
            "[50, 40, 10]\n"
          ]
        }
      ]
    },
    {
      "cell_type": "markdown",
      "source": [
        "#リストと文字列の相互変換\n",
        "\n",
        "文字列は変更不可能である一方、リスト変更可能です。 そのため、文字列処理をする際は、文字列のリストに一旦変換してから、変更を加えて、文字列に変換することが典型的です。 ここでは、文字列とリストの相互変換の方法を示します。\n",
        "\n",
        "まず、文字列 s を list 関数に渡すと、s を文字単位で区切ったリストが得られます。\n",
        "\n"
      ],
      "metadata": {
        "id": "YUGnDCo5zpHF"
      }
    },
    {
      "cell_type": "code",
      "source": [
        "list('abc123')\n"
      ],
      "metadata": {
        "colab": {
          "base_uri": "https://localhost:8080/"
        },
        "id": "qtiAwUDyyZv4",
        "outputId": "b7aea788-8d34-4d27-ddc7-cf54892c4bcd"
      },
      "execution_count": 76,
      "outputs": [
        {
          "output_type": "execute_result",
          "data": {
            "text/plain": [
              "['a', 'b', 'c', '1', '2', '3']"
            ]
          },
          "metadata": {},
          "execution_count": 76
        }
      ]
    },
    {
      "cell_type": "markdown",
      "source": [
        "文字単位ではなく、指定された文字列で区切ってリストにする際は、 split メソッドを使います。"
      ],
      "metadata": {
        "id": "2rpArDkJz4cV"
      }
    },
    {
      "cell_type": "code",
      "source": [
        "'banana'.split('n')"
      ],
      "metadata": {
        "colab": {
          "base_uri": "https://localhost:8080/"
        },
        "id": "EqUdTypIyZtA",
        "outputId": "086c318b-a039-4f44-8383-5e316f35d998"
      },
      "execution_count": 77,
      "outputs": [
        {
          "output_type": "execute_result",
          "data": {
            "text/plain": [
              "['ba', 'a', 'a']"
            ]
          },
          "metadata": {},
          "execution_count": 77
        }
      ]
    },
    {
      "cell_type": "code",
      "source": [
        "'A and B and C'.split(' and ')"
      ],
      "metadata": {
        "colab": {
          "base_uri": "https://localhost:8080/"
        },
        "id": "rmETCN4FyZqZ",
        "outputId": "b39c40a0-c774-4067-f0c5-28ace53170fe"
      },
      "execution_count": 78,
      "outputs": [
        {
          "output_type": "execute_result",
          "data": {
            "text/plain": [
              "['A', 'B', 'C']"
            ]
          },
          "metadata": {},
          "execution_count": 78
        }
      ]
    },
    {
      "cell_type": "markdown",
      "source": [
        "split を無引数で呼び出すと、連続した空白文字を区切りと見做します。\n",
        "\n"
      ],
      "metadata": {
        "id": "_uRtrjoZ0IBv"
      }
    },
    {
      "cell_type": "code",
      "source": [
        "'A   B\\nC  '.split()"
      ],
      "metadata": {
        "colab": {
          "base_uri": "https://localhost:8080/"
        },
        "id": "q1lhsR6oyZnk",
        "outputId": "378b7b0e-06e1-43c5-b78e-6e176bbe0bfb"
      },
      "execution_count": 79,
      "outputs": [
        {
          "output_type": "execute_result",
          "data": {
            "text/plain": [
              "['A', 'B', 'C']"
            ]
          },
          "metadata": {},
          "execution_count": 79
        }
      ]
    },
    {
      "cell_type": "markdown",
      "source": [
        "逆に、文字のリストを連結して1つの文字列にする際は、 join メソッドを次のように使います。\n",
        "\n",
        "接合点に挿入する文字列.join(文字列のリスト)"
      ],
      "metadata": {
        "id": "5FI0d0mK0QzP"
      }
    },
    {
      "cell_type": "code",
      "source": [
        "''.join(['a', 'b', 'c', '1', '2', '3'])\n"
      ],
      "metadata": {
        "colab": {
          "base_uri": "https://localhost:8080/",
          "height": 35
        },
        "id": "Lk8Rec5azov3",
        "outputId": "293f7c3d-e40c-47b9-e909-9d8cec0220ba"
      },
      "execution_count": 80,
      "outputs": [
        {
          "output_type": "execute_result",
          "data": {
            "text/plain": [
              "'abc123'"
            ],
            "application/vnd.google.colaboratory.intrinsic+json": {
              "type": "string"
            }
          },
          "metadata": {},
          "execution_count": 80
        }
      ]
    },
    {
      "cell_type": "code",
      "source": [
        "'n'.join(['ba', 'a', 'a'])"
      ],
      "metadata": {
        "colab": {
          "base_uri": "https://localhost:8080/",
          "height": 35
        },
        "id": "aARfYT6VzosO",
        "outputId": "dc4e0a6f-a31b-46c2-f36e-b3b6ccd39e4f"
      },
      "execution_count": 81,
      "outputs": [
        {
          "output_type": "execute_result",
          "data": {
            "text/plain": [
              "'banana'"
            ],
            "application/vnd.google.colaboratory.intrinsic+json": {
              "type": "string"
            }
          },
          "metadata": {},
          "execution_count": 81
        }
      ]
    },
    {
      "cell_type": "markdown",
      "source": [
        "#練習\n",
        "\n",
        "emailアドレス email とドメイン名 domain を引数に取って、email のドメイン名を domain に置き換える関数 change_domain(email, domain) を作成してください。 なお、emailアドレスのドメイン名とは、 '@' で区切られた右側の部分を意味します。\n",
        "\n",
        "次のセルの ... のところを書き換えて change_domain(email, domain) を完成させてください。"
      ],
      "metadata": {
        "id": "mFkg8Qlk0a-Q"
      }
    },
    {
      "cell_type": "code",
      "source": [
        "def change_domain(email, domain):\n",
        "  num_at = email.index('@')\n",
        "  beforedomain = email[0:num_at]\n",
        "  return beforedomain + '@' + domain"
      ],
      "metadata": {
        "id": "r8oUG-jwzoo1"
      },
      "execution_count": 85,
      "outputs": []
    },
    {
      "cell_type": "code",
      "source": [
        "change_domain('spam@utokyo-ipp.org', 'ipp.u-tokyo.ac.jp')"
      ],
      "metadata": {
        "colab": {
          "base_uri": "https://localhost:8080/",
          "height": 35
        },
        "id": "1KcI0xv61TjT",
        "outputId": "68ae5fef-db3c-4237-a1ff-6ed6bfa708ab"
      },
      "execution_count": 86,
      "outputs": [
        {
          "output_type": "execute_result",
          "data": {
            "text/plain": [
              "'spam@ipp.u-tokyo.ac.jp'"
            ],
            "application/vnd.google.colaboratory.intrinsic+json": {
              "type": "string"
            }
          },
          "metadata": {},
          "execution_count": 86
        }
      ]
    },
    {
      "cell_type": "code",
      "source": [
        "print(change_domain('spam@utokyo-ipp.org', 'ipp.u-tokyo.ac.jp') == 'spam@ipp.u-tokyo.ac.jp')\n"
      ],
      "metadata": {
        "colab": {
          "base_uri": "https://localhost:8080/"
        },
        "id": "bicVj4AfzolM",
        "outputId": "20756114-918a-451f-8ce8-9cc0b09082d3"
      },
      "execution_count": 83,
      "outputs": [
        {
          "output_type": "stream",
          "name": "stdout",
          "text": [
            "True\n"
          ]
        }
      ]
    },
    {
      "cell_type": "code",
      "source": [
        "def change_domain(email, domain):\n",
        "    return '@'.join([email.split('@')[0], domain])"
      ],
      "metadata": {
        "id": "ERJzfl0_1vbu"
      },
      "execution_count": 87,
      "outputs": []
    },
    {
      "cell_type": "markdown",
      "source": [
        "#タプル (tuple)\n",
        "\n",
        "タプルは、リストと同じようにデータの並びであり、あらゆる種類のデータを要素にできます。 ただし、リストと違ってタプルは一度設定した要素を変更できません（文字列も同様でした）。 すなわち、**タプルは変更不可能なデータ**です。 したがって、リストの項で説明したメソッドの多く、要素を操作するもの、は適用できないのですが、 逆にいうと、作成した後で要素を変更する必要がない場合は、 タプルの方が実装の効率がよいので、リストよりもタプルを使うべきです。\n",
        "\n",
        "たとえば、関数が複数の値をリストにして返し、呼び出し側がすぐにリストをばらばらにして値を取り出すような場合は、 リストよりもタプルを使うべきです。 また、平面上の点を表そうとするとき、x座標とy座標を別々に変化させる必要がなければ、 (3, 5) のようなタプルを使うのが自然です。 このように、タプルを作成するには数学におけるのと同様に要素を丸括弧 (...) で囲みます。\n",
        "\n",
        "例を見ましょう。"
      ],
      "metadata": {
        "id": "aezm7Gbu17di"
      }
    },
    {
      "cell_type": "code",
      "source": [
        "x = 3\n",
        "y = 5\n",
        "point = (x, y)"
      ],
      "metadata": {
        "id": "CqMAwvW0zohW"
      },
      "execution_count": 88,
      "outputs": []
    },
    {
      "cell_type": "code",
      "source": [
        "type(point)"
      ],
      "metadata": {
        "colab": {
          "base_uri": "https://localhost:8080/"
        },
        "id": "XdO5cimS1_yR",
        "outputId": "501abfb8-f29b-4c68-a89a-9b1a1aa1e931"
      },
      "execution_count": 89,
      "outputs": [
        {
          "output_type": "execute_result",
          "data": {
            "text/plain": [
              "tuple"
            ]
          },
          "metadata": {},
          "execution_count": 89
        }
      ]
    },
    {
      "cell_type": "markdown",
      "source": [
        "要素が1つだけの場合は、 t = (1) ではなく、次のようにします。\n",
        "\n"
      ],
      "metadata": {
        "id": "Eeh1wWnl8lPl"
      }
    },
    {
      "cell_type": "code",
      "source": [
        "onlyone = (1,)\n",
        "onlyone"
      ],
      "metadata": {
        "colab": {
          "base_uri": "https://localhost:8080/"
        },
        "id": "UFykKQn31_tl",
        "outputId": "d329e725-72b1-458c-a519-2b1b159c29e3"
      },
      "execution_count": 90,
      "outputs": [
        {
          "output_type": "execute_result",
          "data": {
            "text/plain": [
              "(1,)"
            ]
          },
          "metadata": {},
          "execution_count": 90
        }
      ]
    },
    {
      "cell_type": "markdown",
      "source": [
        "t = (1) だと、t = 1 と同じになってしまいます。\n",
        "\n"
      ],
      "metadata": {
        "id": "zfapzuDg8q4h"
      }
    },
    {
      "cell_type": "code",
      "source": [
        "onlyone = (1)\n",
        "onlyone"
      ],
      "metadata": {
        "colab": {
          "base_uri": "https://localhost:8080/"
        },
        "id": "RYxyM7NO1_qd",
        "outputId": "4dbbad1e-e1e5-4a86-bccf-ad9d98694fa6"
      },
      "execution_count": 91,
      "outputs": [
        {
          "output_type": "execute_result",
          "data": {
            "text/plain": [
              "1"
            ]
          },
          "metadata": {},
          "execution_count": 91
        }
      ]
    },
    {
      "cell_type": "code",
      "source": [
        "empty = ()\n",
        "empty"
      ],
      "metadata": {
        "colab": {
          "base_uri": "https://localhost:8080/"
        },
        "id": "K-rjhTzz1_nl",
        "outputId": "49c5c1d7-4fc7-4ac4-9446-54f7244fe844"
      },
      "execution_count": 92,
      "outputs": [
        {
          "output_type": "execute_result",
          "data": {
            "text/plain": [
              "()"
            ]
          },
          "metadata": {},
          "execution_count": 92
        }
      ]
    },
    {
      "cell_type": "markdown",
      "source": [
        "リストや文字列と同様に、インデックスや組み込み関数を使った操作が可能です。\n",
        "\n"
      ],
      "metadata": {
        "id": "UJ1mWwxc82dI"
      }
    },
    {
      "cell_type": "code",
      "source": [
        "numbers3 = (1, 2, 3)\n",
        "numbers3[1] # インデックスの指定による値の取得"
      ],
      "metadata": {
        "colab": {
          "base_uri": "https://localhost:8080/"
        },
        "id": "O4ML3jWj1_kx",
        "outputId": "3fd1da56-b8ba-4306-836b-4653c1ef68aa"
      },
      "execution_count": 93,
      "outputs": [
        {
          "output_type": "execute_result",
          "data": {
            "text/plain": [
              "2"
            ]
          },
          "metadata": {},
          "execution_count": 93
        }
      ]
    },
    {
      "cell_type": "code",
      "source": [
        "numbers3[1:3] # スライス"
      ],
      "metadata": {
        "colab": {
          "base_uri": "https://localhost:8080/"
        },
        "id": "oU0gwWur1_iI",
        "outputId": "6ece52e6-50f2-405d-b07e-268493333143"
      },
      "execution_count": 94,
      "outputs": [
        {
          "output_type": "execute_result",
          "data": {
            "text/plain": [
              "(2, 3)"
            ]
          },
          "metadata": {},
          "execution_count": 94
        }
      ]
    },
    {
      "cell_type": "code",
      "source": [
        "numbers3 = (1, 2, 3)\n",
        "numbers3[1] = 5\n"
      ],
      "metadata": {
        "colab": {
          "base_uri": "https://localhost:8080/",
          "height": 166
        },
        "id": "Fa5XdUgN1_ef",
        "outputId": "107e3880-bd91-449d-cf37-6b61aaf02abb"
      },
      "execution_count": 95,
      "outputs": [
        {
          "output_type": "error",
          "ename": "TypeError",
          "evalue": "'tuple' object does not support item assignment",
          "traceback": [
            "\u001b[0;31m---------------------------------------------------------------------------\u001b[0m",
            "\u001b[0;31mTypeError\u001b[0m                                 Traceback (most recent call last)",
            "\u001b[0;32m/tmp/ipython-input-439401357.py\u001b[0m in \u001b[0;36m<cell line: 0>\u001b[0;34m()\u001b[0m\n\u001b[1;32m      1\u001b[0m \u001b[0mnumbers3\u001b[0m \u001b[0;34m=\u001b[0m \u001b[0;34m(\u001b[0m\u001b[0;36m1\u001b[0m\u001b[0;34m,\u001b[0m \u001b[0;36m2\u001b[0m\u001b[0;34m,\u001b[0m \u001b[0;36m3\u001b[0m\u001b[0;34m)\u001b[0m\u001b[0;34m\u001b[0m\u001b[0;34m\u001b[0m\u001b[0m\n\u001b[0;32m----> 2\u001b[0;31m \u001b[0mnumbers3\u001b[0m\u001b[0;34m[\u001b[0m\u001b[0;36m1\u001b[0m\u001b[0;34m]\u001b[0m \u001b[0;34m=\u001b[0m \u001b[0;36m5\u001b[0m\u001b[0;34m\u001b[0m\u001b[0;34m\u001b[0m\u001b[0m\n\u001b[0m",
            "\u001b[0;31mTypeError\u001b[0m: 'tuple' object does not support item assignment"
          ]
        }
      ]
    },
    {
      "cell_type": "markdown",
      "source": [
        "組み込み関数 list を使って、タプルをリストに変換できます。 （list はリストのデータ型でもあります。）\n"
      ],
      "metadata": {
        "id": "47H_yxp39UC7"
      }
    },
    {
      "cell_type": "code",
      "source": [
        "numbers3 = (1, 2, 3)\n",
        "list(numbers3)\n"
      ],
      "metadata": {
        "colab": {
          "base_uri": "https://localhost:8080/"
        },
        "id": "o4iS_2fQ1_br",
        "outputId": "28525f40-ed4d-4e41-be9b-427ab0e084a8"
      },
      "execution_count": 96,
      "outputs": [
        {
          "output_type": "execute_result",
          "data": {
            "text/plain": [
              "[1, 2, 3]"
            ]
          },
          "metadata": {},
          "execution_count": 96
        }
      ]
    },
    {
      "cell_type": "markdown",
      "source": [
        "組み込み関数 tuple を使って、逆にリストをタプルに変換できます。 （tuple はタプルのデータ型でもあります。）"
      ],
      "metadata": {
        "id": "p7J5uzkl9YW9"
      }
    },
    {
      "cell_type": "code",
      "source": [
        "numbers2 = [1, 2]\n",
        "tuple(numbers2)"
      ],
      "metadata": {
        "colab": {
          "base_uri": "https://localhost:8080/"
        },
        "id": "yt5O9Bur9X0K",
        "outputId": "cb2bbb33-1bcd-4f95-e244-d4e8cfb783e1"
      },
      "execution_count": 97,
      "outputs": [
        {
          "output_type": "execute_result",
          "data": {
            "text/plain": [
              "(1, 2)"
            ]
          },
          "metadata": {},
          "execution_count": 97
        }
      ]
    },
    {
      "cell_type": "markdown",
      "source": [
        "#練習\n",
        "\n",
        "整数の要素からなるリスト ln を引数として取り、 ln に含まれる要素を逆順に格納したタプルを返す関数 reverse_totuple を作成してください。\n",
        "\n",
        "以下のセルの ... のところを書き換えて reverse_totuple(ln) を作成してください。\n",
        "\n"
      ],
      "metadata": {
        "id": "s3WRNAFn9ihv"
      }
    },
    {
      "cell_type": "code",
      "source": [
        "def reverse_totuple(ln):\n",
        "\n",
        "\n",
        "  return tuple(ln.reverse())"
      ],
      "metadata": {
        "id": "N2kketgX9bJt"
      },
      "execution_count": 117,
      "outputs": []
    },
    {
      "cell_type": "code",
      "source": [
        "def reverse_totuple(ln):\n",
        "    ln.reverse()\n",
        "    tup = tuple(ln)\n",
        "    return tup"
      ],
      "metadata": {
        "id": "JCkX-Be63m38"
      },
      "execution_count": 120,
      "outputs": []
    },
    {
      "cell_type": "code",
      "source": [
        "reverse_totuple([1, 2, 3, 4, 5])"
      ],
      "metadata": {
        "colab": {
          "base_uri": "https://localhost:8080/"
        },
        "id": "XptqsMmy3Ekb",
        "outputId": "4fb54909-97dd-48b8-c22a-d4c6b0ffc6ba"
      },
      "execution_count": 121,
      "outputs": [
        {
          "output_type": "execute_result",
          "data": {
            "text/plain": [
              "(5, 4, 3, 2, 1)"
            ]
          },
          "metadata": {},
          "execution_count": 121
        }
      ]
    },
    {
      "cell_type": "code",
      "source": [
        "print(reverse_totuple([1, 2, 3, 4, 5]) == (5, 4, 3, 2, 1))\n"
      ],
      "metadata": {
        "colab": {
          "base_uri": "https://localhost:8080/"
        },
        "id": "XSL0Veaw9cNB",
        "outputId": "14996ccd-fab5-4709-d281-1d6f14267f78"
      },
      "execution_count": 122,
      "outputs": [
        {
          "output_type": "stream",
          "name": "stdout",
          "text": [
            "True\n"
          ]
        }
      ]
    },
    {
      "cell_type": "markdown",
      "source": [
        "#多重代入\n",
        "\n",
        "多重代入では、左辺に複数の変数などを指定してタプルやリストの全ての要素を一度の操作で代入することができます。"
      ],
      "metadata": {
        "id": "tznnenpY4N-D"
      }
    },
    {
      "cell_type": "code",
      "source": [
        "numbers = [0, 10, 20, 30, 40]\n",
        "[a, b, c, d, e] = numbers\n",
        "b"
      ],
      "metadata": {
        "colab": {
          "base_uri": "https://localhost:8080/"
        },
        "id": "Pe4cd5BT9cI3",
        "outputId": "e686072e-b5c7-4425-dd60-5e8116843c19"
      },
      "execution_count": 123,
      "outputs": [
        {
          "output_type": "execute_result",
          "data": {
            "text/plain": [
              "10"
            ]
          },
          "metadata": {},
          "execution_count": 123
        }
      ]
    },
    {
      "cell_type": "code",
      "source": [
        "a, b, c, d, e = numbers\n",
        "b"
      ],
      "metadata": {
        "colab": {
          "base_uri": "https://localhost:8080/"
        },
        "id": "gJtvEUgC9cFN",
        "outputId": "67332741-da05-4d25-9fb1-06f53247a4e2"
      },
      "execution_count": 124,
      "outputs": [
        {
          "output_type": "execute_result",
          "data": {
            "text/plain": [
              "10"
            ]
          },
          "metadata": {},
          "execution_count": 124
        }
      ]
    },
    {
      "cell_type": "markdown",
      "source": [
        "多重代入は文字列に対しても実行可能です。\n",
        "\n"
      ],
      "metadata": {
        "id": "0YPtRSJt8Mue"
      }
    },
    {
      "cell_type": "code",
      "source": [
        "a, b, c, d, e = 'hello'\n",
        "d"
      ],
      "metadata": {
        "colab": {
          "base_uri": "https://localhost:8080/",
          "height": 35
        },
        "id": "VL0E1B9f9cBT",
        "outputId": "a619ba2c-0e14-48d9-b9b6-044f8fbc16a7"
      },
      "execution_count": 125,
      "outputs": [
        {
          "output_type": "execute_result",
          "data": {
            "text/plain": [
              "'l'"
            ],
            "application/vnd.google.colaboratory.intrinsic+json": {
              "type": "string"
            }
          },
          "metadata": {},
          "execution_count": 125
        }
      ]
    },
    {
      "cell_type": "code",
      "source": [
        "numbers3 = (1, 2, 3)\n",
        "(x,y,z) = numbers3\n",
        "y"
      ],
      "metadata": {
        "colab": {
          "base_uri": "https://localhost:8080/"
        },
        "id": "tDRzc08g8TFO",
        "outputId": "a2e45294-f946-4ce4-b3a6-edae581ac4c7"
      },
      "execution_count": 126,
      "outputs": [
        {
          "output_type": "execute_result",
          "data": {
            "text/plain": [
              "2"
            ]
          },
          "metadata": {},
          "execution_count": 126
        }
      ]
    },
    {
      "cell_type": "code",
      "source": [
        "x,y,z = numbers3\n",
        "print(y)\n",
        "(x,y,z) = (1, 2, 3)\n",
        "print(y)\n",
        "x,y,z = (1, 2, 3)\n",
        "print(y)\n",
        "(x,y,z) = 1, 2, 3\n",
        "print(y)\n",
        "x,y,z = 1, 2, 3\n",
        "print(y)"
      ],
      "metadata": {
        "colab": {
          "base_uri": "https://localhost:8080/"
        },
        "id": "WyrccXF98TBE",
        "outputId": "dce1d66b-93d6-46ee-a060-1731947e7b1e"
      },
      "execution_count": 127,
      "outputs": [
        {
          "output_type": "stream",
          "name": "stdout",
          "text": [
            "2\n",
            "2\n",
            "2\n",
            "2\n",
            "2\n"
          ]
        }
      ]
    },
    {
      "cell_type": "markdown",
      "source": [
        "多重代入を使うことで、2つの変数に格納された値の入れ替えを行う手続きはしばしば用いられます。\n"
      ],
      "metadata": {
        "id": "kwr-x4-i8saZ"
      }
    },
    {
      "cell_type": "code",
      "source": [
        "\n",
        "x = 'apple'\n",
        "y = 'pen'\n",
        "x, y = y, x\n",
        "print(x, y) #w = x; x = y; y = w と同じ結果が得られる\n"
      ],
      "metadata": {
        "colab": {
          "base_uri": "https://localhost:8080/"
        },
        "id": "ySfPyUNV8S7U",
        "outputId": "8837036e-5fc7-4250-bc28-7be1ed41c73e"
      },
      "execution_count": 128,
      "outputs": [
        {
          "output_type": "stream",
          "name": "stdout",
          "text": [
            "pen apple\n"
          ]
        }
      ]
    },
    {
      "cell_type": "markdown",
      "source": [
        "#リストやタプルの比較演算\n",
        "\n",
        "数値などを比較するのに用いた比較演算子を用いて、2つのリストやタプルを比較することもできます。\n",
        "\n"
      ],
      "metadata": {
        "id": "wbEQ0MTs80r2"
      }
    },
    {
      "cell_type": "code",
      "source": [
        "print([1, 2, 3] == [1, 2, 3])\n",
        "print([1, 2] == [1, 2, 3])"
      ],
      "metadata": {
        "colab": {
          "base_uri": "https://localhost:8080/"
        },
        "id": "iMOoJe4c8S3s",
        "outputId": "27eafd00-2792-4a87-975f-5a890b524052"
      },
      "execution_count": 129,
      "outputs": [
        {
          "output_type": "stream",
          "name": "stdout",
          "text": [
            "True\n",
            "False\n"
          ]
        }
      ]
    },
    {
      "cell_type": "code",
      "source": [
        "print((1, 2, 3) == (1, 2, 3))\n",
        "print((1, 2) == (1, 2, 3))"
      ],
      "metadata": {
        "colab": {
          "base_uri": "https://localhost:8080/"
        },
        "id": "Y_CD2jX88Sxw",
        "outputId": "8e7d2c8d-6b0f-4323-cbc1-1b03045ac8aa"
      },
      "execution_count": 130,
      "outputs": [
        {
          "output_type": "stream",
          "name": "stdout",
          "text": [
            "True\n",
            "False\n"
          ]
        }
      ]
    },
    {
      "cell_type": "code",
      "source": [
        "print([1, 2, 3] != [1, 2, 3])\n",
        "print([1, 2] != [1, 2, 3])"
      ],
      "metadata": {
        "colab": {
          "base_uri": "https://localhost:8080/"
        },
        "id": "k5rh97zN9b97",
        "outputId": "c942b4ff-6b1d-4434-884c-ed2bf9316f57"
      },
      "execution_count": 131,
      "outputs": [
        {
          "output_type": "stream",
          "name": "stdout",
          "text": [
            "False\n",
            "True\n"
          ]
        }
      ]
    },
    {
      "cell_type": "code",
      "source": [
        "print((1, 2, 3) != (1, 2, 3))\n",
        "print((1, 2) != (1, 2, 3))"
      ],
      "metadata": {
        "colab": {
          "base_uri": "https://localhost:8080/"
        },
        "id": "fuAH42xN9b6B",
        "outputId": "ecba75ae-733e-43f8-8f16-5e96a94c2d4f"
      },
      "execution_count": 132,
      "outputs": [
        {
          "output_type": "stream",
          "name": "stdout",
          "text": [
            "False\n",
            "True\n"
          ]
        }
      ]
    },
    {
      "cell_type": "markdown",
      "source": [
        "大小の比較は、いわゆる辞書式による比較で、リストやタプルの最初の要素から順に比較して大小を決めます。 片方がもう片方を拡張したものであれば、拡張した方を大きいとします。"
      ],
      "metadata": {
        "id": "xZ5LIchT9I-D"
      }
    },
    {
      "cell_type": "code",
      "source": [
        "print([1, 2, 3] <= [1, 2, 3])\n",
        "print([1, 2, 3] < [1, 2, 3])\n",
        "print([1, 2, 3] < [1, 2, 4])\n",
        "print([1, 2] < [1, 2, 3])"
      ],
      "metadata": {
        "colab": {
          "base_uri": "https://localhost:8080/"
        },
        "id": "WzARy2Qn9b14",
        "outputId": "9f5818df-b2db-40c5-9e31-26cd4c9b89cf"
      },
      "execution_count": 133,
      "outputs": [
        {
          "output_type": "stream",
          "name": "stdout",
          "text": [
            "True\n",
            "False\n",
            "True\n",
            "True\n"
          ]
        }
      ]
    },
    {
      "cell_type": "code",
      "source": [
        "print((1, 2, 3) <= (1, 2, 3))\n",
        "print((1, 2, 3) < (1, 2, 3))\n",
        "print((1, 2, 3) < (1, 2, 4))\n",
        "print((1, 2) < (1, 2, 3))"
      ],
      "metadata": {
        "colab": {
          "base_uri": "https://localhost:8080/"
        },
        "id": "Mcj8fvVM9DDn",
        "outputId": "19f3e29d-5d5b-4d46-bb26-dc1744d13e20"
      },
      "execution_count": 134,
      "outputs": [
        {
          "output_type": "stream",
          "name": "stdout",
          "text": [
            "True\n",
            "False\n",
            "True\n",
            "True\n"
          ]
        }
      ]
    },
    {
      "cell_type": "markdown",
      "source": [
        "#for文による繰り返しとリスト・タプル\n",
        "\n",
        "きまった操作の繰り返しはコンピュータが最も得意とする処理のひとつです。 リストのそれぞれの要素にわたって操作を繰り返したい場合はfor文を用います。\n",
        "\n",
        "リスト ls の要素全てに対して、実行文 を繰り返すには次のように書きます。\n",
        "\n",
        "for value in ls:\n",
        "    実行文\n",
        "    \n",
        "for で始まる行の in の後に処理対象となるリスト ls が、in の前に変数 value が書かれます。\n",
        "\n",
        "ls の最初の要素、すなわち ls[0] が value に代入され 実行文 が処理されます。 実行文 の処理が終われば、ls の次の要素が value に代入され、処理が繰り返されます。 このようにして、ls の要素に対する処理が len(ls) 回繰り返されると、for文の処理が終了します。\n",
        "\n",
        "ここでの in の働きは、先に説明したリスト要素の有無を検査する in とは異なることに、 そして、if文と同様、 実行文 の前にはスペースが必要であることに注意してください。\n",
        "\n",
        "次に具体例を示します。 3つの要素を持つリスト ls から1つずつ要素を取り出し、変数 value に代入しています。 実行文 では value を用いて取り出した要素を参照しています。"
      ],
      "metadata": {
        "id": "cVM6Catb9UxT"
      }
    },
    {
      "cell_type": "code",
      "source": [
        "ls = [0, 1, 2]\n",
        "for value in ls:\n",
        "  print('For loop:', value)"
      ],
      "metadata": {
        "colab": {
          "base_uri": "https://localhost:8080/"
        },
        "id": "sPrs2FKM9C_-",
        "outputId": "9e8c3100-cac5-42e3-97e9-ed328f9426f5"
      },
      "execution_count": 136,
      "outputs": [
        {
          "output_type": "stream",
          "name": "stdout",
          "text": [
            "For loop: 0\n",
            "For loop: 1\n",
            "For loop: 2\n"
          ]
        }
      ]
    },
    {
      "cell_type": "code",
      "source": [
        "for value in [0,1,2]:\n",
        "  print('For loop:', value)"
      ],
      "metadata": {
        "colab": {
          "base_uri": "https://localhost:8080/"
        },
        "id": "t7SAPTgu9C8E",
        "outputId": "5d378679-5e8a-4a9a-e595-5c2c7591e6b8"
      },
      "execution_count": 137,
      "outputs": [
        {
          "output_type": "stream",
          "name": "stdout",
          "text": [
            "For loop: 0\n",
            "For loop: 1\n",
            "For loop: 2\n"
          ]
        }
      ]
    },
    {
      "cell_type": "markdown",
      "source": [
        "実行文 の前にスペースがないとエラーが出ます。\n"
      ],
      "metadata": {
        "id": "MVqYULh8-ISe"
      }
    },
    {
      "cell_type": "code",
      "source": [
        "\n",
        "for value in  [0,1,2]:\n",
        "print('For loop:', value)\n"
      ],
      "metadata": {
        "colab": {
          "base_uri": "https://localhost:8080/",
          "height": 110
        },
        "id": "2ZFHsas9-ID5",
        "outputId": "9fe617cb-3134-4da2-9e28-68f63a523f0b"
      },
      "execution_count": 138,
      "outputs": [
        {
          "output_type": "error",
          "ename": "IndentationError",
          "evalue": "expected an indented block after 'for' statement on line 1 (ipython-input-1109392815.py, line 2)",
          "traceback": [
            "\u001b[0;36m  File \u001b[0;32m\"/tmp/ipython-input-1109392815.py\"\u001b[0;36m, line \u001b[0;32m2\u001b[0m\n\u001b[0;31m    print('For loop:', value)\u001b[0m\n\u001b[0m    ^\u001b[0m\n\u001b[0;31mIndentationError\u001b[0m\u001b[0;31m:\u001b[0m expected an indented block after 'for' statement on line 1\n"
          ]
        }
      ]
    },
    {
      "cell_type": "markdown",
      "source": [
        "エラーが出れば意図した通りにプログラムが組めていないのにすぐ気が付きますが、 エラーが出ないために意図したプログラムが組めていないことに気が付かないことがあります。 たとえば、次のような内容を実行しようとしていたとします"
      ],
      "metadata": {
        "id": "Wg17CLGO-RSS"
      }
    },
    {
      "cell_type": "code",
      "source": [
        "for value in  [0,1,2]:\n",
        "    print('During for loop:', value)\n",
        "    print('During for loop, too:', value)"
      ],
      "metadata": {
        "id": "5YatWfge-IAP"
      },
      "execution_count": null,
      "outputs": []
    },
    {
      "cell_type": "code",
      "source": [
        "for value in [0, 1, 2]:\n",
        "  print('During for loop:', value)\n",
        "  print('During for loop, too:', value)"
      ],
      "metadata": {
        "colab": {
          "base_uri": "https://localhost:8080/"
        },
        "id": "cE2IshN_-H9X",
        "outputId": "b36b1e85-ac2c-4509-85a2-13eec9ba58df"
      },
      "execution_count": 139,
      "outputs": [
        {
          "output_type": "stream",
          "name": "stdout",
          "text": [
            "During for loop: 0\n",
            "During for loop, too: 0\n",
            "During for loop: 1\n",
            "During for loop, too: 1\n",
            "During for loop: 2\n",
            "During for loop, too: 2\n"
          ]
        }
      ]
    },
    {
      "cell_type": "code",
      "source": [
        "for value in [0,1,2]:\n",
        "    print('During for loop:', value)\n",
        "print('During for loop, too:', value) #この行のスペースの数が間違っていたがエラーは出ない"
      ],
      "metadata": {
        "colab": {
          "base_uri": "https://localhost:8080/"
        },
        "id": "ibbe5tPK-H62",
        "outputId": "bc0e2708-6721-4cde-86f5-ea023189c162"
      },
      "execution_count": 140,
      "outputs": [
        {
          "output_type": "stream",
          "name": "stdout",
          "text": [
            "During for loop: 0\n",
            "During for loop: 1\n",
            "During for loop: 2\n",
            "During for loop, too: 2\n"
          ]
        }
      ]
    },
    {
      "cell_type": "markdown",
      "source": [
        "タプルの要素にまたがる処理もリストと同様に行えます。\n"
      ],
      "metadata": {
        "id": "rptrHtH2-tWb"
      }
    },
    {
      "cell_type": "code",
      "source": [
        "for value in (0,1,2):\n",
        "    print('For loop:', value)\n"
      ],
      "metadata": {
        "colab": {
          "base_uri": "https://localhost:8080/"
        },
        "id": "gZnWjOc2-suT",
        "outputId": "8c15c32b-8ce8-4d0a-cdce-fc57611b0cdb"
      },
      "execution_count": 141,
      "outputs": [
        {
          "output_type": "stream",
          "name": "stdout",
          "text": [
            "For loop: 0\n",
            "For loop: 1\n",
            "For loop: 2\n"
          ]
        }
      ]
    },
    {
      "cell_type": "markdown",
      "source": [
        "以下はリストに対するfor文の典型例です。numbers は数のリストとします。\n",
        "\n",
        "\n",
        "以下のようにして、このリストの要素の自乗から成るリストを求めることができます。\n"
      ],
      "metadata": {
        "id": "TExvecB5-yix"
      }
    },
    {
      "cell_type": "code",
      "source": [
        "numbers = [0,1,2,3,4,5]\n",
        "\n",
        "squares1 = []\n",
        "for x in numbers:\n",
        "    squares1.append(x**2)\n",
        "squares1\n",
        "\n"
      ],
      "metadata": {
        "colab": {
          "base_uri": "https://localhost:8080/"
        },
        "id": "y7SWoLL9-srs",
        "outputId": "265f4368-7092-4113-e2d6-c3ff0d994b6c"
      },
      "execution_count": 142,
      "outputs": [
        {
          "output_type": "execute_result",
          "data": {
            "text/plain": [
              "[0, 1, 4, 9, 16, 25]"
            ]
          },
          "metadata": {},
          "execution_count": 142
        }
      ]
    },
    {
      "cell_type": "markdown",
      "source": [
        "squares1 には最初に空リストが代入されます。 そして、numbers の各要素の自乗がこのリストに次々と追加されます。"
      ],
      "metadata": {
        "id": "QcxW2_ue-9RN"
      }
    },
    {
      "cell_type": "markdown",
      "source": [
        "#練習\n",
        "\n",
        "整数の要素からなるリスト ln を引数として取り、ln の要素の総和を返す関数 sum_list を作成してください。\n",
        "\n",
        "以下のセルの ... のところを書き換えて sum_list(ln) を作成してください。\n",
        "\n"
      ],
      "metadata": {
        "id": "6pUvoSMI_C-E"
      }
    },
    {
      "cell_type": "code",
      "source": [
        "def sum_list(ln):\n",
        "  sum = 0\n",
        "  for value in ln:\n",
        "    sum = sum + value\n",
        "  return sum"
      ],
      "metadata": {
        "id": "DsMdf8OS-sok"
      },
      "execution_count": 148,
      "outputs": []
    },
    {
      "cell_type": "code",
      "source": [
        "def sum_list(ln):\n",
        "    int_sum = 0\n",
        "    for value in ln:\n",
        "        int_sum += value\n",
        "    return int_sum\n",
        "#sum_list([10, 20, 30])"
      ],
      "metadata": {
        "id": "X3q6GY-a_sdz"
      },
      "execution_count": 151,
      "outputs": []
    },
    {
      "cell_type": "code",
      "source": [
        "print(sum_list([10, 20, 30]) == 60)\n",
        "print(sum_list([-1, 2, -3, 4, -5]) == -3)"
      ],
      "metadata": {
        "colab": {
          "base_uri": "https://localhost:8080/"
        },
        "id": "OxohrqOA-slv",
        "outputId": "5274d21d-6b81-4a5d-c984-22aa2b897405"
      },
      "execution_count": 152,
      "outputs": [
        {
          "output_type": "stream",
          "name": "stdout",
          "text": [
            "True\n",
            "True\n"
          ]
        }
      ]
    },
    {
      "cell_type": "markdown",
      "source": [
        "#for文による繰り返しと文字列\n",
        "\n",
        "for文を使うと文字列全体にまたがる処理も可能です。 文字列 str1 をまたがって一文字ずつの繰り返し処理を行う場合は次のように書きます。 ここで、c には取り出された一文字（の文字列）が代入されています。\n",
        "\n",
        "for c in str1:\n",
        "\n",
        "    実行文\n",
        "\n",
        "str1 で与えられる文字列を一文字ずつ大文字で出力する処理は以下のようになります。"
      ],
      "metadata": {
        "id": "GJS7X2ed_yk7"
      }
    },
    {
      "cell_type": "code",
      "source": [
        "str1 = 'Apple and pen'\n",
        "for c in str1:\n",
        "    print(c.upper())"
      ],
      "metadata": {
        "colab": {
          "base_uri": "https://localhost:8080/"
        },
        "id": "guVaKr8G_uYa",
        "outputId": "386e1101-9fa7-49c6-c5e1-fc1c8c6ae3d6"
      },
      "execution_count": 153,
      "outputs": [
        {
          "output_type": "stream",
          "name": "stdout",
          "text": [
            "A\n",
            "P\n",
            "P\n",
            "L\n",
            "E\n",
            " \n",
            "A\n",
            "N\n",
            "D\n",
            " \n",
            "P\n",
            "E\n",
            "N\n"
          ]
        }
      ]
    },
    {
      "cell_type": "markdown",
      "source": [
        "#練習\n",
        "\n",
        "ATGCの4種類の文字から成る文字列 str_atgc が引数として与えられたとき、次のようなリスト list_count を返す関数 atgc_countlist を作成してください。ただし、 list_count の要素は、各塩基 bp に対して str_atgc 中の bp の出現回数と bp の名前を格納した（長さ2の）リストとします。\n",
        "\n",
        "ヒント：文字列 'ATGC' に対する繰り返しを用いることができます。\n",
        "\n",
        "以下のセルの ... のところを書き換えて atgc_countlist(str_atgc) を作成してください。"
      ],
      "metadata": {
        "id": "6yO0YH-kABFn"
      }
    },
    {
      "cell_type": "code",
      "source": [
        "def atgc_countlist(str_atgc):\n",
        "  bpA = []\n",
        "  bpT = []\n",
        "  bpG = []\n",
        "  bpC = []\n",
        "  countA = 0\n",
        "  countT = 0\n",
        "  countG = 0\n",
        "  countC = 0\n",
        "  for i in str_atgc:\n",
        "    # print(i)\n",
        "    if i == 'A':\n",
        "      countA += 1\n",
        "    elif i == 'T':\n",
        "      countT += 1\n",
        "    elif i == 'G':\n",
        "      countG += 1\n",
        "    elif i == 'C':\n",
        "      countC += 1\n",
        "  # bpA = ['A', countA]\n",
        "  # bpT = ['T', countT]\n",
        "  # bpG = ['G', countG]\n",
        "  # bpC = ['C', countC]\n",
        "  bpA = [countA,'A']\n",
        "  bpT = [countT,'T']\n",
        "  bpG = [countG,'G']\n",
        "  bpC = [countC,'C']\n",
        "  return bpA, bpT, bpG, bpC\n",
        "\n",
        "\n",
        "\n",
        "\n",
        "\n"
      ],
      "metadata": {
        "id": "CbUK1Z-K_uVj"
      },
      "execution_count": 163,
      "outputs": []
    },
    {
      "cell_type": "code",
      "source": [
        "atgc_countlist('AAGCCCCATGGTAA')"
      ],
      "metadata": {
        "colab": {
          "base_uri": "https://localhost:8080/"
        },
        "id": "cYCdPBsC_uSr",
        "outputId": "dabbbc0c-83e8-4a91-9193-0af9cdc52171"
      },
      "execution_count": 164,
      "outputs": [
        {
          "output_type": "execute_result",
          "data": {
            "text/plain": [
              "([5, 'A'], [2, 'T'], [3, 'G'], [4, 'C'])"
            ]
          },
          "metadata": {},
          "execution_count": 164
        }
      ]
    },
    {
      "cell_type": "code",
      "source": [
        "print(sorted(atgc_countlist('AAGCCCCATGGTAA')) == sorted([[5, 'A'], [2, 'T'], [3, 'G'], [4, 'C']]))\n"
      ],
      "metadata": {
        "colab": {
          "base_uri": "https://localhost:8080/"
        },
        "id": "mjkU8z4m_uPm",
        "outputId": "9c3ffd94-1c34-4db8-af29-7c83b73e1f4c"
      },
      "execution_count": 165,
      "outputs": [
        {
          "output_type": "stream",
          "name": "stdout",
          "text": [
            "True\n"
          ]
        }
      ]
    },
    {
      "cell_type": "code",
      "source": [
        "def atgc_countlist(str_atgc):\n",
        "  list_count = []\n",
        "  for value in 'ATGC':\n",
        "    int_bpcnt = str_atgc.count(value)\n",
        "    list_count.append([int_bpcnt, value])\n",
        "  return list_count"
      ],
      "metadata": {
        "id": "F5YQzrqj9C48"
      },
      "execution_count": 168,
      "outputs": []
    },
    {
      "cell_type": "code",
      "source": [
        "atgc_countlist('AAGCCCCATGGTAA')"
      ],
      "metadata": {
        "colab": {
          "base_uri": "https://localhost:8080/"
        },
        "id": "wkKu4z_rEbTA",
        "outputId": "fa0b6f62-c1b7-4cbd-8236-a5b34f492105"
      },
      "execution_count": 169,
      "outputs": [
        {
          "output_type": "execute_result",
          "data": {
            "text/plain": [
              "[[5, 'A'], [2, 'T'], [3, 'G'], [4, 'C']]"
            ]
          },
          "metadata": {},
          "execution_count": 169
        }
      ]
    },
    {
      "cell_type": "markdown",
      "source": [
        "#for文によるリスト初期化の短縮記法\n",
        "\n",
        "先に、リストの要素の自乗から成るリストを求める例を説明しました。"
      ],
      "metadata": {
        "id": "9KH-GwZ9Eqnv"
      }
    },
    {
      "cell_type": "code",
      "source": [
        "numbers = [0,1,2,3,4,5]\n",
        "\n",
        "squares1 = []\n",
        "for x in numbers:\n",
        "    squares1.append(x**2)\n",
        "squares1"
      ],
      "metadata": {
        "colab": {
          "base_uri": "https://localhost:8080/"
        },
        "id": "QHxfU2e3Eqac",
        "outputId": "4e397304-ac20-40e7-c701-7baf44c4004b"
      },
      "execution_count": 170,
      "outputs": [
        {
          "output_type": "execute_result",
          "data": {
            "text/plain": [
              "[0, 1, 4, 9, 16, 25]"
            ]
          },
          "metadata": {},
          "execution_count": 170
        }
      ]
    },
    {
      "cell_type": "markdown",
      "source": [
        "詳しくは6-1で説明されますが、内包表記を用いて書き換えると、以下のように1行で書くことができます。\n"
      ],
      "metadata": {
        "id": "U7ts3kGLE7G-"
      }
    },
    {
      "cell_type": "code",
      "source": [
        "squares2 = [x**2 for x in numbers]\n",
        "squares2"
      ],
      "metadata": {
        "colab": {
          "base_uri": "https://localhost:8080/"
        },
        "id": "rT6yBVKSEqWz",
        "outputId": "62f8fcb6-c263-459f-c20b-8415cd041c3a"
      },
      "execution_count": 171,
      "outputs": [
        {
          "output_type": "execute_result",
          "data": {
            "text/plain": [
              "[0, 1, 4, 9, 16, 25]"
            ]
          },
          "metadata": {},
          "execution_count": 171
        }
      ]
    },
    {
      "cell_type": "markdown",
      "source": [
        "すなわち、\n",
        "\n",
        "[x を含む式 for x in リストを返す式]\n",
        "\n",
        "という式は、\"リストを返す式\" が返したリストの各要素を x に代入して \"x を含む式\" を計算し、 その結果をリストにして返します。 もちろん、変数は x でなくてもよいです。\n"
      ],
      "metadata": {
        "id": "qpEvGQcMFIpn"
      }
    },
    {
      "cell_type": "code",
      "source": [
        "\n",
        "[y**2 for y in numbers]"
      ],
      "metadata": {
        "colab": {
          "base_uri": "https://localhost:8080/"
        },
        "id": "8PKy2j2LEqT8",
        "outputId": "8a8b4dee-51f1-4a94-dadd-a3876156e494"
      },
      "execution_count": 172,
      "outputs": [
        {
          "output_type": "execute_result",
          "data": {
            "text/plain": [
              "[0, 1, 4, 9, 16, 25]"
            ]
          },
          "metadata": {},
          "execution_count": 172
        }
      ]
    },
    {
      "cell_type": "markdown",
      "source": [
        "#▲オブジェクトの等価性と同一性\n",
        "\n",
        "1-3で、Pythonにおける値はオブジェクトと総称されますと述べました。 ここでは、オブジェクトの等価性と同一性について説明します。\n",
        "\n",
        "既に見てきたように、演算子 == を用いてオブジェクトの等価性を判定できます。"
      ],
      "metadata": {
        "id": "3H2aJh2cFRo6"
      }
    },
    {
      "cell_type": "code",
      "source": [
        "a = []\n",
        "b = []"
      ],
      "metadata": {
        "id": "5bmT2uYOFb7M"
      },
      "execution_count": 173,
      "outputs": []
    },
    {
      "cell_type": "code",
      "source": [
        "a == b"
      ],
      "metadata": {
        "colab": {
          "base_uri": "https://localhost:8080/"
        },
        "id": "CCE52Tv7Fb4E",
        "outputId": "e0870203-268d-4c9c-a670-1c10ae8fb3f1"
      },
      "execution_count": 174,
      "outputs": [
        {
          "output_type": "execute_result",
          "data": {
            "text/plain": [
              "True"
            ]
          },
          "metadata": {},
          "execution_count": 174
        }
      ]
    },
    {
      "cell_type": "markdown",
      "source": [
        "しかし、[ で始まり ] で終わる式を評価すると、 必ず新しいリスト（オブジェクト）が作られて返されるので、 a と b の値は同一ではありません。\n",
        "\n",
        "オブジェクトの同一性は演算子 is を用いて判定できます。"
      ],
      "metadata": {
        "id": "YIHUA2x2FlpY"
      }
    },
    {
      "cell_type": "code",
      "source": [
        "a is b"
      ],
      "metadata": {
        "colab": {
          "base_uri": "https://localhost:8080/"
        },
        "id": "huR_MW0wFb0_",
        "outputId": "36f4d223-f91b-446d-a3de-e915a1d96a55"
      },
      "execution_count": 175,
      "outputs": [
        {
          "output_type": "execute_result",
          "data": {
            "text/plain": [
              "False"
            ]
          },
          "metadata": {},
          "execution_count": 175
        }
      ]
    },
    {
      "cell_type": "markdown",
      "source": [
        "リストの要素はオブジェクトなので、要素ごとに等価性と同一性が定まります。\n",
        "\n",
        "例として、a と b を要素とするリスト c を作ります。"
      ],
      "metadata": {
        "id": "4B367_ddFv7d"
      }
    },
    {
      "cell_type": "code",
      "source": [
        "c = [a, b]\n",
        "c"
      ],
      "metadata": {
        "colab": {
          "base_uri": "https://localhost:8080/"
        },
        "id": "ONa_fpk1FzM2",
        "outputId": "d98b34cf-f882-435c-c7fc-54dd7266431f"
      },
      "execution_count": 176,
      "outputs": [
        {
          "output_type": "execute_result",
          "data": {
            "text/plain": [
              "[[], []]"
            ]
          },
          "metadata": {},
          "execution_count": 176
        }
      ]
    },
    {
      "cell_type": "code",
      "source": [
        "c[0] is c[1]\n"
      ],
      "metadata": {
        "colab": {
          "base_uri": "https://localhost:8080/"
        },
        "id": "H3DtL-UUFzJs",
        "outputId": "7968872b-e1b8-4fea-c67b-63e59fed5b17"
      },
      "execution_count": 177,
      "outputs": [
        {
          "output_type": "execute_result",
          "data": {
            "text/plain": [
              "False"
            ]
          },
          "metadata": {},
          "execution_count": 177
        }
      ]
    },
    {
      "cell_type": "code",
      "source": [
        "c[0] == c[1]\n"
      ],
      "metadata": {
        "colab": {
          "base_uri": "https://localhost:8080/"
        },
        "id": "YhmwG4wCFzG2",
        "outputId": "f21495ce-5e4d-4251-e353-f00488db3c80"
      },
      "execution_count": 178,
      "outputs": [
        {
          "output_type": "execute_result",
          "data": {
            "text/plain": [
              "True"
            ]
          },
          "metadata": {},
          "execution_count": 178
        }
      ]
    },
    {
      "cell_type": "code",
      "source": [
        "a.append(1)\n",
        "a"
      ],
      "metadata": {
        "colab": {
          "base_uri": "https://localhost:8080/"
        },
        "id": "EIXv3eTAEqNc",
        "outputId": "fb584480-4e5e-490f-b6cc-4a5bb5721e3a"
      },
      "execution_count": 179,
      "outputs": [
        {
          "output_type": "execute_result",
          "data": {
            "text/plain": [
              "[1]"
            ]
          },
          "metadata": {},
          "execution_count": 179
        }
      ]
    },
    {
      "cell_type": "code",
      "source": [
        "# すると c は以下のようになります。\n",
        "\n",
        "c"
      ],
      "metadata": {
        "colab": {
          "base_uri": "https://localhost:8080/"
        },
        "id": "47luq-tk9C2E",
        "outputId": "969b1a61-baaa-48fe-cb33-11b5ed690a11"
      },
      "execution_count": 180,
      "outputs": [
        {
          "output_type": "execute_result",
          "data": {
            "text/plain": [
              "[[1], []]"
            ]
          },
          "metadata": {},
          "execution_count": 180
        }
      ]
    },
    {
      "cell_type": "code",
      "source": [
        "# ここで、a と b は等価でなくなりました。\n",
        "\n",
        "a == b"
      ],
      "metadata": {
        "colab": {
          "base_uri": "https://localhost:8080/"
        },
        "id": "X6GLxa7D9Cyr",
        "outputId": "65688241-d305-4481-ba1c-fc9c103327eb"
      },
      "execution_count": 181,
      "outputs": [
        {
          "output_type": "execute_result",
          "data": {
            "text/plain": [
              "False"
            ]
          },
          "metadata": {},
          "execution_count": 181
        }
      ]
    },
    {
      "cell_type": "code",
      "source": [
        "# 次に、b を要素として二重に含むリスト d を作ります。\n",
        "\n",
        "d = [b, b]\n",
        "\n",
        "d[0] is d[1]\n"
      ],
      "metadata": {
        "colab": {
          "base_uri": "https://localhost:8080/"
        },
        "id": "Nl_XfwuNGId_",
        "outputId": "fb4d9010-1b09-4b31-f606-b8dbe52012e2"
      },
      "execution_count": 182,
      "outputs": [
        {
          "output_type": "execute_result",
          "data": {
            "text/plain": [
              "True"
            ]
          },
          "metadata": {},
          "execution_count": 182
        }
      ]
    },
    {
      "cell_type": "code",
      "source": [
        "# b を変化させてみましょう。\n",
        "\n",
        "b.append(1)\n",
        "b\n",
        "\n",
        "# すると d は以下のようになります。\n",
        "\n",
        "d"
      ],
      "metadata": {
        "colab": {
          "base_uri": "https://localhost:8080/"
        },
        "id": "3xJ7DDr1GIbH",
        "outputId": "6ecbc9bd-65d9-4585-9601-157f34e7403e"
      },
      "execution_count": 183,
      "outputs": [
        {
          "output_type": "execute_result",
          "data": {
            "text/plain": [
              "[[1], [1]]"
            ]
          },
          "metadata": {},
          "execution_count": 183
        }
      ]
    },
    {
      "cell_type": "markdown",
      "source": [
        "演算子 == でリストを比較すると、要素まで見て等価性を判定します。\n",
        "\n"
      ],
      "metadata": {
        "id": "ZE2OopNTGiGa"
      }
    },
    {
      "cell_type": "code",
      "source": [
        "print(a, b)\n",
        "a == b"
      ],
      "metadata": {
        "colab": {
          "base_uri": "https://localhost:8080/"
        },
        "id": "h_jgwqKwGIX_",
        "outputId": "26547b2c-1e67-4ff6-e636-3109a8b3d3eb"
      },
      "execution_count": 184,
      "outputs": [
        {
          "output_type": "stream",
          "name": "stdout",
          "text": [
            "[1] [1]\n"
          ]
        },
        {
          "output_type": "execute_result",
          "data": {
            "text/plain": [
              "True"
            ]
          },
          "metadata": {},
          "execution_count": 184
        }
      ]
    },
    {
      "cell_type": "code",
      "source": [
        "# 演算子 == は、要素の比較も == で行います。\n",
        "\n",
        "print(c, d)\n",
        "c == d"
      ],
      "metadata": {
        "colab": {
          "base_uri": "https://localhost:8080/"
        },
        "id": "5S9zPKldGIUp",
        "outputId": "9119a1d5-84c1-45a1-e35b-281733763cbf"
      },
      "execution_count": 185,
      "outputs": [
        {
          "output_type": "stream",
          "name": "stdout",
          "text": [
            "[[1], [1]] [[1], [1]]\n"
          ]
        },
        {
          "output_type": "execute_result",
          "data": {
            "text/plain": [
              "True"
            ]
          },
          "metadata": {},
          "execution_count": 185
        }
      ]
    },
    {
      "cell_type": "code",
      "source": [
        "# 一方、オブジェクトの同一性は変化しません。\n",
        "a is b\n"
      ],
      "metadata": {
        "colab": {
          "base_uri": "https://localhost:8080/"
        },
        "id": "xKeQleMVGIRO",
        "outputId": "e5a2d20d-d7aa-4365-9211-a69a07a3ba7d"
      },
      "execution_count": 186,
      "outputs": [
        {
          "output_type": "execute_result",
          "data": {
            "text/plain": [
              "False"
            ]
          },
          "metadata": {},
          "execution_count": 186
        }
      ]
    },
    {
      "cell_type": "markdown",
      "source": [
        "== の否定形は != で、is の否定形は is not です。 not x == y は x != y と書けます。not x is y は x is not y と書けます。 is not はこれで1つの演算子なので注意してください。\n"
      ],
      "metadata": {
        "id": "-hXfpMh7G4Vj"
      }
    },
    {
      "cell_type": "code",
      "source": [
        "\n",
        "c != d\n",
        "\n"
      ],
      "metadata": {
        "colab": {
          "base_uri": "https://localhost:8080/"
        },
        "id": "JbkL4DyTGIOI",
        "outputId": "f5d817bd-5b02-4c61-c294-3066de29486d"
      },
      "execution_count": 187,
      "outputs": [
        {
          "output_type": "execute_result",
          "data": {
            "text/plain": [
              "False"
            ]
          },
          "metadata": {},
          "execution_count": 187
        }
      ]
    },
    {
      "cell_type": "code",
      "source": [
        "a is not b"
      ],
      "metadata": {
        "colab": {
          "base_uri": "https://localhost:8080/"
        },
        "id": "jcc-g5lS9Cv1",
        "outputId": "4598e086-1100-4977-9dda-0f388cfad40b"
      },
      "execution_count": 188,
      "outputs": [
        {
          "output_type": "execute_result",
          "data": {
            "text/plain": [
              "True"
            ]
          },
          "metadata": {},
          "execution_count": 188
        }
      ]
    },
    {
      "cell_type": "markdown",
      "source": [
        "#3-1. 辞書 (dictionary)\n",
        "\n",
        "キーと値を対応させるデータ構造である辞書について説明します。\n",
        "\n",
        "参考\n",
        "\n",
        "https://docs.python.org/ja/3/tutorial/datastructures.html#dictionaries\n",
        "\n",
        "辞書は、キー (key) と値 (value) を対応づけるデータです。 キーとしては、文字列・数値・タプルなどの変更不可能なデータを使うことができますが、 変更可能なデータであるリスト・辞書を使うことはできません。 （辞書も変更可能なデータです。） 一方、値としては、変更の可否にかかわらずあらゆる種類のデータを指定できます。\n",
        "\n",
        "たとえば、文字列 'apple' をキーとし値として数値 3 を、'pen' をキーとして 5 を対応付けた辞書は、 次のように作成します。"
      ],
      "metadata": {
        "id": "7IfwQ7EyHIEU"
      }
    },
    {
      "cell_type": "code",
      "source": [
        "ppap = {'apple' : 3, 'pen' : 5}"
      ],
      "metadata": {
        "id": "9NiMvl6TJ2hB"
      },
      "execution_count": 189,
      "outputs": []
    },
    {
      "cell_type": "code",
      "source": [
        "ppap = {'apple' : 3, 'pen' : 5}\n",
        "ppap"
      ],
      "metadata": {
        "colab": {
          "base_uri": "https://localhost:8080/"
        },
        "id": "moVwj6Xb9CtA",
        "outputId": "420fbbdb-d22c-4d80-fb0c-919df3f29cb0"
      },
      "execution_count": 190,
      "outputs": [
        {
          "output_type": "execute_result",
          "data": {
            "text/plain": [
              "{'apple': 3, 'pen': 5}"
            ]
          },
          "metadata": {},
          "execution_count": 190
        }
      ]
    },
    {
      "cell_type": "code",
      "source": [
        "type(ppap)"
      ],
      "metadata": {
        "colab": {
          "base_uri": "https://localhost:8080/"
        },
        "id": "MWwa1ddUHHve",
        "outputId": "7b73fdb3-5415-450f-cdd0-834e858b0c60"
      },
      "execution_count": 191,
      "outputs": [
        {
          "output_type": "execute_result",
          "data": {
            "text/plain": [
              "dict"
            ]
          },
          "metadata": {},
          "execution_count": 191
        }
      ]
    },
    {
      "cell_type": "markdown",
      "source": [
        "辞書の キー1 に対応する値を得るには、リストにおけるインデックスと同様に、\n",
        "\n",
        "辞書[キー1]\n",
        "\n",
        "とします。"
      ],
      "metadata": {
        "id": "Lm0XItiQKIzb"
      }
    },
    {
      "cell_type": "code",
      "source": [
        "ppap = {'apple' : 3, 'pen' : 5}\n",
        "ppap['apple']"
      ],
      "metadata": {
        "colab": {
          "base_uri": "https://localhost:8080/"
        },
        "id": "3lWaHXhEHHsG",
        "outputId": "3eec745e-5c0a-4279-fd4c-f411009f19a8"
      },
      "execution_count": 192,
      "outputs": [
        {
          "output_type": "execute_result",
          "data": {
            "text/plain": [
              "3"
            ]
          },
          "metadata": {},
          "execution_count": 192
        }
      ]
    },
    {
      "cell_type": "code",
      "source": [
        "ppap['orange']"
      ],
      "metadata": {
        "colab": {
          "base_uri": "https://localhost:8080/",
          "height": 147
        },
        "id": "VSL0zIgpHHo9",
        "outputId": "2586f76d-a199-49be-9a9a-4c14b195a105"
      },
      "execution_count": 193,
      "outputs": [
        {
          "output_type": "error",
          "ename": "KeyError",
          "evalue": "'orange'",
          "traceback": [
            "\u001b[0;31m---------------------------------------------------------------------------\u001b[0m",
            "\u001b[0;31mKeyError\u001b[0m                                  Traceback (most recent call last)",
            "\u001b[0;32m/tmp/ipython-input-2828625380.py\u001b[0m in \u001b[0;36m<cell line: 0>\u001b[0;34m()\u001b[0m\n\u001b[0;32m----> 1\u001b[0;31m \u001b[0mppap\u001b[0m\u001b[0;34m[\u001b[0m\u001b[0;34m'orange'\u001b[0m\u001b[0;34m]\u001b[0m\u001b[0;34m\u001b[0m\u001b[0;34m\u001b[0m\u001b[0m\n\u001b[0m",
            "\u001b[0;31mKeyError\u001b[0m: 'orange'"
          ]
        }
      ]
    },
    {
      "cell_type": "markdown",
      "source": [
        "キーに対する値を変更したり、新たなキーと値を登録するには代入文を用います。\n",
        "\n"
      ],
      "metadata": {
        "id": "9QQWebnFKUCx"
      }
    },
    {
      "cell_type": "code",
      "source": [
        "ppap = {'apple' : 3, 'pen' : 5}\n",
        "ppap['apple'] = 10\n",
        "ppap['pinapple'] = 7\n",
        "ppap"
      ],
      "metadata": {
        "colab": {
          "base_uri": "https://localhost:8080/"
        },
        "id": "vHtkfEqNHHll",
        "outputId": "d3d31dd4-3319-4179-ddc5-21fd9acf40df"
      },
      "execution_count": 194,
      "outputs": [
        {
          "output_type": "execute_result",
          "data": {
            "text/plain": [
              "{'apple': 10, 'pen': 5, 'pinapple': 7}"
            ]
          },
          "metadata": {},
          "execution_count": 194
        }
      ]
    },
    {
      "cell_type": "markdown",
      "source": [
        "上のようにキーから値は取り出せますが、値からキーを直接取り出すことはできません。 また、リストのようにインデックスを指定して値を取得することはできません。"
      ],
      "metadata": {
        "id": "NHi8zi7SKh7z"
      }
    },
    {
      "cell_type": "code",
      "source": [
        "ppap[1]"
      ],
      "metadata": {
        "colab": {
          "base_uri": "https://localhost:8080/",
          "height": 147
        },
        "id": "nhjrt9ImHHit",
        "outputId": "7b01e66c-34d7-4a87-e6c5-41b8fe223c67"
      },
      "execution_count": 195,
      "outputs": [
        {
          "output_type": "error",
          "ename": "KeyError",
          "evalue": "1",
          "traceback": [
            "\u001b[0;31m---------------------------------------------------------------------------\u001b[0m",
            "\u001b[0;31mKeyError\u001b[0m                                  Traceback (most recent call last)",
            "\u001b[0;32m/tmp/ipython-input-2923433636.py\u001b[0m in \u001b[0;36m<cell line: 0>\u001b[0;34m()\u001b[0m\n\u001b[0;32m----> 1\u001b[0;31m \u001b[0mppap\u001b[0m\u001b[0;34m[\u001b[0m\u001b[0;36m1\u001b[0m\u001b[0;34m]\u001b[0m\u001b[0;34m\u001b[0m\u001b[0;34m\u001b[0m\u001b[0m\n\u001b[0m",
            "\u001b[0;31mKeyError\u001b[0m: 1"
          ]
        }
      ]
    },
    {
      "cell_type": "markdown",
      "source": [
        "キーが辞書に登録されているかどうかは、演算子 in を用いて調べることができます。"
      ],
      "metadata": {
        "id": "5QsMLiUDKraX"
      }
    },
    {
      "cell_type": "code",
      "source": [
        "ppap = {'apple' : 3, 'pen' : 5}\n",
        "'appple' in ppap"
      ],
      "metadata": {
        "colab": {
          "base_uri": "https://localhost:8080/"
        },
        "id": "7LcXJuHdHHfl",
        "outputId": "0ab97615-5e1e-4697-8f38-a05fad1d0262"
      },
      "execution_count": 197,
      "outputs": [
        {
          "output_type": "execute_result",
          "data": {
            "text/plain": [
              "False"
            ]
          },
          "metadata": {},
          "execution_count": 197
        }
      ]
    },
    {
      "cell_type": "code",
      "source": [
        "ppap = {'apple': 3, 'pen': 5}\n",
        "len(ppap)"
      ],
      "metadata": {
        "colab": {
          "base_uri": "https://localhost:8080/"
        },
        "id": "bH_fU9W4HHce",
        "outputId": "c98acc77-105f-489f-89ab-9178446b4591"
      },
      "execution_count": 198,
      "outputs": [
        {
          "output_type": "execute_result",
          "data": {
            "text/plain": [
              "2"
            ]
          },
          "metadata": {},
          "execution_count": 198
        }
      ]
    },
    {
      "cell_type": "markdown",
      "source": [
        "del 文によって、登録されているキーの要素を削除することができます。具体的には、次のように削除します。\n",
        "\n",
        "del 辞書[削除したいキー]\n"
      ],
      "metadata": {
        "id": "hab9ZAn5LfN5"
      }
    },
    {
      "cell_type": "code",
      "source": [
        "\n",
        "ppap = {'apple' : 3, 'pen' : 5}\n",
        "del ppap['pen']\n",
        "ppap"
      ],
      "metadata": {
        "colab": {
          "base_uri": "https://localhost:8080/"
        },
        "id": "mVQRFtJwHHZm",
        "outputId": "5f2b25db-8bab-4a54-fce5-53d9c9f43a93"
      },
      "execution_count": 199,
      "outputs": [
        {
          "output_type": "execute_result",
          "data": {
            "text/plain": [
              "{'apple': 3}"
            ]
          },
          "metadata": {},
          "execution_count": 199
        }
      ]
    },
    {
      "cell_type": "markdown",
      "source": [
        "空のリストと同様に空の辞書を作ることもできます。このような空のデータは繰り返し処理でしばしば使われます。\n",
        "\n"
      ],
      "metadata": {
        "id": "ziKjXXb1LqgC"
      }
    },
    {
      "cell_type": "code",
      "source": [
        "empty_d = {}\n",
        "empty_d\n",
        "\n"
      ],
      "metadata": {
        "colab": {
          "base_uri": "https://localhost:8080/"
        },
        "id": "Jp7-uUMRHHV8",
        "outputId": "5e546161-3088-4e79-e697-f34ec7dd6ee5"
      },
      "execution_count": 200,
      "outputs": [
        {
          "output_type": "execute_result",
          "data": {
            "text/plain": [
              "{}"
            ]
          },
          "metadata": {},
          "execution_count": 200
        }
      ]
    },
    {
      "cell_type": "markdown",
      "source": [
        "#練習\n",
        "\n",
        "リスト list1 が引数として与えられたとき、list1 の各要素 value をキー、value の list1 におけるインデックスをキーに対応する値とした辞書を返す関数 reverse_lookup を作成してください。\n",
        "\n",
        "以下のセルの ... のところを書き換えて reverse_lookup(list1) を作成してください。"
      ],
      "metadata": {
        "id": "xEbQaaLALw57"
      }
    },
    {
      "cell_type": "code",
      "source": [
        "def reverse_lookup(list1):\n",
        "  dic1 = {}\n",
        "  for i in list1:\n",
        "\n"
      ],
      "metadata": {
        "id": "gDDyyrC9HHTW"
      },
      "execution_count": null,
      "outputs": []
    },
    {
      "cell_type": "code",
      "source": [
        "reverse_lookup(['apple', 'pen', 'orange'])"
      ],
      "metadata": {
        "colab": {
          "base_uri": "https://localhost:8080/"
        },
        "id": "RiTeZwKXNn5b",
        "outputId": "c822b40e-40fd-4744-d581-8184a513daab"
      },
      "execution_count": 206,
      "outputs": [
        {
          "output_type": "execute_result",
          "data": {
            "text/plain": [
              "{'apple': 0, 'pen': 1, 'orange': 2}"
            ]
          },
          "metadata": {},
          "execution_count": 206
        }
      ]
    },
    {
      "cell_type": "code",
      "source": [
        "list1 = ['apple', 'pen', 'orange']\n",
        "dic1 = {}  # 空の辞書を作成する\n",
        "\n",
        "for value in list1:\n",
        "  # print(value)\n",
        "  # print(list1.index(value))\n",
        "  dic1[value] = list1.index(value)\n",
        "  print(dic1)\n",
        "\n",
        "# ppap = {'apple' : 3, 'pen' : 5}\n",
        "# ppap['apple'] = 10\n",
        "# ppap['pinapple'] = 7"
      ],
      "metadata": {
        "colab": {
          "base_uri": "https://localhost:8080/"
        },
        "id": "xE-y6cm4HHQO",
        "outputId": "a0c16bda-62b8-4f03-f08a-95687dfc3022"
      },
      "execution_count": 209,
      "outputs": [
        {
          "output_type": "stream",
          "name": "stdout",
          "text": [
            "apple\n",
            "0\n",
            "{'apple': 0}\n",
            "pen\n",
            "1\n",
            "{'apple': 0, 'pen': 1}\n",
            "orange\n",
            "2\n",
            "{'apple': 0, 'pen': 1, 'orange': 2}\n"
          ]
        }
      ]
    },
    {
      "cell_type": "code",
      "source": [
        "def reverse_lookup(list1):\n",
        "    dic1 = {}  # 空の辞書を作成する\n",
        "    for value in list1:\n",
        "        dic1[value] = list1.index(value)\n",
        "    return dic1\n",
        "#reverse_lookup(['apple', 'pen', 'orange'])"
      ],
      "metadata": {
        "id": "mQFlMZN0HHMk"
      },
      "execution_count": null,
      "outputs": []
    },
    {
      "cell_type": "code",
      "source": [
        "def reverse_lookuup(list1):\n",
        "  dict1 = {}\n",
        "  for value in list1:\n",
        "    dict[value] = list1.index(value)\n",
        "  return dict1"
      ],
      "metadata": {
        "id": "UgAn0F2WPM-G"
      },
      "execution_count": 210,
      "outputs": []
    },
    {
      "cell_type": "markdown",
      "source": [
        "#辞書のメソッド\n",
        "\n",
        "辞書のメソッドを紹介しておきます。\n",
        "\n",
        "#キーを指定して値を得るメソッド\n",
        "\n",
        "get メソッドは、引数として指定したキーが辞書に含まれてる場合にはその値を取得し、 指定したキーが含まれていない場合には None を返します。 get を利用することで、エラーを回避し、登録されているかどうかわからないキーを使うことができます。 先に説明したキーを括弧、[...]、で指定する方法では、 辞書にキーが存在しないとエラーとなりプログラムの実行が停止してしまいます。\n",
        "\n"
      ],
      "metadata": {
        "id": "EiSikmhoPlVd"
      }
    },
    {
      "cell_type": "code",
      "source": [
        "ppap = {'apple' : 3, 'pen' : 5}\n",
        "print('キーappleに対応する値 = ', ppap.get('apple'))\n",
        "print('キーorangeに対応する値 = ', ppap.get('orange'))\n",
        "print('キーorangeに対応する値（エラー） = ', ppap['orange'])"
      ],
      "metadata": {
        "colab": {
          "base_uri": "https://localhost:8080/",
          "height": 221
        },
        "id": "0_Yi5iM6HHJy",
        "outputId": "c20df48e-5139-4f5a-d633-9b41828c8a9d"
      },
      "execution_count": 211,
      "outputs": [
        {
          "output_type": "stream",
          "name": "stdout",
          "text": [
            "キーappleに対応する値 =  3\n",
            "キーorangeに対応する値 =  None\n"
          ]
        },
        {
          "output_type": "error",
          "ename": "KeyError",
          "evalue": "'orange'",
          "traceback": [
            "\u001b[0;31m---------------------------------------------------------------------------\u001b[0m",
            "\u001b[0;31mKeyError\u001b[0m                                  Traceback (most recent call last)",
            "\u001b[0;32m/tmp/ipython-input-201430436.py\u001b[0m in \u001b[0;36m<cell line: 0>\u001b[0;34m()\u001b[0m\n\u001b[1;32m      2\u001b[0m \u001b[0mprint\u001b[0m\u001b[0;34m(\u001b[0m\u001b[0;34m'キーappleに対応する値 = '\u001b[0m\u001b[0;34m,\u001b[0m \u001b[0mppap\u001b[0m\u001b[0;34m.\u001b[0m\u001b[0mget\u001b[0m\u001b[0;34m(\u001b[0m\u001b[0;34m'apple'\u001b[0m\u001b[0;34m)\u001b[0m\u001b[0;34m)\u001b[0m\u001b[0;34m\u001b[0m\u001b[0;34m\u001b[0m\u001b[0m\n\u001b[1;32m      3\u001b[0m \u001b[0mprint\u001b[0m\u001b[0;34m(\u001b[0m\u001b[0;34m'キーorangeに対応する値 = '\u001b[0m\u001b[0;34m,\u001b[0m \u001b[0mppap\u001b[0m\u001b[0;34m.\u001b[0m\u001b[0mget\u001b[0m\u001b[0;34m(\u001b[0m\u001b[0;34m'orange'\u001b[0m\u001b[0;34m)\u001b[0m\u001b[0;34m)\u001b[0m\u001b[0;34m\u001b[0m\u001b[0;34m\u001b[0m\u001b[0m\n\u001b[0;32m----> 4\u001b[0;31m \u001b[0mprint\u001b[0m\u001b[0;34m(\u001b[0m\u001b[0;34m'キーorangeに対応する値（エラー） = '\u001b[0m\u001b[0;34m,\u001b[0m \u001b[0mppap\u001b[0m\u001b[0;34m[\u001b[0m\u001b[0;34m'orange'\u001b[0m\u001b[0;34m]\u001b[0m\u001b[0;34m)\u001b[0m\u001b[0;34m\u001b[0m\u001b[0;34m\u001b[0m\u001b[0m\n\u001b[0m",
            "\u001b[0;31mKeyError\u001b[0m: 'orange'"
          ]
        }
      ]
    },
    {
      "cell_type": "markdown",
      "source": [
        "また、get に2番目の引数を与えると、その引数の値を「指定したキーが含まれていない場合」に get が返す値とすることができます。\n"
      ],
      "metadata": {
        "id": "uZg5HB0kQICA"
      }
    },
    {
      "cell_type": "code",
      "source": [
        "\n",
        "ppap = {'apple' : 3, 'pen' : 5}\n",
        "print('キーappleに対応する値 = ', ppap.get('apple', -1))\n",
        "print('キーorangeに対応する値 = ', ppap.get('orange', -1))"
      ],
      "metadata": {
        "colab": {
          "base_uri": "https://localhost:8080/"
        },
        "id": "Lr4pnGhpPlEQ",
        "outputId": "a75a4dbd-c832-46c2-ee54-a0028f23b5ae"
      },
      "execution_count": 212,
      "outputs": [
        {
          "output_type": "stream",
          "name": "stdout",
          "text": [
            "キーappleに対応する値 =  3\n",
            "キーorangeに対応する値 =  -1\n"
          ]
        }
      ]
    },
    {
      "cell_type": "code",
      "source": [],
      "metadata": {
        "id": "_NIvUb8GPlA3"
      },
      "execution_count": null,
      "outputs": []
    },
    {
      "cell_type": "code",
      "source": [],
      "metadata": {
        "id": "4ISn2i_sPk9v"
      },
      "execution_count": null,
      "outputs": []
    },
    {
      "cell_type": "code",
      "source": [],
      "metadata": {
        "id": "XUmmwi52Pk4y"
      },
      "execution_count": null,
      "outputs": []
    },
    {
      "cell_type": "code",
      "source": [],
      "metadata": {
        "id": "V5gp-B96Pk1q"
      },
      "execution_count": null,
      "outputs": []
    },
    {
      "cell_type": "code",
      "source": [],
      "metadata": {
        "id": "r_k0WnpaPky0"
      },
      "execution_count": null,
      "outputs": []
    },
    {
      "cell_type": "code",
      "source": [],
      "metadata": {
        "id": "cNrtxZJRPkvd"
      },
      "execution_count": null,
      "outputs": []
    }
  ]
}