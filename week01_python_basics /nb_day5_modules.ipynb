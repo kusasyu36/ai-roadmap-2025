{
  "nbformat": 4,
  "nbformat_minor": 0,
  "metadata": {
    "colab": {
      "provenance": [],
      "authorship_tag": "ABX9TyOpY/4mP2sghewBxb+hNVFb",
      "include_colab_link": true
    },
    "kernelspec": {
      "name": "python3",
      "display_name": "Python 3"
    },
    "language_info": {
      "name": "python"
    }
  },
  "cells": [
    {
      "cell_type": "markdown",
      "metadata": {
        "id": "view-in-github",
        "colab_type": "text"
      },
      "source": [
        "<a href=\"https://colab.research.google.com/github/kusasyu36/ai-roadmap-2025/blob/main/week01_python_basics%20/nb_day5_modules.ipynb\" target=\"_parent\"><img src=\"https://colab.research.google.com/assets/colab-badge.svg\" alt=\"Open In Colab\"/></a>"
      ]
    },
    {
      "cell_type": "markdown",
      "source": [
        "2-1. 文字列 (string)"
      ],
      "metadata": {
        "id": "u46_Cq1PXMUn"
      }
    },
    {
      "cell_type": "code",
      "source": [
        "i = int('123')\n",
        "i"
      ],
      "metadata": {
        "colab": {
          "base_uri": "https://localhost:8080/"
        },
        "id": "8wkjHC2TXL23",
        "outputId": "a99b968b-73ed-406b-e368-867bf15576cc"
      },
      "execution_count": 1,
      "outputs": [
        {
          "output_type": "execute_result",
          "data": {
            "text/plain": [
              "123"
            ]
          },
          "metadata": {},
          "execution_count": 1
        }
      ]
    },
    {
      "cell_type": "code",
      "source": [
        "f = float('123.4')\n",
        "f"
      ],
      "metadata": {
        "colab": {
          "base_uri": "https://localhost:8080/"
        },
        "id": "vvBrwe1VXLzh",
        "outputId": "e12cf562-bed8-4a1d-ec8e-8bf6cc79b420"
      },
      "execution_count": 2,
      "outputs": [
        {
          "output_type": "execute_result",
          "data": {
            "text/plain": [
              "123.4"
            ]
          },
          "metadata": {},
          "execution_count": 2
        }
      ]
    },
    {
      "cell_type": "code",
      "source": [
        "f = int('123.4')\n",
        "f"
      ],
      "metadata": {
        "colab": {
          "base_uri": "https://localhost:8080/",
          "height": 166
        },
        "id": "qEeZAheFXLwK",
        "outputId": "869085aa-d55c-4f7b-b43d-2b53f4de1b12"
      },
      "execution_count": 3,
      "outputs": [
        {
          "output_type": "error",
          "ename": "ValueError",
          "evalue": "invalid literal for int() with base 10: '123.4'",
          "traceback": [
            "\u001b[0;31m---------------------------------------------------------------------------\u001b[0m",
            "\u001b[0;31mValueError\u001b[0m                                Traceback (most recent call last)",
            "\u001b[0;32m/tmp/ipython-input-806553740.py\u001b[0m in \u001b[0;36m<cell line: 0>\u001b[0;34m()\u001b[0m\n\u001b[0;32m----> 1\u001b[0;31m \u001b[0mf\u001b[0m \u001b[0;34m=\u001b[0m \u001b[0mint\u001b[0m\u001b[0;34m(\u001b[0m\u001b[0;34m'123.4'\u001b[0m\u001b[0;34m)\u001b[0m\u001b[0;34m\u001b[0m\u001b[0;34m\u001b[0m\u001b[0m\n\u001b[0m\u001b[1;32m      2\u001b[0m \u001b[0mf\u001b[0m\u001b[0;34m\u001b[0m\u001b[0;34m\u001b[0m\u001b[0m\n",
            "\u001b[0;31mValueError\u001b[0m: invalid literal for int() with base 10: '123.4'"
          ]
        }
      ]
    },
    {
      "cell_type": "markdown",
      "source": [],
      "metadata": {
        "id": "8dabjdY1XLh1"
      }
    },
    {
      "cell_type": "code",
      "execution_count": 5,
      "metadata": {
        "colab": {
          "base_uri": "https://localhost:8080/"
        },
        "id": "UuTo_WlrXGr-",
        "outputId": "a2f78795-a0aa-449c-be9c-3dacd0bccf12"
      },
      "outputs": [
        {
          "output_type": "execute_result",
          "data": {
            "text/plain": [
              "12"
            ]
          },
          "metadata": {},
          "execution_count": 5
        }
      ],
      "source": [
        "word3 = str(129485773623)\n",
        "len(word3)"
      ]
    },
    {
      "cell_type": "markdown",
      "source": [
        "複数行にわたる文字列を記述するには、トリプルクォート（'''...''' もしくは \"\"\"...\"\"\"）を用いることができます。 上記の参考URLを参照してください。 トリプルクォートはコメントとしても用いられます。 なお、1-4 のコーディングスタイルのところで紹介したスタイルガイドのPEP8では、 トリプルクォートには \"\"\"...\"\"\" を使うのが適切と定められています。"
      ],
      "metadata": {
        "id": "hupATeIkZ8TT"
      }
    },
    {
      "cell_type": "markdown",
      "source": [
        "###文字列とインデックス\n",
        "\n",
        "文字列はいくつかの文字によって構成されています。\n",
        "\n",
        "文字列 'hello' の3番目の文字を得たい場合は、以下のような記法を用います"
      ],
      "metadata": {
        "id": "ZVohXUVbZ__N"
      }
    },
    {
      "cell_type": "code",
      "source": [
        "word1 = 'hello'\n",
        "word1[2]"
      ],
      "metadata": {
        "colab": {
          "base_uri": "https://localhost:8080/",
          "height": 35
        },
        "id": "c6QGmOaDZ0c8",
        "outputId": "40faef31-c1ec-40fe-ce5e-11e5927dcb51"
      },
      "execution_count": 6,
      "outputs": [
        {
          "output_type": "execute_result",
          "data": {
            "text/plain": [
              "'l'"
            ],
            "application/vnd.google.colaboratory.intrinsic+json": {
              "type": "string"
            }
          },
          "metadata": {},
          "execution_count": 6
        }
      ]
    },
    {
      "cell_type": "code",
      "source": [
        "word1 = 'hello'\n",
        "word1[0] = 'H'"
      ],
      "metadata": {
        "colab": {
          "base_uri": "https://localhost:8080/",
          "height": 166
        },
        "id": "dVbRjkDoZ0ZT",
        "outputId": "33cd84c7-ca6a-4e44-93a0-01e29bad12ab"
      },
      "execution_count": 7,
      "outputs": [
        {
          "output_type": "error",
          "ename": "TypeError",
          "evalue": "'str' object does not support item assignment",
          "traceback": [
            "\u001b[0;31m---------------------------------------------------------------------------\u001b[0m",
            "\u001b[0;31mTypeError\u001b[0m                                 Traceback (most recent call last)",
            "\u001b[0;32m/tmp/ipython-input-1689567903.py\u001b[0m in \u001b[0;36m<cell line: 0>\u001b[0;34m()\u001b[0m\n\u001b[1;32m      1\u001b[0m \u001b[0mword1\u001b[0m \u001b[0;34m=\u001b[0m \u001b[0;34m'hello'\u001b[0m\u001b[0;34m\u001b[0m\u001b[0;34m\u001b[0m\u001b[0m\n\u001b[0;32m----> 2\u001b[0;31m \u001b[0mword1\u001b[0m\u001b[0;34m[\u001b[0m\u001b[0;36m0\u001b[0m\u001b[0;34m]\u001b[0m \u001b[0;34m=\u001b[0m \u001b[0;34m'H'\u001b[0m\u001b[0;34m\u001b[0m\u001b[0;34m\u001b[0m\u001b[0m\n\u001b[0m",
            "\u001b[0;31mTypeError\u001b[0m: 'str' object does not support item assignment"
          ]
        }
      ]
    },
    {
      "cell_type": "code",
      "source": [
        "word1[100]\n"
      ],
      "metadata": {
        "colab": {
          "base_uri": "https://localhost:8080/",
          "height": 147
        },
        "id": "a6Xr1edXZ0V6",
        "outputId": "abc51b72-74f4-4839-82da-809189d76f34"
      },
      "execution_count": 8,
      "outputs": [
        {
          "output_type": "error",
          "ename": "IndexError",
          "evalue": "string index out of range",
          "traceback": [
            "\u001b[0;31m---------------------------------------------------------------------------\u001b[0m",
            "\u001b[0;31mIndexError\u001b[0m                                Traceback (most recent call last)",
            "\u001b[0;32m/tmp/ipython-input-3527324019.py\u001b[0m in \u001b[0;36m<cell line: 0>\u001b[0;34m()\u001b[0m\n\u001b[0;32m----> 1\u001b[0;31m \u001b[0mword1\u001b[0m\u001b[0;34m[\u001b[0m\u001b[0;36m100\u001b[0m\u001b[0;34m]\u001b[0m\u001b[0;34m\u001b[0m\u001b[0;34m\u001b[0m\u001b[0m\n\u001b[0m",
            "\u001b[0;31mIndexError\u001b[0m: string index out of range"
          ]
        }
      ]
    },
    {
      "cell_type": "code",
      "source": [
        "word1[-1]"
      ],
      "metadata": {
        "colab": {
          "base_uri": "https://localhost:8080/",
          "height": 35
        },
        "id": "QHKh8CZmZ0P-",
        "outputId": "06650b4c-4853-4e7f-f1b8-d1b7714959ca"
      },
      "execution_count": 9,
      "outputs": [
        {
          "output_type": "execute_result",
          "data": {
            "text/plain": [
              "'o'"
            ],
            "application/vnd.google.colaboratory.intrinsic+json": {
              "type": "string"
            }
          },
          "metadata": {},
          "execution_count": 9
        }
      ]
    },
    {
      "cell_type": "markdown",
      "source": [
        "#文字列とスライス¶\n",
        "\n",
        "スライスと呼ばれる機能を利用して、文字列の一部（部分文字列）を取得できます。\n",
        "\n",
        "具体的には、取得したい部分文字列の先頭の文字のインデックスと最後の文字のインデックスに 1 を加えた値を指定します。 たとえば、ある文字列の2番目の文字から4番目までの文字の部分文字列を得るには次のようにします。"
      ],
      "metadata": {
        "id": "gAb73Izyaabn"
      }
    },
    {
      "cell_type": "code",
      "source": [
        "digits1='0123456789'\n",
        "digits1[1:4]"
      ],
      "metadata": {
        "colab": {
          "base_uri": "https://localhost:8080/",
          "height": 35
        },
        "id": "2-YyEFhcaTaK",
        "outputId": "bb4844a8-786a-477c-8389-dbae691078d8"
      },
      "execution_count": 10,
      "outputs": [
        {
          "output_type": "execute_result",
          "data": {
            "text/plain": [
              "'123'"
            ],
            "application/vnd.google.colaboratory.intrinsic+json": {
              "type": "string"
            }
          },
          "metadata": {},
          "execution_count": 10
        }
      ]
    },
    {
      "cell_type": "code",
      "source": [
        "digits1[:3]"
      ],
      "metadata": {
        "colab": {
          "base_uri": "https://localhost:8080/",
          "height": 35
        },
        "id": "aNuERRKAaTUs",
        "outputId": "0a4b739c-c50e-4301-d4ea-98aeb71e4321"
      },
      "execution_count": 11,
      "outputs": [
        {
          "output_type": "execute_result",
          "data": {
            "text/plain": [
              "'012'"
            ],
            "application/vnd.google.colaboratory.intrinsic+json": {
              "type": "string"
            }
          },
          "metadata": {},
          "execution_count": 11
        }
      ]
    },
    {
      "cell_type": "code",
      "source": [
        "digits1[3:]"
      ],
      "metadata": {
        "colab": {
          "base_uri": "https://localhost:8080/",
          "height": 35
        },
        "id": "SGMXRQEsaTRW",
        "outputId": "eccea123-02eb-4f5f-a50b-fc9e57044e31"
      },
      "execution_count": 12,
      "outputs": [
        {
          "output_type": "execute_result",
          "data": {
            "text/plain": [
              "'3456789'"
            ],
            "application/vnd.google.colaboratory.intrinsic+json": {
              "type": "string"
            }
          },
          "metadata": {},
          "execution_count": 12
        }
      ]
    },
    {
      "cell_type": "markdown",
      "source": [
        "スライスでは3番目の値を指定することで、とびとびの文字を指定できます。次のように digits1[3:9:2] と指定すると、インデックス 3 から2文字おきにインデックス 9 より小さい文字を並べた部分文字列を得ます。"
      ],
      "metadata": {
        "id": "dsy5V727bJBo"
      }
    },
    {
      "cell_type": "code",
      "source": [
        "digits1[3:9:2]"
      ],
      "metadata": {
        "colab": {
          "base_uri": "https://localhost:8080/",
          "height": 35
        },
        "id": "l2jMxqZkawnY",
        "outputId": "f659d17d-a0c1-4075-864a-c0e50a37d79a"
      },
      "execution_count": 13,
      "outputs": [
        {
          "output_type": "execute_result",
          "data": {
            "text/plain": [
              "'357'"
            ],
            "application/vnd.google.colaboratory.intrinsic+json": {
              "type": "string"
            }
          },
          "metadata": {},
          "execution_count": 13
        }
      ]
    },
    {
      "cell_type": "markdown",
      "source": [
        "3番目の値に -1 を指定することもできます。これを使えば元の文字列の逆向きの文字列を得ることができます。"
      ],
      "metadata": {
        "id": "9xrFvR29bNZ1"
      }
    },
    {
      "cell_type": "code",
      "source": [
        "digits1[8:4:-1]\n"
      ],
      "metadata": {
        "colab": {
          "base_uri": "https://localhost:8080/",
          "height": 35
        },
        "id": "kCcIdjddawkR",
        "outputId": "d8f9b6dc-b173-474c-b85e-9e147f1f2b53"
      },
      "execution_count": 14,
      "outputs": [
        {
          "output_type": "execute_result",
          "data": {
            "text/plain": [
              "'8765'"
            ],
            "application/vnd.google.colaboratory.intrinsic+json": {
              "type": "string"
            }
          },
          "metadata": {},
          "execution_count": 14
        }
      ]
    },
    {
      "cell_type": "markdown",
      "source": [
        "#空文字列¶\n",
        "\n",
        "シングルクォート（もしくはダブルクォート）で、何も囲まない場合、長さ 0 の文字列（空文字列（くうもじれつ）もしくは、空列（くうれつ））となります。 具体的には、下記のように使用します。\n",
        "\n"
      ],
      "metadata": {
        "id": "IoBq0jc9bSyH"
      }
    },
    {
      "cell_type": "code",
      "source": [
        "price = '2,980円'\n",
        "price.replace(',', '')"
      ],
      "metadata": {
        "colab": {
          "base_uri": "https://localhost:8080/",
          "height": 35
        },
        "id": "O8ST4iGlawgn",
        "outputId": "99bcccf7-b98c-459c-87d5-cf582436cc45"
      },
      "execution_count": 15,
      "outputs": [
        {
          "output_type": "execute_result",
          "data": {
            "text/plain": [
              "'2980円'"
            ],
            "application/vnd.google.colaboratory.intrinsic+json": {
              "type": "string"
            }
          },
          "metadata": {},
          "execution_count": 15
        }
      ]
    },
    {
      "cell_type": "code",
      "source": [
        "price = '2,980円'\n",
        "price.replace(',', '   ')"
      ],
      "metadata": {
        "colab": {
          "base_uri": "https://localhost:8080/",
          "height": 35
        },
        "id": "Iu-2CzVsawdw",
        "outputId": "9cf45285-3181-4c28-b049-2f1bdfd49120"
      },
      "execution_count": 16,
      "outputs": [
        {
          "output_type": "execute_result",
          "data": {
            "text/plain": [
              "'2   980円'"
            ],
            "application/vnd.google.colaboratory.intrinsic+json": {
              "type": "string"
            }
          },
          "metadata": {},
          "execution_count": 16
        }
      ]
    },
    {
      "cell_type": "markdown",
      "source": [
        "#文字列の検索\n",
        "\n",
        "文字列A が 文字列B を含むかどうかを調べるには、in 演算子を使います。 具体的には、次のように使用します。"
      ],
      "metadata": {
        "id": "YblnysE1deR-"
      }
    },
    {
      "cell_type": "code",
      "source": [
        "'lo' in 'hello'\n"
      ],
      "metadata": {
        "colab": {
          "base_uri": "https://localhost:8080/"
        },
        "id": "42c6dMjdawaX",
        "outputId": "1cbec1cd-5b35-480e-e6c4-9913fbc6bff0"
      },
      "execution_count": 17,
      "outputs": [
        {
          "output_type": "execute_result",
          "data": {
            "text/plain": [
              "True"
            ]
          },
          "metadata": {},
          "execution_count": 17
        }
      ]
    },
    {
      "cell_type": "code",
      "source": [
        "'z' in 'hello'\n"
      ],
      "metadata": {
        "colab": {
          "base_uri": "https://localhost:8080/"
        },
        "id": "Gc5oohBvawV9",
        "outputId": "4a2ae70c-ecba-46c3-aad5-7c079428e29c"
      },
      "execution_count": 18,
      "outputs": [
        {
          "output_type": "execute_result",
          "data": {
            "text/plain": [
              "False"
            ]
          },
          "metadata": {},
          "execution_count": 18
        }
      ]
    },
    {
      "cell_type": "code",
      "source": [
        "word1 =  'hello'\n",
        "substr1 = 'lo'\n",
        "substr1 in word1"
      ],
      "metadata": {
        "colab": {
          "base_uri": "https://localhost:8080/"
        },
        "id": "Cu5_ewJmav07",
        "outputId": "1787eae5-b408-4f2c-9d6c-03b0c2eccddd"
      },
      "execution_count": 19,
      "outputs": [
        {
          "output_type": "execute_result",
          "data": {
            "text/plain": [
              "True"
            ]
          },
          "metadata": {},
          "execution_count": 19
        }
      ]
    },
    {
      "cell_type": "code",
      "source": [
        "word1 =  'hello'\n",
        "substr2 = 'z'\n",
        "substr2 not in word1"
      ],
      "metadata": {
        "colab": {
          "base_uri": "https://localhost:8080/"
        },
        "id": "wBbXxys2dset",
        "outputId": "8b2f5f02-eacb-466a-e062-358291a96a45"
      },
      "execution_count": 20,
      "outputs": [
        {
          "output_type": "execute_result",
          "data": {
            "text/plain": [
              "True"
            ]
          },
          "metadata": {},
          "execution_count": 20
        }
      ]
    },
    {
      "cell_type": "markdown",
      "source": [
        "#▲エスケープシーケンス\n",
        "\n",
        "文字列を作成するにはシングル ' あるいはダブルクォート \" で囲むと説明しました。 これらの文字を含む文字列を作成するには、エスケープシーケンスと呼ばれる特殊な文字列を使う必要があります。\n",
        "\n",
        "たとえば、下のように文字列に ' を含む文字列を ' で囲むと文字列の範囲がずれてエラーとなります。"
      ],
      "metadata": {
        "id": "M2c0kQPNd3se"
      }
    },
    {
      "cell_type": "code",
      "source": [
        "non_escaped = 'This is 'MINE''\n",
        "non_escaped"
      ],
      "metadata": {
        "colab": {
          "base_uri": "https://localhost:8080/",
          "height": 110
        },
        "id": "i-E4yxzud-KP",
        "outputId": "f92777ea-9057-4f32-8c6b-818159c60e60"
      },
      "execution_count": 21,
      "outputs": [
        {
          "output_type": "error",
          "ename": "SyntaxError",
          "evalue": "invalid syntax (ipython-input-1163335816.py, line 1)",
          "traceback": [
            "\u001b[0;36m  File \u001b[0;32m\"/tmp/ipython-input-1163335816.py\"\u001b[0;36m, line \u001b[0;32m1\u001b[0m\n\u001b[0;31m    non_escaped = 'This is 'MINE''\u001b[0m\n\u001b[0m                            ^\u001b[0m\n\u001b[0;31mSyntaxError\u001b[0m\u001b[0;31m:\u001b[0m invalid syntax\n"
          ]
        }
      ]
    },
    {
      "cell_type": "markdown",
      "source": [
        "エラーを避けるには、エスケープシーケンスで ' を記述します、具体的には ' の前に \\ と記述すると、' を含む文字列を作成できます。"
      ],
      "metadata": {
        "id": "50DQYV-SeLql"
      }
    },
    {
      "cell_type": "code",
      "source": [
        "escaped1 = 'This is \\'MINE\\''\n",
        "escaped1"
      ],
      "metadata": {
        "colab": {
          "base_uri": "https://localhost:8080/",
          "height": 35
        },
        "id": "AOlL_zSFdsbl",
        "outputId": "ccf4c242-0409-4efb-d3ed-395cff03963d"
      },
      "execution_count": 23,
      "outputs": [
        {
          "output_type": "execute_result",
          "data": {
            "text/plain": [
              "\"This is 'MINE'\""
            ],
            "application/vnd.google.colaboratory.intrinsic+json": {
              "type": "string"
            }
          },
          "metadata": {},
          "execution_count": 23
        }
      ]
    },
    {
      "cell_type": "code",
      "source": [
        "escaped1 = \"This is 'MINE'\"\n",
        "escaped1"
      ],
      "metadata": {
        "colab": {
          "base_uri": "https://localhost:8080/",
          "height": 35
        },
        "id": "Miy7My-kdsYe",
        "outputId": "cfcd81ed-2d78-400e-b0df-a444879dfb2c"
      },
      "execution_count": 24,
      "outputs": [
        {
          "output_type": "execute_result",
          "data": {
            "text/plain": [
              "\"This is 'MINE'\""
            ],
            "application/vnd.google.colaboratory.intrinsic+json": {
              "type": "string"
            }
          },
          "metadata": {},
          "execution_count": 24
        }
      ]
    },
    {
      "cell_type": "markdown",
      "source": [
        "他にも、ダブルクォートを表す \\\"、\\ を表す \\\\ 、改行を表す \\n など、様々なエスケープシーケンスがあります。"
      ],
      "metadata": {
        "id": "4OU8l6sWefPu"
      }
    },
    {
      "cell_type": "code",
      "source": [
        "escaped2 = \"時は金なり\\n\\\"Time is money\\\"\\nTime is \\\\\"\n",
        "print(escaped2)"
      ],
      "metadata": {
        "colab": {
          "base_uri": "https://localhost:8080/"
        },
        "id": "h6dX5WztdsVX",
        "outputId": "17ed2b35-6591-470f-bd82-407892145a74"
      },
      "execution_count": 25,
      "outputs": [
        {
          "output_type": "stream",
          "name": "stdout",
          "text": [
            "時は金なり\n",
            "\"Time is money\"\n",
            "Time is \\\n"
          ]
        }
      ]
    },
    {
      "cell_type": "code",
      "source": [
        "triple_single_quated = '''時は金なり\n",
        "'Time is money'\n",
        "Time is \\\\'''\n",
        "print(triple_single_quated)"
      ],
      "metadata": {
        "colab": {
          "base_uri": "https://localhost:8080/"
        },
        "id": "u-dbbjHTdsO1",
        "outputId": "acb77201-690e-4e84-fd3a-cee4cf66ae07"
      },
      "execution_count": 26,
      "outputs": [
        {
          "output_type": "stream",
          "name": "stdout",
          "text": [
            "時は金なり\n",
            "'Time is money'\n",
            "Time is \\\n"
          ]
        }
      ]
    },
    {
      "cell_type": "code",
      "source": [
        "triple_double_quated = \"\"\"時は金なり\n",
        "'Time is money'\n",
        "Time is \\\\\"\"\"\n",
        "print(triple_single_quated)"
      ],
      "metadata": {
        "colab": {
          "base_uri": "https://localhost:8080/"
        },
        "id": "o6gYIRFCdsL0",
        "outputId": "20210e72-254e-4ea7-e2b6-9092c18bb1ab"
      },
      "execution_count": 27,
      "outputs": [
        {
          "output_type": "stream",
          "name": "stdout",
          "text": [
            "時は金なり\n",
            "'Time is money'\n",
            "Time is \\\n"
          ]
        }
      ]
    },
    {
      "cell_type": "code",
      "source": [
        "escaped2 = \"時は金なり¥n\\\"Time is money\\\"¥nTime is \\\\\"\n",
        "print(escaped2)"
      ],
      "metadata": {
        "colab": {
          "base_uri": "https://localhost:8080/"
        },
        "id": "1sJ-Mp8xetd2",
        "outputId": "795d24b2-6370-4566-a87d-811c6daa6e8b"
      },
      "execution_count": 28,
      "outputs": [
        {
          "output_type": "stream",
          "name": "stdout",
          "text": [
            "時は金なり¥n\"Time is money\"¥nTime is \\\n"
          ]
        }
      ]
    },
    {
      "cell_type": "markdown",
      "source": [
        "#バックスラッシュの表示と入力\n",
        "\n",
        "エスケープシーケンスの先頭にある文字は、バックスラッシュ \\（Unicode U+005C）です。 これはPythonに限った話ではないですが、バックスラッシュは環境（正確にはフォント）によって見え方が異なります。 Windows上のフォントでは、円記号 ¥ として見えることが多いです。 macOS上のフォントでは、そのままバックスラッシュとして見えることが多いです。\n",
        "\n",
        "JIS配列キーボードでは、バックスラッシュキーがないことがあります。 Windows上では、円記号 ¥ キーでバックスラッシュが入力できます。 macOS上では、Alt + ¥ キーでバックスラッシュが入力できます。 ただし、IME設定によっても入力方法は変わるので注意してください。"
      ],
      "metadata": {
        "id": "eqcfZ5DGfEnr"
      }
    },
    {
      "cell_type": "code",
      "source": [
        "print('\\n') # 改行文字（バックスラッシュ + n）\n",
        "print('¥n') # 改行文字でない（円記号 + n）\n",
        "print('⧵n') # 改行文字でない（Unicode U+29F5 のバックスラッシュ演算子 + n）"
      ],
      "metadata": {
        "colab": {
          "base_uri": "https://localhost:8080/"
        },
        "id": "1l_kH4Ynetae",
        "outputId": "e89a3945-0117-4b81-92e4-9f9f53f14774"
      },
      "execution_count": 29,
      "outputs": [
        {
          "output_type": "stream",
          "name": "stdout",
          "text": [
            "\n",
            "\n",
            "¥n\n",
            "⧵n\n"
          ]
        }
      ]
    },
    {
      "cell_type": "markdown",
      "source": [
        "#文字列の連結\n",
        "\n",
        "+ 演算子を用いれば文字列同士を連結できます。 この演算では新しい文字列が作られ、元の文字列は変化しません。"
      ],
      "metadata": {
        "id": "GnwXZS0afQnW"
      }
    },
    {
      "cell_type": "code",
      "source": [
        "word1 = 'hello'\n",
        "word2 = ' world'\n",
        "text1 = word1 + word2\n",
        "text1"
      ],
      "metadata": {
        "colab": {
          "base_uri": "https://localhost:8080/",
          "height": 35
        },
        "id": "FtG8MRkGetXm",
        "outputId": "2a8d1f3a-1fe6-40e7-b151-c8b208586ef3"
      },
      "execution_count": 30,
      "outputs": [
        {
          "output_type": "execute_result",
          "data": {
            "text/plain": [
              "'hello world'"
            ],
            "application/vnd.google.colaboratory.intrinsic+json": {
              "type": "string"
            }
          },
          "metadata": {},
          "execution_count": 30
        }
      ]
    },
    {
      "cell_type": "code",
      "source": [
        "word1 = 'hello'\n",
        "word1 * 3"
      ],
      "metadata": {
        "colab": {
          "base_uri": "https://localhost:8080/",
          "height": 35
        },
        "id": "BeKIm1lxetUw",
        "outputId": "0881bf03-5299-4bb2-a4f6-1f4033c8968b"
      },
      "execution_count": 31,
      "outputs": [
        {
          "output_type": "execute_result",
          "data": {
            "text/plain": [
              "'hellohellohello'"
            ],
            "application/vnd.google.colaboratory.intrinsic+json": {
              "type": "string"
            }
          },
          "metadata": {},
          "execution_count": 31
        }
      ]
    },
    {
      "cell_type": "markdown",
      "source": [
        "#文字列とメソッド\n",
        "\n",
        "文字列に対する操作を行うため、様々なメソッド（関数のようなもの）が用意されています。\n",
        "\n",
        "メソッドは必要に応じて (...) 内に引数を与え、以下のように使用します。\n",
        "\n",
        "文字列.メソッド名(式, ...)\n",
        "# あるいは\n",
        "文字列変数.メソッド名(式, ...)\n",
        "文字列には以下のようなメソッドが用意されています。\n",
        "\n",
        "置換\n",
        "replace メソッドは、指定した 部分文字列A を、別に指定した 文字列B で置き換えた文字列を作成します。 この操作では、元の文字列は変化しません。具体的には、次のように使用します。"
      ],
      "metadata": {
        "id": "v5na7w2bfdTH"
      }
    },
    {
      "cell_type": "markdown",
      "source": [
        "#練習\n",
        "\n",
        "英語の文章からなる文字列 str_engsentences が引数として与えられたとき、str_engsentences 中に含まれる全ての句読点（., ,, :, ;, !, ?）を削除した文字列を返す関数 remove_punctuations を作成してください。 （練習の解答はこのノートブックの一番最後にあります。）\n",
        "\n",
        "次のセルの ... のところを書き換えて remove_punctuations(str_engsentences) を作成してください。\n",
        "\n"
      ],
      "metadata": {
        "id": "QFJ2UVsJfigb"
      }
    },
    {
      "cell_type": "code",
      "source": [
        "def remove_punctuations(str_engsentences):\n",
        "  str1 = str_engsentences.replace('.','')\n",
        "  str1 = str1.replace(',','')\n",
        "  str1 = str1.replace(':','')\n",
        "  str1 = str1.replace(';','')\n",
        "  str1 = str1.replace('!','')\n",
        "  str1 = str1.replace('?','')\n",
        "  return str1\n"
      ],
      "metadata": {
        "id": "pMdRk71-fQUm"
      },
      "execution_count": 34,
      "outputs": []
    },
    {
      "cell_type": "code",
      "source": [
        "print(remove_punctuations('Quiet, uh, donations, you want me to make a donation to the coast guard youth auxiliary?') == 'Quiet uh donations you want me to make a donation to the coast guard youth auxiliary')\n"
      ],
      "metadata": {
        "colab": {
          "base_uri": "https://localhost:8080/"
        },
        "id": "EE04hgPMfQRN",
        "outputId": "7768e74d-4930-4951-dc98-912799e4cf09"
      },
      "execution_count": 35,
      "outputs": [
        {
          "output_type": "stream",
          "name": "stdout",
          "text": [
            "True\n"
          ]
        }
      ]
    },
    {
      "cell_type": "markdown",
      "source": [
        "#練習\n",
        "\n",
        "ATGCの4種類の文字から成る文字列 str_atgc が引数として与えられたとき、文字列 str_pair を返す関数 atgc_bppair を作成してください。ただし、str_pair は、str_atgc 中の各文字列に対して、 A を T に、T を A に、G を C に、C を G に置き換えたものです。\n",
        "\n",
        "次のセルの ... のところを書き換えて atgc_bppair(str_atgc) を作成してください。"
      ],
      "metadata": {
        "id": "_frD4jUFhW-X"
      }
    },
    {
      "cell_type": "code",
      "source": [
        "def atgc_bppair(str_atgc):\n",
        "  str1 = str_atgc.replace('A', 't')\n",
        "  str1 = str1.replace('T', 'a')\n",
        "  str1 = str1.replace('G', 'c')\n",
        "  str1 = str1.replace('C', 'g')\n",
        "  str1 = str1.upper()\n",
        "  return str1\n"
      ],
      "metadata": {
        "id": "EPF9E1D3fQND"
      },
      "execution_count": 40,
      "outputs": []
    },
    {
      "cell_type": "code",
      "source": [
        "print(atgc_bppair('AAGCCCCATGGTAA') == 'TTCGGGGTACCATT')"
      ],
      "metadata": {
        "colab": {
          "base_uri": "https://localhost:8080/"
        },
        "id": "zK8XJhUnfQJI",
        "outputId": "1b46c233-b8e0-40dd-fd2d-9cbbdf4947ad"
      },
      "execution_count": 41,
      "outputs": [
        {
          "output_type": "stream",
          "name": "stdout",
          "text": [
            "True\n"
          ]
        }
      ]
    },
    {
      "cell_type": "markdown",
      "source": [
        "#検索\n",
        "\n",
        "index メソッドにより、指定した 部分文字列B が 文字列A のどこに存在するか調べることができます。具体的には、次のように使用します。\n",
        "\n",
        "文字列A.index(部分文字列B)\n",
        "\n",
        "ただし、指定した部分文字列が文字列に複数回含まれる場合、最初のインデックスが返されます。また、指定した部分文字列が文字列に含まれない場合は、エラーとなります。"
      ],
      "metadata": {
        "id": "vXPQPshgko2w"
      }
    },
    {
      "cell_type": "code",
      "source": [
        "word1 = 'hello'\n",
        "word1.index('hello')"
      ],
      "metadata": {
        "colab": {
          "base_uri": "https://localhost:8080/"
        },
        "id": "zWgAogl9hWmY",
        "outputId": "a816baad-748a-4fc9-e351-b24a08d2c978"
      },
      "execution_count": 48,
      "outputs": [
        {
          "output_type": "execute_result",
          "data": {
            "text/plain": [
              "0"
            ]
          },
          "metadata": {},
          "execution_count": 48
        }
      ]
    },
    {
      "cell_type": "code",
      "source": [
        "word1 = 'hello'\n",
        "word1.index('ello')"
      ],
      "metadata": {
        "colab": {
          "base_uri": "https://localhost:8080/"
        },
        "id": "G0JGpr79lEf-",
        "outputId": "db9fa0be-a059-483f-bc67-29e41de4b541"
      },
      "execution_count": 49,
      "outputs": [
        {
          "output_type": "execute_result",
          "data": {
            "text/plain": [
              "1"
            ]
          },
          "metadata": {},
          "execution_count": 49
        }
      ]
    },
    {
      "cell_type": "code",
      "source": [
        "word1 = 'hello'\n",
        "word1.index('llo')"
      ],
      "metadata": {
        "colab": {
          "base_uri": "https://localhost:8080/"
        },
        "id": "yaayQ3P1lEdo",
        "outputId": "8f479948-dc17-4256-b7e2-7b3b0ef1d67c"
      },
      "execution_count": 50,
      "outputs": [
        {
          "output_type": "execute_result",
          "data": {
            "text/plain": [
              "2"
            ]
          },
          "metadata": {},
          "execution_count": 50
        }
      ]
    },
    {
      "cell_type": "code",
      "source": [
        "word1 = 'hello'\n",
        "word1.index('hel')"
      ],
      "metadata": {
        "colab": {
          "base_uri": "https://localhost:8080/"
        },
        "id": "zWwZv_2NlEaU",
        "outputId": "596fbb93-7782-461a-faa7-2a9abf280f67"
      },
      "execution_count": 51,
      "outputs": [
        {
          "output_type": "execute_result",
          "data": {
            "text/plain": [
              "0"
            ]
          },
          "metadata": {},
          "execution_count": 51
        }
      ]
    },
    {
      "cell_type": "code",
      "source": [
        "word1.index('a')\n"
      ],
      "metadata": {
        "colab": {
          "base_uri": "https://localhost:8080/",
          "height": 147
        },
        "id": "0JxQ_5sFhWjh",
        "outputId": "8fd4cf2b-5552-44d7-d68f-d14c810e0557"
      },
      "execution_count": 52,
      "outputs": [
        {
          "output_type": "error",
          "ename": "ValueError",
          "evalue": "substring not found",
          "traceback": [
            "\u001b[0;31m---------------------------------------------------------------------------\u001b[0m",
            "\u001b[0;31mValueError\u001b[0m                                Traceback (most recent call last)",
            "\u001b[0;32m/tmp/ipython-input-3671127475.py\u001b[0m in \u001b[0;36m<cell line: 0>\u001b[0;34m()\u001b[0m\n\u001b[0;32m----> 1\u001b[0;31m \u001b[0mword1\u001b[0m\u001b[0;34m.\u001b[0m\u001b[0mindex\u001b[0m\u001b[0;34m(\u001b[0m\u001b[0;34m'a'\u001b[0m\u001b[0;34m)\u001b[0m\u001b[0;34m\u001b[0m\u001b[0;34m\u001b[0m\u001b[0m\n\u001b[0m",
            "\u001b[0;31mValueError\u001b[0m: substring not found"
          ]
        }
      ]
    },
    {
      "cell_type": "markdown",
      "source": [
        "find メソッドも index と同様に部分文字列を検索し、最初に出現するインデックスを返します。\n",
        "\n",
        "index との違いは、部分文字列が含まれない場合エラーとはならず -1 が返されることです。"
      ],
      "metadata": {
        "id": "MZrlGmIplOsF"
      }
    },
    {
      "cell_type": "code",
      "source": [
        "word1 = 'hello'\n",
        "word1.find('a')"
      ],
      "metadata": {
        "colab": {
          "base_uri": "https://localhost:8080/"
        },
        "id": "cxAdA7KHhWgI",
        "outputId": "53244da1-88aa-40f6-abc4-0cc3637ee8af"
      },
      "execution_count": 53,
      "outputs": [
        {
          "output_type": "execute_result",
          "data": {
            "text/plain": [
              "-1"
            ]
          },
          "metadata": {},
          "execution_count": 53
        }
      ]
    },
    {
      "cell_type": "markdown",
      "source": [
        "#練習\n",
        "\n",
        "コロン (:) を1つだけ含む文字列 str1 を引数として与えると、コロンの左右に存在する文字列を入れ替えた文字列を返す関数 swap_colon(str1) を作成してください。\n",
        "\n",
        "次のセルの ... のところを書き換えて swap_colon(str1) を作成してください。"
      ],
      "metadata": {
        "id": "KOFkVSqilUOw"
      }
    },
    {
      "cell_type": "code",
      "source": [
        "def swap_colon(str1):\n",
        "  ind = str1.index(':')\n",
        "  swap_colon1 = str1[0:ind]\n",
        "  swap_colon2 = str1[ind+1:]\n",
        "  return swap_colon2 +':' + swap_colon1"
      ],
      "metadata": {
        "id": "kq6RDvVKhWdi"
      },
      "execution_count": 59,
      "outputs": []
    },
    {
      "cell_type": "code",
      "source": [
        "print(swap_colon('hello:world') == 'world:hello')\n"
      ],
      "metadata": {
        "colab": {
          "base_uri": "https://localhost:8080/"
        },
        "id": "MRto958ghWaJ",
        "outputId": "856ee152-6b7e-45e1-dea5-c52f4308b478"
      },
      "execution_count": 60,
      "outputs": [
        {
          "output_type": "stream",
          "name": "stdout",
          "text": [
            "True\n"
          ]
        }
      ]
    },
    {
      "cell_type": "code",
      "source": [
        "def swap_colon(str1):\n",
        "    #コロンの位置を取得する # findでもOK\n",
        "    col_index = str1.index(':')\n",
        "    #コロンの位置を基準に前半と後半の部分文字列を取得する\n",
        "    str2, str3 = str1[:col_index], str1[col_index+1:]\n",
        "    #部分文字列の順序を入れ替えて結合する\n",
        "    str4 = str3 + ':' + str2\n",
        "    return str4\n",
        "#swap_colon('hello:world')"
      ],
      "metadata": {
        "id": "3zT1ho2AhWXX"
      },
      "execution_count": 61,
      "outputs": []
    },
    {
      "cell_type": "code",
      "source": [
        "print(swap_colon('hello:world') == 'world:hello')\n"
      ],
      "metadata": {
        "colab": {
          "base_uri": "https://localhost:8080/"
        },
        "id": "bs6QEZZIm2hq",
        "outputId": "b90fcaf1-9633-4fcc-ea19-6e852b577ae7"
      },
      "execution_count": 62,
      "outputs": [
        {
          "output_type": "stream",
          "name": "stdout",
          "text": [
            "True\n"
          ]
        }
      ]
    },
    {
      "cell_type": "code",
      "source": [],
      "metadata": {
        "id": "qd2skLBQm2ey"
      },
      "execution_count": null,
      "outputs": []
    },
    {
      "cell_type": "code",
      "source": [],
      "metadata": {
        "id": "gNoLX8sfm2bL"
      },
      "execution_count": null,
      "outputs": []
    }
  ]
}